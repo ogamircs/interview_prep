{
 "cells": [
  {
   "cell_type": "markdown",
   "metadata": {},
   "source": [
    "## Data Cleaing"
   ]
  },
  {
   "cell_type": "markdown",
   "metadata": {},
   "source": [
    "1. convert all production dimentions to metric (grams, meters, CM)\n",
    "2. Ignore unwanted columns that have only one value, e.g., Online_Order_Type and Online_Order_Type_Desc have value “ONLINE”\n",
    "3. break down data and time columns to add in week number, month number, year, ...\n",
    "4. bring in holidays into the dataset (Black Friday, etc.)"
   ]
  },
  {
   "cell_type": "code",
   "execution_count": 1,
   "metadata": {},
   "outputs": [],
   "source": [
    "import pandas as pd\n",
    "import numpy as np\n",
    "from datetime import datetime\n",
    "import warnings\n",
    "warnings.filterwarnings('ignore')"
   ]
  },
  {
   "cell_type": "code",
   "execution_count": 2,
   "metadata": {},
   "outputs": [],
   "source": [
    "df = pd.read_csv('ds_challenge_data_fixed.csv')"
   ]
  },
  {
   "cell_type": "code",
   "execution_count": null,
   "metadata": {},
   "outputs": [],
   "source": [
    "#output cleared\n",
    "df.sort_values(by=['Hash_Trans_ID'], inplace=False)"
   ]
  },
  {
   "cell_type": "code",
   "execution_count": 4,
   "metadata": {
    "scrolled": true
   },
   "outputs": [
    {
     "data": {
      "text/plain": [
       "Index(['Hash_Trans_ID', 'SKU_ID', 'Transaction_Date_ID', 'Transaction_Hour_ID',\n",
       "       'Online_Order_Type', 'Online_Order_Type_Desc', 'Transaction_Type',\n",
       "       'Transaction_Sales_Type', 'POS_Sales', 'POS_UnitsSold', 'Department_ID',\n",
       "       'Class_ID', 'SubClass_ID', 'SubClass_Desc', 'Product_Weight',\n",
       "       'Product_Weight_Dimension', 'Product_Height', 'Product_Length',\n",
       "       'Product_Width', 'Product_Unit_Dimension', 'Product_Volumn',\n",
       "       'Product_Volumn_Unit', 'PRO'],\n",
       "      dtype='object')"
      ]
     },
     "execution_count": 4,
     "metadata": {},
     "output_type": "execute_result"
    }
   ],
   "source": [
    "df.columns"
   ]
  },
  {
   "cell_type": "markdown",
   "metadata": {},
   "source": [
    "### Cleanup the transaction id"
   ]
  },
  {
   "cell_type": "code",
   "execution_count": null,
   "metadata": {
    "scrolled": true
   },
   "outputs": [],
   "source": [
    "#output cleared\n",
    "df[df['Hash_Trans_ID']=='0006d7dd4c3fd47287aca3bbeb1976cb4edc4a7d']"
   ]
  },
  {
   "cell_type": "code",
   "execution_count": 6,
   "metadata": {},
   "outputs": [],
   "source": [
    "#no need for this anymore\n",
    "#df['Cleaned_Transaction_ID'] = df[['Transaction_ID','Transaction_Date_ID','Transaction_Hour_ID']].apply(\n",
    "#    lambda x: '-'.join(x.astype(str)),\n",
    "#    axis=1\n",
    "#)"
   ]
  },
  {
   "cell_type": "code",
   "execution_count": 7,
   "metadata": {},
   "outputs": [],
   "source": [
    "test1 = df.groupby('Hash_Trans_ID').agg({'PRO': np.min}).reset_index().rename({'PRO': 'MIN_PRO'}, axis=1)\n",
    "test2 = df.groupby('Hash_Trans_ID').agg({'PRO': np.max}).reset_index().rename({'PRO': 'MAX_PRO'}, axis=1)"
   ]
  },
  {
   "cell_type": "code",
   "execution_count": 8,
   "metadata": {},
   "outputs": [],
   "source": [
    "test = pd.merge(test1, test2, how='inner', on = 'Hash_Trans_ID')"
   ]
  },
  {
   "cell_type": "code",
   "execution_count": 9,
   "metadata": {},
   "outputs": [
    {
     "data": {
      "text/html": [
       "<div>\n",
       "<style scoped>\n",
       "    .dataframe tbody tr th:only-of-type {\n",
       "        vertical-align: middle;\n",
       "    }\n",
       "\n",
       "    .dataframe tbody tr th {\n",
       "        vertical-align: top;\n",
       "    }\n",
       "\n",
       "    .dataframe thead th {\n",
       "        text-align: right;\n",
       "    }\n",
       "</style>\n",
       "<table border=\"1\" class=\"dataframe\">\n",
       "  <thead>\n",
       "    <tr style=\"text-align: right;\">\n",
       "      <th></th>\n",
       "      <th>Hash_Trans_ID</th>\n",
       "      <th>MIN_PRO</th>\n",
       "      <th>MAX_PRO</th>\n",
       "    </tr>\n",
       "  </thead>\n",
       "  <tbody>\n",
       "  </tbody>\n",
       "</table>\n",
       "</div>"
      ],
      "text/plain": [
       "Empty DataFrame\n",
       "Columns: [Hash_Trans_ID, MIN_PRO, MAX_PRO]\n",
       "Index: []"
      ]
     },
     "execution_count": 9,
     "metadata": {},
     "output_type": "execute_result"
    }
   ],
   "source": [
    "test[test['MIN_PRO']!=test['MAX_PRO']]"
   ]
  },
  {
   "cell_type": "markdown",
   "metadata": {},
   "source": [
    "Now - with new HashID everything seems to be fine\n",
    "\n",
    "\n",
    "Old - At least seems that PROs are unique for these IDs, but this might create an issue where both PROs are the same but it is actually same transaction happened in a short amount of time from each other"
   ]
  },
  {
   "cell_type": "markdown",
   "metadata": {},
   "source": [
    "### Convert everything to metric"
   ]
  },
  {
   "cell_type": "code",
   "execution_count": 10,
   "metadata": {},
   "outputs": [
    {
     "data": {
      "text/plain": [
       "Index(['Hash_Trans_ID', 'SKU_ID', 'Transaction_Date_ID', 'Transaction_Hour_ID',\n",
       "       'Online_Order_Type', 'Online_Order_Type_Desc', 'Transaction_Type',\n",
       "       'Transaction_Sales_Type', 'POS_Sales', 'POS_UnitsSold', 'Department_ID',\n",
       "       'Class_ID', 'SubClass_ID', 'SubClass_Desc', 'Product_Weight',\n",
       "       'Product_Weight_Dimension', 'Product_Height', 'Product_Length',\n",
       "       'Product_Width', 'Product_Unit_Dimension', 'Product_Volumn',\n",
       "       'Product_Volumn_Unit', 'PRO'],\n",
       "      dtype='object')"
      ]
     },
     "execution_count": 10,
     "metadata": {},
     "output_type": "execute_result"
    }
   ],
   "source": [
    "df.columns"
   ]
  },
  {
   "cell_type": "markdown",
   "metadata": {},
   "source": [
    "#### Prod Weight"
   ]
  },
  {
   "cell_type": "code",
   "execution_count": 11,
   "metadata": {
    "scrolled": true
   },
   "outputs": [
    {
     "data": {
      "text/plain": [
       "LB    316813\n",
       "KG      4989\n",
       "G         34\n",
       "OZ        11\n",
       "Name: Product_Weight_Dimension, dtype: int64"
      ]
     },
     "execution_count": 11,
     "metadata": {},
     "output_type": "execute_result"
    }
   ],
   "source": [
    "df['Product_Weight_Dimension'].value_counts()"
   ]
  },
  {
   "cell_type": "code",
   "execution_count": 12,
   "metadata": {},
   "outputs": [],
   "source": [
    "df['Product_Weight_Grams'] = df[['Product_Weight','Product_Weight_Dimension']].apply(\n",
    "    lambda x: x[0]*1000 if x[1]=='KG' else (x[0]*453.592 if x[1]=='LB' else (x[0]*28.35 if x[1]=='OZ' else x[0])),\n",
    "    axis=1\n",
    ")"
   ]
  },
  {
   "cell_type": "code",
   "execution_count": null,
   "metadata": {
    "scrolled": true
   },
   "outputs": [],
   "source": [
    "#test to see if it worked - cleared\n",
    "df[ (df['Product_Weight_Dimension']=='KG') & (df['Product_Weight']!=0)]"
   ]
  },
  {
   "cell_type": "markdown",
   "metadata": {},
   "source": [
    "#### Prod Volume"
   ]
  },
  {
   "cell_type": "code",
   "execution_count": 14,
   "metadata": {},
   "outputs": [
    {
     "data": {
      "text/plain": [
       "FT3    307703\n",
       "0       14144\n",
       "Name: Product_Volumn_Unit, dtype: int64"
      ]
     },
     "execution_count": 14,
     "metadata": {},
     "output_type": "execute_result"
    }
   ],
   "source": [
    "df['Product_Volumn_Unit'].value_counts()"
   ]
  },
  {
   "cell_type": "code",
   "execution_count": 15,
   "metadata": {},
   "outputs": [],
   "source": [
    "df['Product_Volumn_Metric'] = df[['Product_Volumn','Product_Volumn_Unit']].apply(\n",
    "    lambda x: x[0]*10.764 if x[1]=='FT3' else  x[0],\n",
    "    axis=1\n",
    ")"
   ]
  },
  {
   "cell_type": "markdown",
   "metadata": {},
   "source": [
    "#### Prod Unit Dims"
   ]
  },
  {
   "cell_type": "code",
   "execution_count": 16,
   "metadata": {},
   "outputs": [
    {
     "data": {
      "text/plain": [
       "IN    316841\n",
       "0       5000\n",
       "FT         4\n",
       "CM         2\n",
       "Name: Product_Unit_Dimension, dtype: int64"
      ]
     },
     "execution_count": 16,
     "metadata": {},
     "output_type": "execute_result"
    }
   ],
   "source": [
    "df['Product_Unit_Dimension'].value_counts()"
   ]
  },
  {
   "cell_type": "code",
   "execution_count": 17,
   "metadata": {},
   "outputs": [],
   "source": [
    "df['Product_Height_CM'] = df[['Product_Height','Product_Unit_Dimension']].apply(\n",
    "    lambda x: x[0]*30.48 if x[1]=='FT' else (x[0]*2.54 if x[1]=='IN' else x[0]),\n",
    "    axis=1\n",
    ")"
   ]
  },
  {
   "cell_type": "code",
   "execution_count": 18,
   "metadata": {},
   "outputs": [],
   "source": [
    "df['Product_Length_CM'] = df[['Product_Length','Product_Unit_Dimension']].apply(\n",
    "    lambda x: x[0]*30.48 if x[1]=='FT' else (x[0]*2.54 if x[1]=='IN' else x[0]),\n",
    "    axis=1\n",
    ")"
   ]
  },
  {
   "cell_type": "code",
   "execution_count": 19,
   "metadata": {},
   "outputs": [],
   "source": [
    "df['Product_Width_CM'] = df[['Product_Width','Product_Unit_Dimension']].apply(\n",
    "    lambda x: x[0]*30.48 if x[1]=='FT' else (x[0]*2.54 if x[1]=='IN' else x[0]),\n",
    "    axis=1\n",
    ")"
   ]
  },
  {
   "cell_type": "markdown",
   "metadata": {},
   "source": [
    "## Keep only the columns that are required so far"
   ]
  },
  {
   "cell_type": "code",
   "execution_count": 20,
   "metadata": {
    "scrolled": false
   },
   "outputs": [
    {
     "data": {
      "text/plain": [
       "Index(['Hash_Trans_ID', 'SKU_ID', 'Transaction_Date_ID', 'Transaction_Hour_ID',\n",
       "       'Online_Order_Type', 'Online_Order_Type_Desc', 'Transaction_Type',\n",
       "       'Transaction_Sales_Type', 'POS_Sales', 'POS_UnitsSold', 'Department_ID',\n",
       "       'Class_ID', 'SubClass_ID', 'SubClass_Desc', 'Product_Weight',\n",
       "       'Product_Weight_Dimension', 'Product_Height', 'Product_Length',\n",
       "       'Product_Width', 'Product_Unit_Dimension', 'Product_Volumn',\n",
       "       'Product_Volumn_Unit', 'PRO', 'Product_Weight_Grams',\n",
       "       'Product_Volumn_Metric', 'Product_Height_CM', 'Product_Length_CM',\n",
       "       'Product_Width_CM'],\n",
       "      dtype='object')"
      ]
     },
     "execution_count": 20,
     "metadata": {},
     "output_type": "execute_result"
    }
   ],
   "source": [
    "df.columns"
   ]
  },
  {
   "cell_type": "code",
   "execution_count": 21,
   "metadata": {},
   "outputs": [
    {
     "data": {
      "text/plain": [
       "IN-STORE    321847\n",
       "Name: Online_Order_Type, dtype: int64"
      ]
     },
     "execution_count": 21,
     "metadata": {},
     "output_type": "execute_result"
    }
   ],
   "source": [
    "df['Online_Order_Type'].value_counts()"
   ]
  },
  {
   "cell_type": "code",
   "execution_count": 22,
   "metadata": {},
   "outputs": [
    {
     "data": {
      "text/plain": [
       "IN-STORE    321847\n",
       "Name: Online_Order_Type_Desc, dtype: int64"
      ]
     },
     "execution_count": 22,
     "metadata": {},
     "output_type": "execute_result"
    }
   ],
   "source": [
    "df['Online_Order_Type_Desc'].value_counts()"
   ]
  },
  {
   "cell_type": "code",
   "execution_count": 23,
   "metadata": {},
   "outputs": [],
   "source": [
    "df = df[['Hash_Trans_ID','SKU_ID', 'Transaction_Date_ID', 'Transaction_Hour_ID','Transaction_Type',\\\n",
    "        'Transaction_Sales_Type', 'POS_Sales', 'POS_UnitsSold', 'Department_ID',\\\n",
    "        'Class_ID', 'SubClass_ID', 'SubClass_Desc', 'Product_Weight_Grams', \\\n",
    "        'Product_Height_CM', 'Product_Length_CM','Product_Width_CM', \\\n",
    "         'Product_Volumn_Metric','PRO']]"
   ]
  },
  {
   "cell_type": "code",
   "execution_count": 24,
   "metadata": {},
   "outputs": [
    {
     "data": {
      "text/html": [
       "<div>\n",
       "<style scoped>\n",
       "    .dataframe tbody tr th:only-of-type {\n",
       "        vertical-align: middle;\n",
       "    }\n",
       "\n",
       "    .dataframe tbody tr th {\n",
       "        vertical-align: top;\n",
       "    }\n",
       "\n",
       "    .dataframe thead th {\n",
       "        text-align: right;\n",
       "    }\n",
       "</style>\n",
       "<table border=\"1\" class=\"dataframe\">\n",
       "  <thead>\n",
       "    <tr style=\"text-align: right;\">\n",
       "      <th></th>\n",
       "      <th>SKU_ID</th>\n",
       "      <th>Transaction_Date_ID</th>\n",
       "      <th>Transaction_Hour_ID</th>\n",
       "      <th>POS_Sales</th>\n",
       "      <th>POS_UnitsSold</th>\n",
       "      <th>Department_ID</th>\n",
       "      <th>Class_ID</th>\n",
       "      <th>SubClass_ID</th>\n",
       "      <th>Product_Weight_Grams</th>\n",
       "      <th>Product_Height_CM</th>\n",
       "      <th>Product_Length_CM</th>\n",
       "      <th>Product_Width_CM</th>\n",
       "      <th>Product_Volumn_Metric</th>\n",
       "      <th>PRO</th>\n",
       "    </tr>\n",
       "  </thead>\n",
       "  <tbody>\n",
       "    <tr>\n",
       "      <th>count</th>\n",
       "      <td>321847.000000</td>\n",
       "      <td>3.218470e+05</td>\n",
       "      <td>321847.000000</td>\n",
       "      <td>321847.000000</td>\n",
       "      <td>321847.000000</td>\n",
       "      <td>321847.000000</td>\n",
       "      <td>321847.000000</td>\n",
       "      <td>321847.000000</td>\n",
       "      <td>3.218470e+05</td>\n",
       "      <td>321847.000000</td>\n",
       "      <td>321847.000000</td>\n",
       "      <td>321847.000000</td>\n",
       "      <td>321847.000000</td>\n",
       "      <td>321847.000000</td>\n",
       "    </tr>\n",
       "    <tr>\n",
       "      <th>mean</th>\n",
       "      <td>170075.000251</td>\n",
       "      <td>2.014561e+07</td>\n",
       "      <td>133308.478174</td>\n",
       "      <td>286.996263</td>\n",
       "      <td>3.508021</td>\n",
       "      <td>26.010691</td>\n",
       "      <td>2144.219135</td>\n",
       "      <td>11090.473119</td>\n",
       "      <td>3.448497e+03</td>\n",
       "      <td>42.091758</td>\n",
       "      <td>38.152380</td>\n",
       "      <td>68.614179</td>\n",
       "      <td>8.706062</td>\n",
       "      <td>0.521614</td>\n",
       "    </tr>\n",
       "    <tr>\n",
       "      <th>std</th>\n",
       "      <td>46.324207</td>\n",
       "      <td>6.927640e+03</td>\n",
       "      <td>34878.750918</td>\n",
       "      <td>1797.485359</td>\n",
       "      <td>26.829688</td>\n",
       "      <td>7.501665</td>\n",
       "      <td>87.283612</td>\n",
       "      <td>762.115505</td>\n",
       "      <td>1.075314e+04</td>\n",
       "      <td>367.240360</td>\n",
       "      <td>72.545995</td>\n",
       "      <td>1784.488903</td>\n",
       "      <td>147.264807</td>\n",
       "      <td>0.499533</td>\n",
       "    </tr>\n",
       "    <tr>\n",
       "      <th>min</th>\n",
       "      <td>170017.016500</td>\n",
       "      <td>2.013051e+07</td>\n",
       "      <td>52032.000000</td>\n",
       "      <td>-84000.000000</td>\n",
       "      <td>-2000.000000</td>\n",
       "      <td>11.000000</td>\n",
       "      <td>2001.000000</td>\n",
       "      <td>10001.000000</td>\n",
       "      <td>0.000000e+00</td>\n",
       "      <td>0.000000</td>\n",
       "      <td>0.000000</td>\n",
       "      <td>0.000000</td>\n",
       "      <td>0.000000</td>\n",
       "      <td>0.000000</td>\n",
       "    </tr>\n",
       "    <tr>\n",
       "      <th>25%</th>\n",
       "      <td>170024.639800</td>\n",
       "      <td>2.014082e+07</td>\n",
       "      <td>104048.000000</td>\n",
       "      <td>31.740000</td>\n",
       "      <td>1.000000</td>\n",
       "      <td>24.000000</td>\n",
       "      <td>2086.000000</td>\n",
       "      <td>10554.000000</td>\n",
       "      <td>0.000000e+00</td>\n",
       "      <td>2.540000</td>\n",
       "      <td>2.540000</td>\n",
       "      <td>5.080000</td>\n",
       "      <td>0.000000</td>\n",
       "      <td>0.000000</td>\n",
       "    </tr>\n",
       "    <tr>\n",
       "      <th>50%</th>\n",
       "      <td>170072.638800</td>\n",
       "      <td>2.015032e+07</td>\n",
       "      <td>131635.000000</td>\n",
       "      <td>81.720000</td>\n",
       "      <td>1.000000</td>\n",
       "      <td>25.000000</td>\n",
       "      <td>2123.000000</td>\n",
       "      <td>10866.000000</td>\n",
       "      <td>4.535920e+02</td>\n",
       "      <td>10.160000</td>\n",
       "      <td>10.160000</td>\n",
       "      <td>10.160000</td>\n",
       "      <td>0.000000</td>\n",
       "      <td>1.000000</td>\n",
       "    </tr>\n",
       "    <tr>\n",
       "      <th>75%</th>\n",
       "      <td>170121.466500</td>\n",
       "      <td>2.015072e+07</td>\n",
       "      <td>160242.500000</td>\n",
       "      <td>215.640000</td>\n",
       "      <td>2.000000</td>\n",
       "      <td>27.000000</td>\n",
       "      <td>2202.000000</td>\n",
       "      <td>11463.000000</td>\n",
       "      <td>1.814368e+03</td>\n",
       "      <td>20.320000</td>\n",
       "      <td>30.480000</td>\n",
       "      <td>20.320000</td>\n",
       "      <td>0.000000</td>\n",
       "      <td>1.000000</td>\n",
       "    </tr>\n",
       "    <tr>\n",
       "      <th>max</th>\n",
       "      <td>170169.996300</td>\n",
       "      <td>2.015123e+07</td>\n",
       "      <td>234944.000000</td>\n",
       "      <td>545225.340000</td>\n",
       "      <td>3456.000000</td>\n",
       "      <td>78.000000</td>\n",
       "      <td>2417.000000</td>\n",
       "      <td>13043.000000</td>\n",
       "      <td>1.360776e+06</td>\n",
       "      <td>21752.560000</td>\n",
       "      <td>3078.480000</td>\n",
       "      <td>201391.520000</td>\n",
       "      <td>39256.308000</td>\n",
       "      <td>1.000000</td>\n",
       "    </tr>\n",
       "  </tbody>\n",
       "</table>\n",
       "</div>"
      ],
      "text/plain": [
       "              SKU_ID  Transaction_Date_ID  Transaction_Hour_ID      POS_Sales  \\\n",
       "count  321847.000000         3.218470e+05        321847.000000  321847.000000   \n",
       "mean   170075.000251         2.014561e+07        133308.478174     286.996263   \n",
       "std        46.324207         6.927640e+03         34878.750918    1797.485359   \n",
       "min    170017.016500         2.013051e+07         52032.000000  -84000.000000   \n",
       "25%    170024.639800         2.014082e+07        104048.000000      31.740000   \n",
       "50%    170072.638800         2.015032e+07        131635.000000      81.720000   \n",
       "75%    170121.466500         2.015072e+07        160242.500000     215.640000   \n",
       "max    170169.996300         2.015123e+07        234944.000000  545225.340000   \n",
       "\n",
       "       POS_UnitsSold  Department_ID       Class_ID    SubClass_ID  \\\n",
       "count  321847.000000  321847.000000  321847.000000  321847.000000   \n",
       "mean        3.508021      26.010691    2144.219135   11090.473119   \n",
       "std        26.829688       7.501665      87.283612     762.115505   \n",
       "min     -2000.000000      11.000000    2001.000000   10001.000000   \n",
       "25%         1.000000      24.000000    2086.000000   10554.000000   \n",
       "50%         1.000000      25.000000    2123.000000   10866.000000   \n",
       "75%         2.000000      27.000000    2202.000000   11463.000000   \n",
       "max      3456.000000      78.000000    2417.000000   13043.000000   \n",
       "\n",
       "       Product_Weight_Grams  Product_Height_CM  Product_Length_CM  \\\n",
       "count          3.218470e+05      321847.000000      321847.000000   \n",
       "mean           3.448497e+03          42.091758          38.152380   \n",
       "std            1.075314e+04         367.240360          72.545995   \n",
       "min            0.000000e+00           0.000000           0.000000   \n",
       "25%            0.000000e+00           2.540000           2.540000   \n",
       "50%            4.535920e+02          10.160000          10.160000   \n",
       "75%            1.814368e+03          20.320000          30.480000   \n",
       "max            1.360776e+06       21752.560000        3078.480000   \n",
       "\n",
       "       Product_Width_CM  Product_Volumn_Metric            PRO  \n",
       "count     321847.000000          321847.000000  321847.000000  \n",
       "mean          68.614179               8.706062       0.521614  \n",
       "std         1784.488903             147.264807       0.499533  \n",
       "min            0.000000               0.000000       0.000000  \n",
       "25%            5.080000               0.000000       0.000000  \n",
       "50%           10.160000               0.000000       1.000000  \n",
       "75%           20.320000               0.000000       1.000000  \n",
       "max       201391.520000           39256.308000       1.000000  "
      ]
     },
     "execution_count": 24,
     "metadata": {},
     "output_type": "execute_result"
    }
   ],
   "source": [
    "df.describe()"
   ]
  },
  {
   "cell_type": "code",
   "execution_count": 25,
   "metadata": {},
   "outputs": [
    {
     "data": {
      "text/plain": [
       "Hash_Trans_ID              object\n",
       "SKU_ID                    float64\n",
       "Transaction_Date_ID         int64\n",
       "Transaction_Hour_ID         int64\n",
       "Transaction_Type           object\n",
       "Transaction_Sales_Type     object\n",
       "POS_Sales                 float64\n",
       "POS_UnitsSold             float64\n",
       "Department_ID               int64\n",
       "Class_ID                    int64\n",
       "SubClass_ID                 int64\n",
       "SubClass_Desc              object\n",
       "Product_Weight_Grams      float64\n",
       "Product_Height_CM         float64\n",
       "Product_Length_CM         float64\n",
       "Product_Width_CM          float64\n",
       "Product_Volumn_Metric     float64\n",
       "PRO                         int64\n",
       "dtype: object"
      ]
     },
     "execution_count": 25,
     "metadata": {},
     "output_type": "execute_result"
    }
   ],
   "source": [
    "df.dtypes"
   ]
  },
  {
   "cell_type": "markdown",
   "metadata": {},
   "source": [
    "## Cleanup Date and Time Columns"
   ]
  },
  {
   "cell_type": "code",
   "execution_count": 26,
   "metadata": {},
   "outputs": [],
   "source": [
    "df['Transaction_Year'] = df.Transaction_Date_ID.astype(str).str.slice(0,4).astype(int)"
   ]
  },
  {
   "cell_type": "code",
   "execution_count": 27,
   "metadata": {},
   "outputs": [],
   "source": [
    "df['Transaction_Month'] = df.Transaction_Date_ID.astype(str).str.slice(4,6).astype(int)"
   ]
  },
  {
   "cell_type": "code",
   "execution_count": 28,
   "metadata": {
    "scrolled": true
   },
   "outputs": [],
   "source": [
    "df['Transaction_Day'] = df.Transaction_Date_ID.astype(str).str.slice(6,8).astype(int)"
   ]
  },
  {
   "cell_type": "markdown",
   "metadata": {},
   "source": [
    "#### break down the time column"
   ]
  },
  {
   "cell_type": "code",
   "execution_count": 29,
   "metadata": {},
   "outputs": [],
   "source": [
    "df['Transaction_Time'] = df['Transaction_Hour_ID'].astype(str).apply(\n",
    "    lambda x: '{0:0>6}'.format(x)\n",
    ")"
   ]
  },
  {
   "cell_type": "code",
   "execution_count": 30,
   "metadata": {},
   "outputs": [],
   "source": [
    "df['Transaction_Hour'] = df.Transaction_Time.astype(str).str.slice(0,2).astype(int)"
   ]
  },
  {
   "cell_type": "code",
   "execution_count": 31,
   "metadata": {},
   "outputs": [],
   "source": [
    "df['Transaction_Min'] = df.Transaction_Time.astype(str).str.slice(2,4).astype(int)"
   ]
  },
  {
   "cell_type": "code",
   "execution_count": 32,
   "metadata": {},
   "outputs": [],
   "source": [
    "df['Transaction_Sec'] = df.Transaction_Time.astype(str).str.slice(4,6).astype(int)"
   ]
  },
  {
   "cell_type": "code",
   "execution_count": 33,
   "metadata": {},
   "outputs": [
    {
     "data": {
      "text/html": [
       "<div>\n",
       "<style scoped>\n",
       "    .dataframe tbody tr th:only-of-type {\n",
       "        vertical-align: middle;\n",
       "    }\n",
       "\n",
       "    .dataframe tbody tr th {\n",
       "        vertical-align: top;\n",
       "    }\n",
       "\n",
       "    .dataframe thead th {\n",
       "        text-align: right;\n",
       "    }\n",
       "</style>\n",
       "<table border=\"1\" class=\"dataframe\">\n",
       "  <thead>\n",
       "    <tr style=\"text-align: right;\">\n",
       "      <th></th>\n",
       "      <th>SKU_ID</th>\n",
       "      <th>Transaction_Date_ID</th>\n",
       "      <th>Transaction_Hour_ID</th>\n",
       "      <th>POS_Sales</th>\n",
       "      <th>POS_UnitsSold</th>\n",
       "      <th>Department_ID</th>\n",
       "      <th>Class_ID</th>\n",
       "      <th>SubClass_ID</th>\n",
       "      <th>Product_Weight_Grams</th>\n",
       "      <th>Product_Height_CM</th>\n",
       "      <th>Product_Length_CM</th>\n",
       "      <th>Product_Width_CM</th>\n",
       "      <th>Product_Volumn_Metric</th>\n",
       "      <th>PRO</th>\n",
       "      <th>Transaction_Year</th>\n",
       "      <th>Transaction_Month</th>\n",
       "      <th>Transaction_Day</th>\n",
       "      <th>Transaction_Hour</th>\n",
       "      <th>Transaction_Min</th>\n",
       "      <th>Transaction_Sec</th>\n",
       "    </tr>\n",
       "  </thead>\n",
       "  <tbody>\n",
       "    <tr>\n",
       "      <th>count</th>\n",
       "      <td>321847.000000</td>\n",
       "      <td>3.218470e+05</td>\n",
       "      <td>321847.000000</td>\n",
       "      <td>321847.000000</td>\n",
       "      <td>321847.000000</td>\n",
       "      <td>321847.000000</td>\n",
       "      <td>321847.000000</td>\n",
       "      <td>321847.000000</td>\n",
       "      <td>3.218470e+05</td>\n",
       "      <td>321847.000000</td>\n",
       "      <td>321847.000000</td>\n",
       "      <td>321847.000000</td>\n",
       "      <td>321847.000000</td>\n",
       "      <td>321847.000000</td>\n",
       "      <td>321847.000000</td>\n",
       "      <td>321847.000000</td>\n",
       "      <td>321847.000000</td>\n",
       "      <td>321847.000000</td>\n",
       "      <td>321847.000000</td>\n",
       "      <td>321847.000000</td>\n",
       "    </tr>\n",
       "    <tr>\n",
       "      <th>mean</th>\n",
       "      <td>170075.000251</td>\n",
       "      <td>2.014561e+07</td>\n",
       "      <td>133308.478174</td>\n",
       "      <td>286.996263</td>\n",
       "      <td>3.508021</td>\n",
       "      <td>26.010691</td>\n",
       "      <td>2144.219135</td>\n",
       "      <td>11090.473119</td>\n",
       "      <td>3.448497e+03</td>\n",
       "      <td>42.091758</td>\n",
       "      <td>38.152380</td>\n",
       "      <td>68.614179</td>\n",
       "      <td>8.706062</td>\n",
       "      <td>0.521614</td>\n",
       "      <td>2014.489667</td>\n",
       "      <td>6.996952</td>\n",
       "      <td>15.853607</td>\n",
       "      <td>13.029197</td>\n",
       "      <td>29.870392</td>\n",
       "      <td>29.467961</td>\n",
       "    </tr>\n",
       "    <tr>\n",
       "      <th>std</th>\n",
       "      <td>46.324207</td>\n",
       "      <td>6.927640e+03</td>\n",
       "      <td>34878.750918</td>\n",
       "      <td>1797.485359</td>\n",
       "      <td>26.829688</td>\n",
       "      <td>7.501665</td>\n",
       "      <td>87.283612</td>\n",
       "      <td>762.115505</td>\n",
       "      <td>1.075314e+04</td>\n",
       "      <td>367.240360</td>\n",
       "      <td>72.545995</td>\n",
       "      <td>1784.488903</td>\n",
       "      <td>147.264807</td>\n",
       "      <td>0.499533</td>\n",
       "      <td>0.700042</td>\n",
       "      <td>3.316466</td>\n",
       "      <td>8.777957</td>\n",
       "      <td>3.498879</td>\n",
       "      <td>17.307577</td>\n",
       "      <td>17.319502</td>\n",
       "    </tr>\n",
       "    <tr>\n",
       "      <th>min</th>\n",
       "      <td>170017.016500</td>\n",
       "      <td>2.013051e+07</td>\n",
       "      <td>52032.000000</td>\n",
       "      <td>-84000.000000</td>\n",
       "      <td>-2000.000000</td>\n",
       "      <td>11.000000</td>\n",
       "      <td>2001.000000</td>\n",
       "      <td>10001.000000</td>\n",
       "      <td>0.000000e+00</td>\n",
       "      <td>0.000000</td>\n",
       "      <td>0.000000</td>\n",
       "      <td>0.000000</td>\n",
       "      <td>0.000000</td>\n",
       "      <td>0.000000</td>\n",
       "      <td>2013.000000</td>\n",
       "      <td>1.000000</td>\n",
       "      <td>1.000000</td>\n",
       "      <td>5.000000</td>\n",
       "      <td>0.000000</td>\n",
       "      <td>0.000000</td>\n",
       "    </tr>\n",
       "    <tr>\n",
       "      <th>25%</th>\n",
       "      <td>170024.639800</td>\n",
       "      <td>2.014082e+07</td>\n",
       "      <td>104048.000000</td>\n",
       "      <td>31.740000</td>\n",
       "      <td>1.000000</td>\n",
       "      <td>24.000000</td>\n",
       "      <td>2086.000000</td>\n",
       "      <td>10554.000000</td>\n",
       "      <td>0.000000e+00</td>\n",
       "      <td>2.540000</td>\n",
       "      <td>2.540000</td>\n",
       "      <td>5.080000</td>\n",
       "      <td>0.000000</td>\n",
       "      <td>0.000000</td>\n",
       "      <td>2014.000000</td>\n",
       "      <td>4.000000</td>\n",
       "      <td>8.000000</td>\n",
       "      <td>10.000000</td>\n",
       "      <td>15.000000</td>\n",
       "      <td>14.000000</td>\n",
       "    </tr>\n",
       "    <tr>\n",
       "      <th>50%</th>\n",
       "      <td>170072.638800</td>\n",
       "      <td>2.015032e+07</td>\n",
       "      <td>131635.000000</td>\n",
       "      <td>81.720000</td>\n",
       "      <td>1.000000</td>\n",
       "      <td>25.000000</td>\n",
       "      <td>2123.000000</td>\n",
       "      <td>10866.000000</td>\n",
       "      <td>4.535920e+02</td>\n",
       "      <td>10.160000</td>\n",
       "      <td>10.160000</td>\n",
       "      <td>10.160000</td>\n",
       "      <td>0.000000</td>\n",
       "      <td>1.000000</td>\n",
       "      <td>2015.000000</td>\n",
       "      <td>7.000000</td>\n",
       "      <td>16.000000</td>\n",
       "      <td>13.000000</td>\n",
       "      <td>30.000000</td>\n",
       "      <td>29.000000</td>\n",
       "    </tr>\n",
       "    <tr>\n",
       "      <th>75%</th>\n",
       "      <td>170121.466500</td>\n",
       "      <td>2.015072e+07</td>\n",
       "      <td>160242.500000</td>\n",
       "      <td>215.640000</td>\n",
       "      <td>2.000000</td>\n",
       "      <td>27.000000</td>\n",
       "      <td>2202.000000</td>\n",
       "      <td>11463.000000</td>\n",
       "      <td>1.814368e+03</td>\n",
       "      <td>20.320000</td>\n",
       "      <td>30.480000</td>\n",
       "      <td>20.320000</td>\n",
       "      <td>0.000000</td>\n",
       "      <td>1.000000</td>\n",
       "      <td>2015.000000</td>\n",
       "      <td>10.000000</td>\n",
       "      <td>23.000000</td>\n",
       "      <td>16.000000</td>\n",
       "      <td>45.000000</td>\n",
       "      <td>44.000000</td>\n",
       "    </tr>\n",
       "    <tr>\n",
       "      <th>max</th>\n",
       "      <td>170169.996300</td>\n",
       "      <td>2.015123e+07</td>\n",
       "      <td>234944.000000</td>\n",
       "      <td>545225.340000</td>\n",
       "      <td>3456.000000</td>\n",
       "      <td>78.000000</td>\n",
       "      <td>2417.000000</td>\n",
       "      <td>13043.000000</td>\n",
       "      <td>1.360776e+06</td>\n",
       "      <td>21752.560000</td>\n",
       "      <td>3078.480000</td>\n",
       "      <td>201391.520000</td>\n",
       "      <td>39256.308000</td>\n",
       "      <td>1.000000</td>\n",
       "      <td>2015.000000</td>\n",
       "      <td>12.000000</td>\n",
       "      <td>31.000000</td>\n",
       "      <td>23.000000</td>\n",
       "      <td>59.000000</td>\n",
       "      <td>59.000000</td>\n",
       "    </tr>\n",
       "  </tbody>\n",
       "</table>\n",
       "</div>"
      ],
      "text/plain": [
       "              SKU_ID  Transaction_Date_ID  Transaction_Hour_ID      POS_Sales  \\\n",
       "count  321847.000000         3.218470e+05        321847.000000  321847.000000   \n",
       "mean   170075.000251         2.014561e+07        133308.478174     286.996263   \n",
       "std        46.324207         6.927640e+03         34878.750918    1797.485359   \n",
       "min    170017.016500         2.013051e+07         52032.000000  -84000.000000   \n",
       "25%    170024.639800         2.014082e+07        104048.000000      31.740000   \n",
       "50%    170072.638800         2.015032e+07        131635.000000      81.720000   \n",
       "75%    170121.466500         2.015072e+07        160242.500000     215.640000   \n",
       "max    170169.996300         2.015123e+07        234944.000000  545225.340000   \n",
       "\n",
       "       POS_UnitsSold  Department_ID       Class_ID    SubClass_ID  \\\n",
       "count  321847.000000  321847.000000  321847.000000  321847.000000   \n",
       "mean        3.508021      26.010691    2144.219135   11090.473119   \n",
       "std        26.829688       7.501665      87.283612     762.115505   \n",
       "min     -2000.000000      11.000000    2001.000000   10001.000000   \n",
       "25%         1.000000      24.000000    2086.000000   10554.000000   \n",
       "50%         1.000000      25.000000    2123.000000   10866.000000   \n",
       "75%         2.000000      27.000000    2202.000000   11463.000000   \n",
       "max      3456.000000      78.000000    2417.000000   13043.000000   \n",
       "\n",
       "       Product_Weight_Grams  Product_Height_CM  Product_Length_CM  \\\n",
       "count          3.218470e+05      321847.000000      321847.000000   \n",
       "mean           3.448497e+03          42.091758          38.152380   \n",
       "std            1.075314e+04         367.240360          72.545995   \n",
       "min            0.000000e+00           0.000000           0.000000   \n",
       "25%            0.000000e+00           2.540000           2.540000   \n",
       "50%            4.535920e+02          10.160000          10.160000   \n",
       "75%            1.814368e+03          20.320000          30.480000   \n",
       "max            1.360776e+06       21752.560000        3078.480000   \n",
       "\n",
       "       Product_Width_CM  Product_Volumn_Metric            PRO  \\\n",
       "count     321847.000000          321847.000000  321847.000000   \n",
       "mean          68.614179               8.706062       0.521614   \n",
       "std         1784.488903             147.264807       0.499533   \n",
       "min            0.000000               0.000000       0.000000   \n",
       "25%            5.080000               0.000000       0.000000   \n",
       "50%           10.160000               0.000000       1.000000   \n",
       "75%           20.320000               0.000000       1.000000   \n",
       "max       201391.520000           39256.308000       1.000000   \n",
       "\n",
       "       Transaction_Year  Transaction_Month  Transaction_Day  Transaction_Hour  \\\n",
       "count     321847.000000      321847.000000    321847.000000     321847.000000   \n",
       "mean        2014.489667           6.996952        15.853607         13.029197   \n",
       "std            0.700042           3.316466         8.777957          3.498879   \n",
       "min         2013.000000           1.000000         1.000000          5.000000   \n",
       "25%         2014.000000           4.000000         8.000000         10.000000   \n",
       "50%         2015.000000           7.000000        16.000000         13.000000   \n",
       "75%         2015.000000          10.000000        23.000000         16.000000   \n",
       "max         2015.000000          12.000000        31.000000         23.000000   \n",
       "\n",
       "       Transaction_Min  Transaction_Sec  \n",
       "count    321847.000000    321847.000000  \n",
       "mean         29.870392        29.467961  \n",
       "std          17.307577        17.319502  \n",
       "min           0.000000         0.000000  \n",
       "25%          15.000000        14.000000  \n",
       "50%          30.000000        29.000000  \n",
       "75%          45.000000        44.000000  \n",
       "max          59.000000        59.000000  "
      ]
     },
     "execution_count": 33,
     "metadata": {},
     "output_type": "execute_result"
    }
   ],
   "source": [
    "df.describe()"
   ]
  },
  {
   "cell_type": "code",
   "execution_count": 34,
   "metadata": {},
   "outputs": [],
   "source": [
    "df['Transaction_Date']=df[['Transaction_Year','Transaction_Month','Transaction_Day','Transaction_Hour','Transaction_Min','Transaction_Sec']].apply(\n",
    "    lambda x: datetime(x[0],x[1],x[2],x[3],x[4],x[5]),\n",
    "    axis=1\n",
    ")"
   ]
  },
  {
   "cell_type": "code",
   "execution_count": 35,
   "metadata": {},
   "outputs": [],
   "source": [
    "df['Transaction_Date'] = pd.to_datetime(df['Transaction_Date'])"
   ]
  },
  {
   "cell_type": "code",
   "execution_count": 36,
   "metadata": {},
   "outputs": [],
   "source": [
    "df['Transaction_Day_of_Week'] = df['Transaction_Date'].dt.dayofweek"
   ]
  },
  {
   "cell_type": "code",
   "execution_count": 37,
   "metadata": {},
   "outputs": [],
   "source": [
    "df['Transaction_Week'] = df['Transaction_Date'].dt.weekofyear"
   ]
  },
  {
   "cell_type": "code",
   "execution_count": 38,
   "metadata": {},
   "outputs": [],
   "source": [
    "df['Transaction_Day_of_Year'] = df['Transaction_Date'].dt.dayofyear"
   ]
  },
  {
   "cell_type": "markdown",
   "metadata": {},
   "source": [
    "### Add in Holidays to the dataset"
   ]
  },
  {
   "cell_type": "code",
   "execution_count": 39,
   "metadata": {},
   "outputs": [],
   "source": [
    "from datetime import date \n",
    "import holidays"
   ]
  },
  {
   "cell_type": "code",
   "execution_count": 40,
   "metadata": {},
   "outputs": [],
   "source": [
    "hldy = holidays.Canada()"
   ]
  },
  {
   "cell_type": "code",
   "execution_count": 41,
   "metadata": {},
   "outputs": [],
   "source": [
    "df['holiday_nm'] = df['Transaction_Date'].apply(lambda x: hldy.get(x))"
   ]
  },
  {
   "cell_type": "code",
   "execution_count": 42,
   "metadata": {},
   "outputs": [
    {
     "data": {
      "text/plain": [
       "Index(['Hash_Trans_ID', 'SKU_ID', 'Transaction_Date_ID', 'Transaction_Hour_ID',\n",
       "       'Transaction_Type', 'Transaction_Sales_Type', 'POS_Sales',\n",
       "       'POS_UnitsSold', 'Department_ID', 'Class_ID', 'SubClass_ID',\n",
       "       'SubClass_Desc', 'Product_Weight_Grams', 'Product_Height_CM',\n",
       "       'Product_Length_CM', 'Product_Width_CM', 'Product_Volumn_Metric', 'PRO',\n",
       "       'Transaction_Year', 'Transaction_Month', 'Transaction_Day',\n",
       "       'Transaction_Time', 'Transaction_Hour', 'Transaction_Min',\n",
       "       'Transaction_Sec', 'Transaction_Date', 'Transaction_Day_of_Week',\n",
       "       'Transaction_Week', 'Transaction_Day_of_Year', 'holiday_nm'],\n",
       "      dtype='object')"
      ]
     },
     "execution_count": 42,
     "metadata": {},
     "output_type": "execute_result"
    }
   ],
   "source": [
    "df.columns"
   ]
  },
  {
   "cell_type": "code",
   "execution_count": 43,
   "metadata": {},
   "outputs": [],
   "source": [
    "df = df[['Hash_Trans_ID','SKU_ID', 'Transaction_Date', 'Transaction_Year', 'Transaction_Month', 'Transaction_Day',\\\n",
    "         'Transaction_Hour','Transaction_Min', 'Transaction_Sec','Transaction_Day_of_Week',\\\n",
    "       'Transaction_Week', 'Transaction_Day_of_Year','holiday_nm','Transaction_Type',\\\n",
    "        'Transaction_Sales_Type', 'POS_Sales', 'POS_UnitsSold', 'Department_ID',\\\n",
    "        'Class_ID', 'SubClass_ID', 'SubClass_Desc', 'Product_Weight_Grams', \\\n",
    "        'Product_Height_CM', 'Product_Length_CM','Product_Width_CM', \\\n",
    "         'Product_Volumn_Metric','PRO']]"
   ]
  },
  {
   "cell_type": "code",
   "execution_count": 44,
   "metadata": {},
   "outputs": [],
   "source": [
    "df.to_csv('ds_challenge_data_cleaned.csv', index=False)"
   ]
  },
  {
   "cell_type": "code",
   "execution_count": null,
   "metadata": {},
   "outputs": [],
   "source": []
  }
 ],
 "metadata": {
  "kernelspec": {
   "display_name": "Python 3",
   "language": "python",
   "name": "python3"
  },
  "language_info": {
   "codemirror_mode": {
    "name": "ipython",
    "version": 3
   },
   "file_extension": ".py",
   "mimetype": "text/x-python",
   "name": "python",
   "nbconvert_exporter": "python",
   "pygments_lexer": "ipython3",
   "version": "3.7.4"
  }
 },
 "nbformat": 4,
 "nbformat_minor": 2
}
