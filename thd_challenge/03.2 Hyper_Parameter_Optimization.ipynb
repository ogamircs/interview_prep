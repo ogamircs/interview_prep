{
 "cells": [
  {
   "cell_type": "code",
   "execution_count": 1,
   "metadata": {},
   "outputs": [],
   "source": [
    "#Import libraries:\n",
    "import pandas as pd\n",
    "import numpy as np\n",
    "import xgboost as xgb\n",
    "from xgboost.sklearn import XGBClassifier\n",
    "from sklearn.model_selection import cross_validate\n",
    "from sklearn import metrics\n",
    "import matplotlib.pylab as plt\n",
    "%matplotlib inline\n",
    "from matplotlib.pylab import rcParams\n",
    "rcParams['figure.figsize'] = 12, 4\n",
    "\n",
    "import warnings\n",
    "warnings.filterwarnings('ignore')"
   ]
  },
  {
   "cell_type": "code",
   "execution_count": 2,
   "metadata": {},
   "outputs": [],
   "source": [
    "df = pd.read_csv('ds_challenge_data_final.csv',sep='\\t')\n",
    "#df.fillna(0, inplace = True)\n",
    "#df.fillna(\"none\", inplace = True)\n",
    "#df = df.sample(frac=0.05)\n"
   ]
  },
  {
   "cell_type": "code",
   "execution_count": 3,
   "metadata": {},
   "outputs": [],
   "source": [
    "df['holiday_nm'] = df['holiday_nm'].apply(lambda x: 'none' if ((str(x).strip()=='0') | (x==0)) else x)"
   ]
  },
  {
   "cell_type": "code",
   "execution_count": 4,
   "metadata": {},
   "outputs": [],
   "source": [
    "target = 'PRO'\n",
    "cols_to_drop = ['Transaction_Date','Hash_Trans_ID','PRO' ]\n",
    "cat_cols = ['holiday_nm']\n",
    "df = pd.get_dummies(data=df, columns = cat_cols)"
   ]
  },
  {
   "cell_type": "code",
   "execution_count": 5,
   "metadata": {},
   "outputs": [],
   "source": [
    "df_train = df[df['Transaction_Year'] < 2015]\n",
    "train_targets = df_train['PRO'].as_matrix().astype('float32')\n",
    "train_data = df_train.drop(cols_to_drop, axis=1, inplace=False).as_matrix().astype('float32')\n",
    "df_test = df[df['Transaction_Year'] == 2015]\n",
    "test_targets = df_test['PRO'].as_matrix().astype('float32')\n",
    "test_data = df_test.drop(cols_to_drop, axis=1, inplace=False).as_matrix().astype('float32')"
   ]
  },
  {
   "cell_type": "markdown",
   "metadata": {},
   "source": [
    "### Crossvalidation training/testing"
   ]
  },
  {
   "cell_type": "code",
   "execution_count": 48,
   "metadata": {},
   "outputs": [],
   "source": [
    "def modelfit(alg, dtrain, dtest, predictors,useTrainCV=True, cv_folds=5, early_stopping_rounds=50):\n",
    "    \n",
    "    if useTrainCV:\n",
    "        xgb_param = alg.get_xgb_params()\n",
    "        xgtrain = xgb.DMatrix(dtrain[predictors].values, label=dtrain[target].values)\n",
    "        cvresult = xgb.cv(xgb_param, xgtrain, num_boost_round=alg.get_params()['n_estimators'], nfold=cv_folds,\n",
    "            metrics='auc', early_stopping_rounds=early_stopping_rounds)\n",
    "        alg.set_params(n_estimators=cvresult.shape[0])\n",
    "    \n",
    "    #Fit the algorithm on the data\n",
    "    alg.fit(dtrain[predictors], dtrain[target],eval_metric='auc')\n",
    "        \n",
    "    #Predict training set:\n",
    "    dtrain_predictions = alg.predict(dtrain[predictors])\n",
    "    dtrain_predprob = alg.predict_proba(dtrain[predictors])[:,1]\n",
    "    dtest_predictions = alg.predict(dtest[predictors])\n",
    "    dtest_predprob = alg.predict_proba(dtest[predictors])[:,1]\n",
    "        \n",
    "    #Print model report:\n",
    "    print(\"Accuracy  (Train): %.4g\" % metrics.accuracy_score(dtrain[target].values, dtrain_predictions))\n",
    "    print(\"AUC Score (Train): %f\" % metrics.roc_auc_score(dtrain[target], dtrain_predprob))\n",
    "    print(\"Accuracy  (Test): %.4g\" % metrics.accuracy_score(dtest[target].values, dtest_predictions))\n",
    "    print(\"AUC Score (Test): %f\" % metrics.roc_auc_score(dtest[target], dtest_predprob))"
   ]
  },
  {
   "cell_type": "markdown",
   "metadata": {},
   "source": [
    "### get the baseline"
   ]
  },
  {
   "cell_type": "code",
   "execution_count": 49,
   "metadata": {},
   "outputs": [],
   "source": [
    "predictors = [x for x in df_train.columns if x not in cols_to_drop]"
   ]
  },
  {
   "cell_type": "code",
   "execution_count": 50,
   "metadata": {
    "scrolled": true
   },
   "outputs": [
    {
     "name": "stdout",
     "output_type": "stream",
     "text": [
      "Accuracy  (Train): 0.6972\n",
      "AUC Score (Train): 0.711693\n",
      "Accuracy  (Test): 0.611\n",
      "AUC Score (Test): 0.712133\n"
     ]
    }
   ],
   "source": [
    "xgb1 = xgb.XGBClassifier(max_depth=2, min_child_weight=1, learning_rate=0.2, n_estimators=100, verbosity=1, n_jobs=-1)\n",
    "modelfit(xgb1, df_train, df_test, predictors)"
   ]
  },
  {
   "cell_type": "markdown",
   "metadata": {},
   "source": [
    "## Tune Max_Depth and Min_Child_Weight"
   ]
  },
  {
   "cell_type": "code",
   "execution_count": 86,
   "metadata": {},
   "outputs": [
    {
     "name": "stdout",
     "output_type": "stream",
     "text": [
      "Max Depth: 2 Min Child Weight: 1\n",
      "Accuracy  (Train): 0.6981\n",
      "AUC Score (Train): 0.717564\n",
      "Accuracy  (Test): 0.6024\n",
      "AUC Score (Test): 0.711162\n",
      "Max Depth: 2 Min Child Weight: 2\n",
      "Accuracy  (Train): 0.6982\n",
      "AUC Score (Train): 0.717187\n",
      "Accuracy  (Test): 0.6054\n",
      "AUC Score (Test): 0.710551\n",
      "Max Depth: 2 Min Child Weight: 3\n",
      "Accuracy  (Train): 0.6983\n",
      "AUC Score (Train): 0.717304\n",
      "Accuracy  (Test): 0.6021\n",
      "AUC Score (Test): 0.710533\n",
      "Max Depth: 2 Min Child Weight: 4\n",
      "Accuracy  (Train): 0.6973\n",
      "AUC Score (Train): 0.717515\n",
      "Accuracy  (Test): 0.6019\n",
      "AUC Score (Test): 0.710653\n",
      "Max Depth: 2 Min Child Weight: 5\n",
      "Accuracy  (Train): 0.6975\n",
      "AUC Score (Train): 0.717723\n",
      "Accuracy  (Test): 0.6008\n",
      "AUC Score (Test): 0.710092\n",
      "Max Depth: 3 Min Child Weight: 1\n",
      "Accuracy  (Train): 0.7113\n",
      "AUC Score (Train): 0.748538\n",
      "Accuracy  (Test): 0.5893\n",
      "AUC Score (Test): 0.707135\n",
      "Max Depth: 3 Min Child Weight: 2\n",
      "Accuracy  (Train): 0.7103\n",
      "AUC Score (Train): 0.748209\n",
      "Accuracy  (Test): 0.5923\n",
      "AUC Score (Test): 0.705359\n",
      "Max Depth: 3 Min Child Weight: 3\n",
      "Accuracy  (Train): 0.7109\n",
      "AUC Score (Train): 0.748331\n",
      "Accuracy  (Test): 0.5928\n",
      "AUC Score (Test): 0.707570\n",
      "Max Depth: 3 Min Child Weight: 4\n",
      "Accuracy  (Train): 0.7107\n",
      "AUC Score (Train): 0.746219\n",
      "Accuracy  (Test): 0.5911\n",
      "AUC Score (Test): 0.707804\n",
      "Max Depth: 3 Min Child Weight: 5\n",
      "Accuracy  (Train): 0.7102\n",
      "AUC Score (Train): 0.746919\n",
      "Accuracy  (Test): 0.6017\n",
      "AUC Score (Test): 0.709287\n",
      "Max Depth: 4 Min Child Weight: 1\n",
      "Accuracy  (Train): 0.7325\n",
      "AUC Score (Train): 0.784722\n",
      "Accuracy  (Test): 0.5817\n",
      "AUC Score (Test): 0.698011\n",
      "Max Depth: 4 Min Child Weight: 2\n",
      "Accuracy  (Train): 0.732\n",
      "AUC Score (Train): 0.785128\n",
      "Accuracy  (Test): 0.5716\n",
      "AUC Score (Test): 0.697322\n",
      "Max Depth: 4 Min Child Weight: 3\n",
      "Accuracy  (Train): 0.7298\n",
      "AUC Score (Train): 0.783733\n",
      "Accuracy  (Test): 0.583\n",
      "AUC Score (Test): 0.699433\n",
      "Max Depth: 4 Min Child Weight: 4\n",
      "Accuracy  (Train): 0.7293\n",
      "AUC Score (Train): 0.781518\n",
      "Accuracy  (Test): 0.5901\n",
      "AUC Score (Test): 0.701167\n",
      "Max Depth: 4 Min Child Weight: 5\n",
      "Accuracy  (Train): 0.7284\n",
      "AUC Score (Train): 0.781011\n",
      "Accuracy  (Test): 0.5886\n",
      "AUC Score (Test): 0.699723\n",
      "Max Depth: 5 Min Child Weight: 1\n",
      "Accuracy  (Train): 0.7562\n",
      "AUC Score (Train): 0.824229\n",
      "Accuracy  (Test): 0.5747\n",
      "AUC Score (Test): 0.687729\n",
      "Max Depth: 5 Min Child Weight: 2\n",
      "Accuracy  (Train): 0.7531\n",
      "AUC Score (Train): 0.823290\n",
      "Accuracy  (Test): 0.607\n",
      "AUC Score (Test): 0.701124\n",
      "Max Depth: 5 Min Child Weight: 3\n",
      "Accuracy  (Train): 0.7517\n",
      "AUC Score (Train): 0.819968\n",
      "Accuracy  (Test): 0.5813\n",
      "AUC Score (Test): 0.690587\n",
      "Max Depth: 5 Min Child Weight: 4\n",
      "Accuracy  (Train): 0.7556\n",
      "AUC Score (Train): 0.821670\n",
      "Accuracy  (Test): 0.5922\n",
      "AUC Score (Test): 0.694992\n",
      "Max Depth: 5 Min Child Weight: 5\n",
      "Accuracy  (Train): 0.7514\n",
      "AUC Score (Train): 0.816171\n",
      "Accuracy  (Test): 0.5968\n",
      "AUC Score (Test): 0.696388\n",
      "Max Depth: 6 Min Child Weight: 1\n",
      "Accuracy  (Train): 0.7905\n",
      "AUC Score (Train): 0.872305\n",
      "Accuracy  (Test): 0.5834\n",
      "AUC Score (Test): 0.683467\n",
      "Max Depth: 6 Min Child Weight: 2\n",
      "Accuracy  (Train): 0.7898\n",
      "AUC Score (Train): 0.869556\n",
      "Accuracy  (Test): 0.5811\n",
      "AUC Score (Test): 0.682121\n",
      "Max Depth: 6 Min Child Weight: 3\n",
      "Accuracy  (Train): 0.7845\n",
      "AUC Score (Train): 0.864639\n",
      "Accuracy  (Test): 0.5766\n",
      "AUC Score (Test): 0.680135\n",
      "Max Depth: 6 Min Child Weight: 4\n",
      "Accuracy  (Train): 0.7774\n",
      "AUC Score (Train): 0.856772\n",
      "Accuracy  (Test): 0.5766\n",
      "AUC Score (Test): 0.681894\n",
      "Max Depth: 6 Min Child Weight: 5\n",
      "Accuracy  (Train): 0.7793\n",
      "AUC Score (Train): 0.858474\n",
      "Accuracy  (Test): 0.5781\n",
      "AUC Score (Test): 0.683213\n",
      "Max Depth: 7 Min Child Weight: 1\n",
      "Accuracy  (Train): 0.8352\n",
      "AUC Score (Train): 0.920604\n",
      "Accuracy  (Test): 0.5795\n",
      "AUC Score (Test): 0.676201\n",
      "Max Depth: 7 Min Child Weight: 2\n",
      "Accuracy  (Train): 0.8195\n",
      "AUC Score (Train): 0.908797\n",
      "Accuracy  (Test): 0.5891\n",
      "AUC Score (Test): 0.682108\n",
      "Max Depth: 7 Min Child Weight: 3\n",
      "Accuracy  (Train): 0.8175\n",
      "AUC Score (Train): 0.902497\n",
      "Accuracy  (Test): 0.5791\n",
      "AUC Score (Test): 0.676119\n",
      "Max Depth: 7 Min Child Weight: 4\n",
      "Accuracy  (Train): 0.8178\n",
      "AUC Score (Train): 0.904232\n",
      "Accuracy  (Test): 0.5826\n",
      "AUC Score (Test): 0.678213\n",
      "Max Depth: 7 Min Child Weight: 5\n",
      "Accuracy  (Train): 0.8099\n",
      "AUC Score (Train): 0.893760\n",
      "Accuracy  (Test): 0.5782\n",
      "AUC Score (Test): 0.676192\n",
      "Max Depth: 8 Min Child Weight: 1\n",
      "Accuracy  (Train): 0.8706\n",
      "AUC Score (Train): 0.950935\n",
      "Accuracy  (Test): 0.5858\n",
      "AUC Score (Test): 0.673587\n",
      "Max Depth: 8 Min Child Weight: 2\n",
      "Accuracy  (Train): 0.8671\n",
      "AUC Score (Train): 0.948447\n",
      "Accuracy  (Test): 0.5726\n",
      "AUC Score (Test): 0.666216\n",
      "Max Depth: 8 Min Child Weight: 3\n",
      "Accuracy  (Train): 0.8623\n",
      "AUC Score (Train): 0.944190\n",
      "Accuracy  (Test): 0.5769\n",
      "AUC Score (Test): 0.670359\n",
      "Max Depth: 8 Min Child Weight: 4\n",
      "Accuracy  (Train): 0.8593\n",
      "AUC Score (Train): 0.941139\n",
      "Accuracy  (Test): 0.5748\n",
      "AUC Score (Test): 0.665483\n",
      "Max Depth: 8 Min Child Weight: 5\n",
      "Accuracy  (Train): 0.8429\n",
      "AUC Score (Train): 0.928556\n",
      "Accuracy  (Test): 0.5751\n",
      "AUC Score (Test): 0.669959\n"
     ]
    }
   ],
   "source": [
    "for max_depth in [2,3,4,5,6,7,8]:\n",
    "    for min_child_weight in [1,2,3,4,5]:\n",
    "        print(\"Max Depth: \"+str(max_depth)+\" Min Child Weight: \"+str(min_child_weight))\n",
    "        xgb1 = xgb.XGBClassifier(max_depth=max_depth, min_child_weight=min_child_weight, learning_rate=0.2, n_estimators=100, verbosity=1, n_jobs=-1)\n",
    "        modelfit(xgb1, df_train, df_test, predictors)"
   ]
  },
  {
   "cell_type": "markdown",
   "metadata": {},
   "source": [
    "## Tune Gamma"
   ]
  },
  {
   "cell_type": "code",
   "execution_count": 89,
   "metadata": {},
   "outputs": [
    {
     "name": "stdout",
     "output_type": "stream",
     "text": [
      "Gamma: 0\n",
      "Accuracy  (Train): 0.6981\n",
      "AUC Score (Train): 0.717564\n",
      "Accuracy  (Test): 0.6024\n",
      "AUC Score (Test): 0.711162\n",
      "Gamma: 1\n",
      "Accuracy  (Train): 0.6981\n",
      "AUC Score (Train): 0.717564\n",
      "Accuracy  (Test): 0.6024\n",
      "AUC Score (Test): 0.711162\n",
      "Gamma: 2\n",
      "Accuracy  (Train): 0.6981\n",
      "AUC Score (Train): 0.717564\n",
      "Accuracy  (Test): 0.6024\n",
      "AUC Score (Test): 0.711162\n",
      "Gamma: 5\n",
      "Accuracy  (Train): 0.6984\n",
      "AUC Score (Train): 0.717556\n",
      "Accuracy  (Test): 0.6008\n",
      "AUC Score (Test): 0.708985\n"
     ]
    }
   ],
   "source": [
    "for gamma in [0,1,2,5]:\n",
    "    print(\"Gamma: \"+str(gamma))\n",
    "    xgb1 = xgb.XGBClassifier(max_depth=2, min_child_weight=1, gamma=gamma, learning_rate=0.2, n_estimators=100, verbosity=1, n_jobs=-1)\n",
    "    modelfit(xgb1, df_train, df_test, predictors)"
   ]
  },
  {
   "cell_type": "markdown",
   "metadata": {},
   "source": [
    "## Tune subsample and colsample_bytree"
   ]
  },
  {
   "cell_type": "code",
   "execution_count": 92,
   "metadata": {},
   "outputs": [
    {
     "name": "stdout",
     "output_type": "stream",
     "text": [
      "subsample: 0.75 colsample_bytree: 0.75\n",
      "Accuracy  (Train): 0.6974\n",
      "AUC Score (Train): 0.718032\n",
      "Accuracy  (Test): 0.6159\n",
      "AUC Score (Test): 0.712284\n",
      "subsample: 0.75 colsample_bytree: 0.9\n",
      "Accuracy  (Train): 0.6981\n",
      "AUC Score (Train): 0.718903\n",
      "Accuracy  (Test): 0.6029\n",
      "AUC Score (Test): 0.708487\n",
      "subsample: 0.9 colsample_bytree: 0.75\n",
      "Accuracy  (Train): 0.6982\n",
      "AUC Score (Train): 0.718381\n",
      "Accuracy  (Test): 0.6124\n",
      "AUC Score (Test): 0.713309\n",
      "subsample: 0.9 colsample_bytree: 0.9\n",
      "Accuracy  (Train): 0.6979\n",
      "AUC Score (Train): 0.718415\n",
      "Accuracy  (Test): 0.5932\n",
      "AUC Score (Test): 0.709267\n"
     ]
    }
   ],
   "source": [
    "for subsample in [0.75,0.90]:\n",
    "    for colsample_bytree in [0.75,0.90]:\n",
    "        print(\"subsample: \"+str(subsample)+\" colsample_bytree: \"+str(colsample_bytree))\n",
    "        xgb1 = xgb.XGBClassifier(max_depth=2, min_child_weight=1, gamma=0, subsample=subsample, colsample_bytree=colsample_bytree,  learning_rate=0.2, n_estimators=100, verbosity=1, n_jobs=-1)\n",
    "        modelfit(xgb1, df_train, df_test, predictors)"
   ]
  },
  {
   "cell_type": "markdown",
   "metadata": {},
   "source": [
    "## Tuning Regularization Parameter (Alpha)"
   ]
  },
  {
   "cell_type": "code",
   "execution_count": 93,
   "metadata": {},
   "outputs": [
    {
     "name": "stdout",
     "output_type": "stream",
     "text": [
      "reg_alpha: 1e-05\n",
      "Accuracy  (Train): 0.6982\n",
      "AUC Score (Train): 0.718381\n",
      "Accuracy  (Test): 0.6124\n",
      "AUC Score (Test): 0.713309\n",
      "reg_alpha: 0.01\n",
      "Accuracy  (Train): 0.6983\n",
      "AUC Score (Train): 0.718431\n",
      "Accuracy  (Test): 0.6086\n",
      "AUC Score (Test): 0.712294\n",
      "reg_alpha: 0.1\n",
      "Accuracy  (Train): 0.6976\n",
      "AUC Score (Train): 0.718475\n",
      "Accuracy  (Test): 0.6111\n",
      "AUC Score (Test): 0.712852\n",
      "reg_alpha: 1\n",
      "Accuracy  (Train): 0.6985\n",
      "AUC Score (Train): 0.717625\n",
      "Accuracy  (Test): 0.6101\n",
      "AUC Score (Test): 0.712563\n",
      "reg_alpha: 100\n",
      "Accuracy  (Train): 0.6915\n",
      "AUC Score (Train): 0.694471\n",
      "Accuracy  (Test): 0.5698\n",
      "AUC Score (Test): 0.699578\n"
     ]
    }
   ],
   "source": [
    "for reg_alpha in [1e-5, 1e-2, 0.1, 1, 100]:\n",
    "    print(\"reg_alpha: \"+str(reg_alpha))\n",
    "    xgb1 = xgb.XGBClassifier(max_depth=2, min_child_weight=1, reg_alpha=reg_alpha, gamma=0, subsample=0.9, colsample_bytree=0.75, learning_rate=0.2, n_estimators=100, verbosity=1, n_jobs=-1)\n",
    "    modelfit(xgb1, df_train, df_test, predictors)"
   ]
  },
  {
   "cell_type": "markdown",
   "metadata": {},
   "source": [
    "## Tune Learning Rate"
   ]
  },
  {
   "cell_type": "code",
   "execution_count": 95,
   "metadata": {},
   "outputs": [
    {
     "name": "stdout",
     "output_type": "stream",
     "text": [
      "learning_rate: 0.1\n",
      "Accuracy  (Train): 0.6924\n",
      "AUC Score (Train): 0.701357\n",
      "Accuracy  (Test): 0.5311\n",
      "AUC Score (Test): 0.697049\n",
      "learning_rate: 0.2\n",
      "Accuracy  (Train): 0.6982\n",
      "AUC Score (Train): 0.718381\n",
      "Accuracy  (Test): 0.6124\n",
      "AUC Score (Test): 0.713309\n",
      "learning_rate: 0.3\n",
      "Accuracy  (Train): 0.7035\n",
      "AUC Score (Train): 0.725752\n",
      "Accuracy  (Test): 0.6235\n",
      "AUC Score (Test): 0.711375\n",
      "learning_rate: 0.4\n",
      "Accuracy  (Train): 0.7072\n",
      "AUC Score (Train): 0.732592\n",
      "Accuracy  (Test): 0.6267\n",
      "AUC Score (Test): 0.707841\n",
      "learning_rate: 0.5\n",
      "Accuracy  (Train): 0.7089\n",
      "AUC Score (Train): 0.735258\n",
      "Accuracy  (Test): 0.642\n",
      "AUC Score (Test): 0.711854\n",
      "learning_rate: 0.6\n",
      "Accuracy  (Train): 0.7113\n",
      "AUC Score (Train): 0.740971\n",
      "Accuracy  (Test): 0.6329\n",
      "AUC Score (Test): 0.706418\n",
      "learning_rate: 0.7\n",
      "Accuracy  (Train): 0.7117\n",
      "AUC Score (Train): 0.742178\n",
      "Accuracy  (Test): 0.6264\n",
      "AUC Score (Test): 0.697784\n",
      "learning_rate: 0.8\n",
      "Accuracy  (Train): 0.7125\n",
      "AUC Score (Train): 0.742344\n",
      "Accuracy  (Test): 0.6295\n",
      "AUC Score (Test): 0.698846\n",
      "learning_rate: 0.9\n",
      "Accuracy  (Train): 0.7141\n",
      "AUC Score (Train): 0.745450\n",
      "Accuracy  (Test): 0.6275\n",
      "AUC Score (Test): 0.693972\n",
      "learning_rate: 1.0\n",
      "Accuracy  (Train): 0.7135\n",
      "AUC Score (Train): 0.746008\n",
      "Accuracy  (Test): 0.628\n",
      "AUC Score (Test): 0.691326\n"
     ]
    }
   ],
   "source": [
    "for learning_rate in [0.1,0.2,0.3,0.4,0.5,0.6,0.7,0.8,0.9,1.0]:\n",
    "    print(\"learning_rate: \"+str(learning_rate))\n",
    "    xgb1 = xgb.XGBClassifier(max_depth=2, min_child_weight=1, reg_alpha=1e-5, gamma=0, subsample=0.9, colsample_bytree=0.75, learning_rate=learning_rate, n_estimators=100, verbosity=1, n_jobs=-1)\n",
    "    modelfit(xgb1, df_train, df_test, predictors)"
   ]
  },
  {
   "cell_type": "code",
   "execution_count": 96,
   "metadata": {},
   "outputs": [
    {
     "name": "stdout",
     "output_type": "stream",
     "text": [
      "learning_rate: 0.12\n",
      "Accuracy  (Train): 0.6933\n",
      "AUC Score (Train): 0.707418\n",
      "Accuracy  (Test): 0.5659\n",
      "AUC Score (Test): 0.705617\n",
      "learning_rate: 0.14\n",
      "Accuracy  (Train): 0.6943\n",
      "AUC Score (Train): 0.709667\n",
      "Accuracy  (Test): 0.5725\n",
      "AUC Score (Test): 0.706899\n",
      "learning_rate: 0.16\n",
      "Accuracy  (Train): 0.6956\n",
      "AUC Score (Train): 0.712565\n",
      "Accuracy  (Test): 0.5805\n",
      "AUC Score (Test): 0.705057\n",
      "learning_rate: 0.18\n",
      "Accuracy  (Train): 0.6973\n",
      "AUC Score (Train): 0.715888\n",
      "Accuracy  (Test): 0.5869\n",
      "AUC Score (Test): 0.706624\n",
      "learning_rate: 0.2\n",
      "Accuracy  (Train): 0.6982\n",
      "AUC Score (Train): 0.718381\n",
      "Accuracy  (Test): 0.6124\n",
      "AUC Score (Test): 0.713309\n",
      "learning_rate: 0.22\n",
      "Accuracy  (Train): 0.6988\n",
      "AUC Score (Train): 0.720001\n",
      "Accuracy  (Test): 0.6116\n",
      "AUC Score (Test): 0.711649\n"
     ]
    }
   ],
   "source": [
    "for learning_rate in [0.12,0.14,0.16,0.18,0.2,0.22]:\n",
    "    print(\"learning_rate: \"+str(learning_rate))\n",
    "    xgb1 = xgb.XGBClassifier(max_depth=2, min_child_weight=1, reg_alpha=1e-5, gamma=0, subsample=0.9, colsample_bytree=0.75, learning_rate=learning_rate, n_estimators=100, verbosity=1, n_jobs=-1)\n",
    "    modelfit(xgb1, df_train, df_test, predictors)"
   ]
  },
  {
   "cell_type": "markdown",
   "metadata": {},
   "source": [
    "## Tune Number of Estimators"
   ]
  },
  {
   "cell_type": "code",
   "execution_count": 111,
   "metadata": {},
   "outputs": [
    {
     "name": "stdout",
     "output_type": "stream",
     "text": [
      "n_estimators: 5\n",
      "Accuracy  (Train): 0.6808\n",
      "AUC Score (Train): 0.655191\n",
      "Accuracy  (Test): 0.4705\n",
      "AUC Score (Test): 0.631883\n",
      "n_estimators: 10\n",
      "Accuracy  (Train): 0.6835\n",
      "AUC Score (Train): 0.664935\n",
      "Accuracy  (Test): 0.4941\n",
      "AUC Score (Test): 0.669287\n",
      "n_estimators: 25\n",
      "Accuracy  (Train): 0.6886\n",
      "AUC Score (Train): 0.685363\n",
      "Accuracy  (Test): 0.546\n",
      "AUC Score (Test): 0.695893\n",
      "n_estimators: 50\n",
      "Accuracy  (Train): 0.6923\n",
      "AUC Score (Train): 0.702431\n",
      "Accuracy  (Test): 0.5789\n",
      "AUC Score (Test): 0.705769\n",
      "n_estimators: 100\n",
      "Accuracy  (Train): 0.6982\n",
      "AUC Score (Train): 0.718381\n",
      "Accuracy  (Test): 0.6124\n",
      "AUC Score (Test): 0.713309\n",
      "n_estimators: 250\n",
      "Accuracy  (Train): 0.7109\n",
      "AUC Score (Train): 0.742967\n",
      "Accuracy  (Test): 0.6447\n",
      "AUC Score (Test): 0.719179\n",
      "n_estimators: 500\n",
      "Accuracy  (Train): 0.7278\n",
      "AUC Score (Train): 0.769086\n",
      "Accuracy  (Test): 0.656\n",
      "AUC Score (Test): 0.717381\n"
     ]
    }
   ],
   "source": [
    "for n_estimators in [5,10,25,50,100,250,500]:\n",
    "    print(\"n_estimators: \"+str(n_estimators))\n",
    "    xgb1 = xgb.XGBClassifier(max_depth=2, min_child_weight=1, reg_alpha=1e-5, gamma=0, subsample=0.9, colsample_bytree=0.75, learning_rate=0.2, n_estimators=n_estimators, verbosity=1, n_jobs=-1)\n",
    "    modelfit(xgb1, df_train, df_test, predictors)"
   ]
  },
  {
   "cell_type": "markdown",
   "metadata": {},
   "source": [
    "## Best Model So Far"
   ]
  },
  {
   "cell_type": "code",
   "execution_count": 51,
   "metadata": {
    "scrolled": false
   },
   "outputs": [],
   "source": [
    "best_mdl = xgb.XGBClassifier(max_depth=2, min_child_weight=1, reg_alpha=1e-5, gamma=0,subsample=0.9, colsample_bytree=0.75, learning_rate=0.2, n_estimators=250, verbosity=1, n_jobs=-1)"
   ]
  },
  {
   "cell_type": "code",
   "execution_count": 52,
   "metadata": {},
   "outputs": [
    {
     "name": "stdout",
     "output_type": "stream",
     "text": [
      "Accuracy  (Train): 0.7088\n",
      "AUC Score (Train): 0.737140\n",
      "Accuracy  (Test): 0.6547\n",
      "AUC Score (Test): 0.718894\n"
     ]
    }
   ],
   "source": [
    "modelfit(best_mdl, df_train, df_test, predictors)"
   ]
  },
  {
   "cell_type": "code",
   "execution_count": null,
   "metadata": {},
   "outputs": [],
   "source": []
  }
 ],
 "metadata": {
  "kernelspec": {
   "display_name": "Python 3",
   "language": "python",
   "name": "python3"
  },
  "language_info": {
   "codemirror_mode": {
    "name": "ipython",
    "version": 3
   },
   "file_extension": ".py",
   "mimetype": "text/x-python",
   "name": "python",
   "nbconvert_exporter": "python",
   "pygments_lexer": "ipython3",
   "version": "3.7.3"
  }
 },
 "nbformat": 4,
 "nbformat_minor": 2
}
