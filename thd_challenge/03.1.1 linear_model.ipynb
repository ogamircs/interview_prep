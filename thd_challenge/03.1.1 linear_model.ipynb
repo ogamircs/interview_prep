{
 "cells": [
  {
   "cell_type": "code",
   "execution_count": 1,
   "metadata": {},
   "outputs": [],
   "source": [
    "import xgboost as xgb\n",
    "from sklearn.linear_model import LogisticRegression\n",
    "from sklearn.metrics import mean_squared_error\n",
    "import pandas as pd\n",
    "import numpy as np\n",
    "import warnings\n",
    "from sklearn import metrics\n",
    "\n",
    "warnings.filterwarnings('ignore')"
   ]
  },
  {
   "cell_type": "code",
   "execution_count": 2,
   "metadata": {},
   "outputs": [
    {
     "data": {
      "text/plain": [
       "Index(['Hash_Trans_ID', 'SKU_ID_Count', 'Transaction_Date', 'Transaction_Year',\n",
       "       'Transaction_Month', 'Transaction_Day', 'Transaction_Hour',\n",
       "       'Transaction_Day_of_Week', 'Transaction_Week',\n",
       "       'Transaction_Day_of_Year',\n",
       "       ...\n",
       "       'Moving_Avg_Txn_Transaction_Type_Front line - Sales',\n",
       "       'Moving_Avg_Txn_Transaction_Type_Front line -Self Chk',\n",
       "       'Moving_Avg_Txn_Transaction_Type_Garden Sales',\n",
       "       'Moving_Avg_Txn_Transaction_Type_Pro Desk - Refund',\n",
       "       'Moving_Avg_Txn_Transaction_Type_Pro Desk - Sales',\n",
       "       'Moving_Avg_Txn_Transaction_Type_Returns desk - Refnd',\n",
       "       'Moving_Avg_Txn_Transaction_Type_Sp. Srvc. Dsk  VPOS',\n",
       "       'Moving_Avg_Txn_Transaction_Type_Sp. Srvc. Dsk Refnd',\n",
       "       'Moving_Avg_Txn_Transaction_Type_Tool Rental -Refund',\n",
       "       'Moving_Avg_Txn_Transaction_Type_Tools - Refund'],\n",
       "      dtype='object', length=152)"
      ]
     },
     "execution_count": 2,
     "metadata": {},
     "output_type": "execute_result"
    }
   ],
   "source": [
    "df = pd.read_csv('ds_challenge_data_final.csv', sep='\\t')\n",
    "df.fillna('none', inplace = True)\n",
    "df.fillna(0, inplace = True)\n",
    "df.columns"
   ]
  },
  {
   "cell_type": "code",
   "execution_count": 3,
   "metadata": {},
   "outputs": [],
   "source": [
    "pred_cat_cols = ['holiday_nm']"
   ]
  },
  {
   "cell_type": "code",
   "execution_count": 4,
   "metadata": {},
   "outputs": [],
   "source": [
    "cols_to_drop = ['Hash_Trans_ID','PRO', 'Transaction_Date']"
   ]
  },
  {
   "cell_type": "code",
   "execution_count": 5,
   "metadata": {},
   "outputs": [],
   "source": [
    "df = pd.get_dummies(data=df, columns = pred_cat_cols)"
   ]
  },
  {
   "cell_type": "code",
   "execution_count": 6,
   "metadata": {},
   "outputs": [],
   "source": [
    "df_train = df[df['Transaction_Year'] < 2015]\n",
    "train_targets = df_train['PRO'].as_matrix().astype('float32')\n",
    "train_data = df_train.drop(cols_to_drop, axis=1, inplace=False).as_matrix().astype('float32')"
   ]
  },
  {
   "cell_type": "code",
   "execution_count": 7,
   "metadata": {},
   "outputs": [],
   "source": [
    "df_test = df[df['Transaction_Year'] == 2015]\n",
    "test_targets = df_test['PRO'].as_matrix().astype('float32')\n",
    "test_data = df_test.drop(cols_to_drop, axis=1, inplace=False).as_matrix().astype('float32')"
   ]
  },
  {
   "cell_type": "code",
   "execution_count": 8,
   "metadata": {},
   "outputs": [],
   "source": [
    "mdl = LogisticRegression(random_state=0, solver='lbfgs', multi_class='multinomial')"
   ]
  },
  {
   "cell_type": "code",
   "execution_count": 9,
   "metadata": {},
   "outputs": [
    {
     "data": {
      "text/plain": [
       "LogisticRegression(C=1.0, class_weight=None, dual=False, fit_intercept=True,\n",
       "          intercept_scaling=1, max_iter=100, multi_class='multinomial',\n",
       "          n_jobs=None, penalty='l2', random_state=0, solver='lbfgs',\n",
       "          tol=0.0001, verbose=0, warm_start=False)"
      ]
     },
     "execution_count": 9,
     "metadata": {},
     "output_type": "execute_result"
    }
   ],
   "source": [
    "mdl.fit(train_data,train_targets)"
   ]
  },
  {
   "cell_type": "code",
   "execution_count": 10,
   "metadata": {},
   "outputs": [],
   "source": [
    "test_pred = mdl.predict_proba(test_data)"
   ]
  },
  {
   "cell_type": "code",
   "execution_count": 14,
   "metadata": {},
   "outputs": [
    {
     "data": {
      "text/plain": [
       "0.4990893641123752"
      ]
     },
     "execution_count": 14,
     "metadata": {},
     "output_type": "execute_result"
    }
   ],
   "source": [
    "predictions = np.array(test_pred)[:,1]\n",
    "actuals = test_targets.astype('int')\n",
    "fpr, tpr, thresholds = metrics.roc_curve(actuals, predictions, pos_label=1)\n",
    "metrics.auc(fpr, tpr)"
   ]
  },
  {
   "cell_type": "code",
   "execution_count": null,
   "metadata": {},
   "outputs": [],
   "source": []
  }
 ],
 "metadata": {
  "kernelspec": {
   "display_name": "Python 3",
   "language": "python",
   "name": "python3"
  },
  "language_info": {
   "codemirror_mode": {
    "name": "ipython",
    "version": 3
   },
   "file_extension": ".py",
   "mimetype": "text/x-python",
   "name": "python",
   "nbconvert_exporter": "python",
   "pygments_lexer": "ipython3",
   "version": "3.7.3"
  }
 },
 "nbformat": 4,
 "nbformat_minor": 2
}
