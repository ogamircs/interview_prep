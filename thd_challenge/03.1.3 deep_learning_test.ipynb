{
 "cells": [
  {
   "cell_type": "code",
   "execution_count": 1,
   "metadata": {},
   "outputs": [],
   "source": [
    "import pandas as pd\n",
    "import numpy as np\n",
    "from sklearn import metrics\n",
    "from fastai.tabular import *"
   ]
  },
  {
   "cell_type": "code",
   "execution_count": null,
   "metadata": {},
   "outputs": [],
   "source": [
    "df = pd.read_csv('ds_challenge_data_final.csv',sep='\\t')\n",
    "#df.fillna('none', inplace = True)\n",
    "df.fillna(0, inplace = True)\n",
    "#df = df.sample(frac=0.35)\n",
    "df.columns.to_list()"
   ]
  },
  {
   "cell_type": "code",
   "execution_count": 3,
   "metadata": {},
   "outputs": [
    {
     "data": {
      "text/plain": [
       "((37497, 152), (55493, 152), (92990, 152))"
      ]
     },
     "execution_count": 3,
     "metadata": {},
     "output_type": "execute_result"
    }
   ],
   "source": [
    "df_trn = df[df['Transaction_Year'] < 2015]\n",
    "df_val = df[df['Transaction_Year'] == 2015]\n",
    "df_all = pd.concat([df_trn, df_val])\n",
    "TRN_FLG = df_trn.shape[0]\n",
    "ALL_FLG = df_all.shape[0]\n",
    "\n",
    "df_trn.shape, df_val.shape, df_all.shape"
   ]
  },
  {
   "cell_type": "code",
   "execution_count": 4,
   "metadata": {},
   "outputs": [],
   "source": [
    "target = 'PRO'"
   ]
  },
  {
   "cell_type": "code",
   "execution_count": 10,
   "metadata": {},
   "outputs": [],
   "source": [
    "pred_cont_cols = [\n",
    " 'SKU_ID_Count',\n",
    " 'POS_Sales_Sum',\n",
    " 'POS_UnitsSold_Sum',\n",
    " 'Product_Lengthe_Sum',\n",
    " 'Product_Heighte_Sum',\n",
    " 'Product_Widthe_Sum',\n",
    " 'Product_Weighte_Sum',\n",
    " 'Product_Volumee_Sum',\n",
    " 'Price_Sum',\n",
    " 'SKU_AVG_Price_Sum',\n",
    " 'SKU_MIN_Price_Sum',\n",
    " 'SKU_MAX_Price_Sum',\n",
    " 'Transaction_Type_1',\n",
    " 'Transaction_Type_2',\n",
    " 'Transaction_Type_3',\n",
    " 'Transaction_Type_4',\n",
    " 'Transaction_Type_5',\n",
    " 'Transaction_Type_6',\n",
    " 'Transaction_Type_7',\n",
    " 'Transaction_Type_8',\n",
    " 'Transaction_Type_9',\n",
    " 'Transaction_Type_10',\n",
    " 'Transaction_Type_11',\n",
    " 'Transaction_Sales_12',\n",
    " 'Transaction_Sales_13',\n",
    " 'Transaction_Sales_14',\n",
    " 'Transaction_Sales_15',\n",
    " 'Transaction_Sales_16',\n",
    " 'Price_Avg',\n",
    " 'SKU_AVG_Price_Avg',\n",
    " 'SKU_MIN_Price_Avg',\n",
    " 'SKU_MAX_Price_Avg',\n",
    " 'POS_Sales_Avg',\n",
    " 'POS_UnitsSold_Avg',\n",
    " 'Product_Length_Avg',\n",
    " 'Product_Width_Avg',\n",
    " 'Product_Weight_Avg',\n",
    " 'Product_Height_Avg',\n",
    " 'Product_Volumn_Avg',\n",
    " 'Price_Max',\n",
    " 'SKU_AVG_Price_Max',\n",
    " 'SKU_MIN_Price_Max',\n",
    " 'SKU_MAX_Price_Max',\n",
    " 'POS_Sales_Max',\n",
    " 'POS_UnitsSold_Max',\n",
    " 'Product_Length_Max',\n",
    " 'Product_Width_Max',\n",
    " 'Product_Weight_Max',\n",
    " 'Product_Height_Max',\n",
    " 'Product_Volume_Max',\n",
    " 'Price_Min',\n",
    " 'SKU_AVG_Price_Min',\n",
    " 'SKU_MIN_Price_Min',\n",
    " 'SKU_MAX_Price_Min',\n",
    " 'POS_Sales_Min',\n",
    " 'POS_UnitsSold_Min',\n",
    " 'Product_Length_Min',\n",
    " 'Product_Width_Min',\n",
    " 'Product_Weight_Min',\n",
    " 'Product_Height_Min',\n",
    " 'Product_Volume_Min',\n",
    " 'Price_Std',\n",
    " 'SKU_AVG_Price_Std',\n",
    " 'SKU_MIN_Price_Std',\n",
    " 'SKU_MAX_Price_Std',\n",
    " 'POS_Sales_Std',\n",
    " 'POS_UnitsSold_Std',\n",
    " 'Product_Length_Std',\n",
    " 'Product_Width_Std',\n",
    " 'Product_Weight_Std',\n",
    " 'Product_Height_Std',\n",
    " 'Product_Volume_Std',\n",
    " 'Moving_Avg_Txn_Transaction_Type_1',\n",
    " 'Moving_Avg_Txn_Transaction_Type_2',\n",
    " 'Moving_Avg_Txn_Transaction_Type_3',\n",
    " 'Moving_Avg_Txn_Transaction_Type_4',\n",
    " 'Moving_Avg_Txn_Transaction_Type_5',\n",
    " 'Moving_Avg_Txn_Transaction_Type_6',\n",
    " 'Moving_Avg_Txn_Transaction_Type_7',\n",
    " 'Moving_Avg_Txn_Transaction_Type_8',\n",
    " 'Moving_Avg_Txn_Transaction_Type_9',\n",
    " 'Moving_Avg_Txn_Transaction_Type_10',\n",
    " 'Moving_Avg_Txn_Transaction_Type_11'\n",
    "]"
   ]
  },
  {
   "cell_type": "code",
   "execution_count": 11,
   "metadata": {},
   "outputs": [],
   "source": [
    "pred_cat_cols = [ \n",
    " 'Transaction_Year',\n",
    " 'Transaction_Month',\n",
    " 'Transaction_Day',\n",
    " 'Transaction_Hour',\n",
    " 'Transaction_Day_of_Week',\n",
    " 'Transaction_Week',\n",
    " 'Transaction_Day_of_Year',\n",
    " 'holiday_nm',\n",
    " 'Department_ID_13',\n",
    " 'Department_ID_16',\n",
    " 'Department_ID_17',\n",
    " 'Department_ID_21',\n",
    " 'Department_ID_22',\n",
    " 'Department_ID_23',\n",
    " 'Department_ID_24',\n",
    " 'Department_ID_25',\n",
    " 'Department_ID_26',\n",
    " 'Department_ID_27',\n",
    " 'Department_ID_28',\n",
    " 'Department_ID_29',\n",
    " 'Department_ID_30',\n",
    " 'Department_ID_59',\n",
    " 'Department_ID_78',\n",
    " 'SubClass_Desc_Cluster_0',\n",
    " 'SubClass_Desc_Cluster_1',\n",
    " 'SubClass_Desc_Cluster_2',\n",
    " 'SubClass_Desc_Cluster_3',\n",
    " 'SubClass_Desc_Cluster_4',\n",
    " 'SubClass_Desc_Cluster_5',\n",
    " 'SubClass_Desc_Cluster_6',\n",
    " 'SubClass_Desc_Cluster_7',\n",
    " 'SubClass_Desc_Cluster_8',\n",
    " 'SubClass_Desc_Cluster_9',\n",
    "  \"('Class_ID', 1)\",\n",
    " \"('Class_ID', 2)\",\n",
    " \"('Class_ID', 3)\",\n",
    " \"('Class_ID', 4)\",\n",
    " \"('Class_ID', 5)\",\n",
    " \"('Class_ID', 6)\",\n",
    " \"('Class_ID', 7)\",\n",
    " \"('Class_ID', 8)\",\n",
    " \"('Class_ID', 9)\",\n",
    " \"('Class_ID', 10)\",\n",
    " \"('Class_ID', 11)\",\n",
    " \"('POS_Sales', 1)\",\n",
    " \"('POS_Sales', 2)\",\n",
    " \"('POS_Sales', 3)\",\n",
    " \"('POS_Sales', 4)\",\n",
    " \"('POS_Sales', 5)\",\n",
    " \"('POS_Sales', 6)\",\n",
    " \"('POS_Sales', 7)\",\n",
    " \"('POS_Sales', 8)\",\n",
    " \"('POS_Sales', 9)\",\n",
    " \"('POS_Sales', 10)\",\n",
    " \"('POS_Sales', 11)\",\n",
    " \"('SubClass_ID', 1)\",\n",
    " \"('SubClass_ID', 2)\",\n",
    " \"('SubClass_ID', 3)\",\n",
    " \"('SubClass_ID', 4)\",\n",
    " \"('SubClass_ID', 5)\",\n",
    " \"('SubClass_ID', 6)\",\n",
    " \"('SubClass_ID', 7)\",\n",
    " \"('SubClass_ID', 8)\",\n",
    " \"('SubClass_ID', 9)\",\n",
    " \"('SubClass_ID', 10)\",\n",
    " \"('SubClass_ID', 11)\"]"
   ]
  },
  {
   "cell_type": "code",
   "execution_count": 12,
   "metadata": {},
   "outputs": [],
   "source": [
    "processes = [FillMissing, Categorify, Normalize]"
   ]
  },
  {
   "cell_type": "code",
   "execution_count": 14,
   "metadata": {},
   "outputs": [],
   "source": [
    "df_tab = (TabularList.from_df(df_all, cat_names=pred_cat_cols, cont_names=pred_cont_cols, procs=processes)\\\n",
    "         .split_by_idx(valid_idx = range(TRN_FLG, ALL_FLG))\\\n",
    "         .label_from_df(cols=target)\\\n",
    "         .databunch(bs=256))"
   ]
  },
  {
   "cell_type": "code",
   "execution_count": 15,
   "metadata": {},
   "outputs": [],
   "source": [
    "mdl = tabular_learner(df_tab, layers=[700,500,300,100], ps=[0.9,0.7,0.5,0.1], metrics=accuracy)"
   ]
  },
  {
   "cell_type": "code",
   "execution_count": 16,
   "metadata": {},
   "outputs": [
    {
     "data": {
      "text/html": [],
      "text/plain": [
       "<IPython.core.display.HTML object>"
      ]
     },
     "metadata": {},
     "output_type": "display_data"
    },
    {
     "name": "stdout",
     "output_type": "stream",
     "text": [
      "LR Finder is complete, type {learner_name}.recorder.plot() to see the graph.\n"
     ]
    },
    {
     "data": {
      "image/png": "[encoded data removed]",
      "text/plain": [
       "<Figure size 432x288 with 1 Axes>"
      ]
     },
     "metadata": {
      "needs_background": "light"
     },
     "output_type": "display_data"
    }
   ],
   "source": [
    "mdl.lr_find()\n",
    "mdl.recorder.plot()"
   ]
  },
  {
   "cell_type": "code",
   "execution_count": 17,
   "metadata": {
    "scrolled": true
   },
   "outputs": [
    {
     "data": {
      "text/html": [
       "<table border=\"1\" class=\"dataframe\">\n",
       "  <thead>\n",
       "    <tr style=\"text-align: left;\">\n",
       "      <th>epoch</th>\n",
       "      <th>train_loss</th>\n",
       "      <th>valid_loss</th>\n",
       "      <th>accuracy</th>\n",
       "      <th>time</th>\n",
       "    </tr>\n",
       "  </thead>\n",
       "  <tbody>\n",
       "    <tr>\n",
       "      <td>0</td>\n",
       "      <td>0.647061</td>\n",
       "      <td>72102.406250</td>\n",
       "      <td>0.508226</td>\n",
       "      <td>00:46</td>\n",
       "    </tr>\n",
       "    <tr>\n",
       "      <td>1</td>\n",
       "      <td>0.613904</td>\n",
       "      <td>51058.582031</td>\n",
       "      <td>0.553511</td>\n",
       "      <td>00:45</td>\n",
       "    </tr>\n",
       "    <tr>\n",
       "      <td>2</td>\n",
       "      <td>0.547871</td>\n",
       "      <td>30543.367188</td>\n",
       "      <td>0.550592</td>\n",
       "      <td>00:45</td>\n",
       "    </tr>\n",
       "    <tr>\n",
       "      <td>3</td>\n",
       "      <td>0.419874</td>\n",
       "      <td>73126.304688</td>\n",
       "      <td>0.550250</td>\n",
       "      <td>00:45</td>\n",
       "    </tr>\n",
       "    <tr>\n",
       "      <td>4</td>\n",
       "      <td>0.329075</td>\n",
       "      <td>80067.578125</td>\n",
       "      <td>0.553980</td>\n",
       "      <td>00:45</td>\n",
       "    </tr>\n",
       "  </tbody>\n",
       "</table>"
      ],
      "text/plain": [
       "<IPython.core.display.HTML object>"
      ]
     },
     "metadata": {},
     "output_type": "display_data"
    }
   ],
   "source": [
    "mdl.fit_one_cycle(5, 1e-02)"
   ]
  },
  {
   "cell_type": "code",
   "execution_count": 18,
   "metadata": {},
   "outputs": [],
   "source": [
    "preds = mdl.get_preds()"
   ]
  },
  {
   "cell_type": "code",
   "execution_count": 19,
   "metadata": {},
   "outputs": [
    {
     "data": {
      "text/plain": [
       "0.5841802898849082"
      ]
     },
     "execution_count": 19,
     "metadata": {},
     "output_type": "execute_result"
    }
   ],
   "source": [
    "predictions, actuals = preds[0], preds[1]\n",
    "predictions = np.array(predictions)[:,1]\n",
    "actuals = np.array(actuals)\n",
    "fpr, tpr, thresholds = metrics.roc_curve(actuals, predictions, pos_label=1)\n",
    "metrics.auc(fpr, tpr)"
   ]
  },
  {
   "cell_type": "code",
   "execution_count": null,
   "metadata": {},
   "outputs": [],
   "source": []
  }
 ],
 "metadata": {
  "kernelspec": {
   "display_name": "Python 3",
   "language": "python",
   "name": "python3"
  },
  "language_info": {
   "codemirror_mode": {
    "name": "ipython",
    "version": 3
   },
   "file_extension": ".py",
   "mimetype": "text/x-python",
   "name": "python",
   "nbconvert_exporter": "python",
   "pygments_lexer": "ipython3",
   "version": "3.7.4"
  }
 },
 "nbformat": 4,
 "nbformat_minor": 2
}
