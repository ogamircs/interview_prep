{
 "cells": [
  {
   "cell_type": "code",
   "execution_count": 1,
   "metadata": {},
   "outputs": [],
   "source": [
    "import xgboost as xgb\n",
    "from sklearn.ensemble import RandomForestClassifier, ExtraTreesClassifier, GradientBoostingClassifier\n",
    "from sklearn.metrics import mean_squared_error\n",
    "import pandas as pd\n",
    "import numpy as np\n",
    "import warnings\n",
    "from sklearn import metrics\n",
    "from sklearn.feature_extraction.text import CountVectorizer\n",
    "from sklearn.metrics import confusion_matrix\n",
    "import matplotlib.pyplot as plt\n",
    "from sklearn.utils.multiclass import unique_labels\n",
    "import xgboost as xgb\n",
    "from sklearn.model_selection import ShuffleSplit\n",
    "from sklearn.metrics import mean_squared_error\n",
    "from sklearn.utils import shuffle\n",
    "\n",
    "warnings.filterwarnings('ignore')"
   ]
  },
  {
   "cell_type": "code",
   "execution_count": null,
   "metadata": {},
   "outputs": [],
   "source": [
    "df = pd.read_csv('ds_challenge_data_final.csv',sep='\\t')\n",
    "#df.fillna('none', inplace = True)\n",
    "df.fillna(0, inplace = True)\n",
    "#df = df.sample(frac=0.35)\n",
    "df.columns.to_list()"
   ]
  },
  {
   "cell_type": "code",
   "execution_count": 3,
   "metadata": {},
   "outputs": [],
   "source": [
    "df['holiday_nm'] = df['holiday_nm'].apply(lambda x: 'none' if ((str(x).strip()=='0') | (x==0)) else x)"
   ]
  },
  {
   "cell_type": "code",
   "execution_count": 4,
   "metadata": {},
   "outputs": [],
   "source": [
    "pred_cat_cols = ['holiday_nm']\n",
    "cols_to_drop = ['Transaction_Date','Hash_Trans_ID','PRO' ]"
   ]
  },
  {
   "cell_type": "code",
   "execution_count": 5,
   "metadata": {},
   "outputs": [],
   "source": [
    "df = pd.get_dummies(data=df, columns = pred_cat_cols)"
   ]
  },
  {
   "cell_type": "code",
   "execution_count": 6,
   "metadata": {},
   "outputs": [],
   "source": [
    "df_train = df[df['Transaction_Year'] < 2015]\n",
    "train_targets = df_train['PRO']\n",
    "train_data = df_train.drop(cols_to_drop, axis=1, inplace=False)"
   ]
  },
  {
   "cell_type": "code",
   "execution_count": 7,
   "metadata": {},
   "outputs": [],
   "source": [
    "mdl = xgb.XGBClassifier(max_depth=2, min_child_weight=1, reg_alpha=1e-5, gamma=0,subsample=0.9, colsample_bytree=0.75, learning_rate=0.2, n_estimators=250, verbosity=1, n_jobs=-1)"
   ]
  },
  {
   "cell_type": "code",
   "execution_count": 14,
   "metadata": {},
   "outputs": [
    {
     "name": "stdout",
     "output_type": "stream",
     "text": [
      "training model 1\n",
      "auc is 0.7013383451434196\n",
      "training model 2\n",
      "auc is 0.7062030908841104\n"
     ]
    }
   ],
   "source": [
    "n=2\n",
    "\n",
    "scores=pd.DataFrame(np.zeros([n,train_data.shape[1]]))\n",
    "scores.columns=train_data.columns\n",
    "ct=0\n",
    "\n",
    "for train_idx, test_idx in ShuffleSplit(n_splits=n, train_size=0.75, test_size=.25).split(train_data):\n",
    "    ct+=1\n",
    "    X_train = train_data.ix[train_idx,:]\n",
    "    X_test = train_data.ix[test_idx,:]\n",
    "    Y_train = train_targets.ix[train_idx]\n",
    "    Y_test = train_targets.ix[test_idx]\n",
    "    print('training model {}'.format(ct))\n",
    "    r = mdl.fit(X_train, Y_train)\n",
    "    fpr, tpr, thresholds = metrics.roc_curve(Y_test.astype('int'), np.array(mdl.predict_proba(X_test))[:,1], pos_label=1)\n",
    "    auc = metrics.auc(fpr, tpr)\n",
    "    print('auc is {}'.format(auc))\n",
    "    for i in range(train_data.shape[1]):\n",
    "        X_t = X_test.copy()\n",
    "        X_t.ix[:,i]=shuffle(np.array(X_t.ix[:, i]))\n",
    "        fpr, tpr, thresholds = metrics.roc_curve(Y_test.astype('int'), np.array(mdl.predict_proba(X_t))[:,1], pos_label=1)\n",
    "        shuff_auc = metrics.auc(fpr, tpr)\n",
    "        scores.ix[ct-1,i]=((auc-shuff_auc)/auc)"
   ]
  },
  {
   "cell_type": "code",
   "execution_count": 15,
   "metadata": {},
   "outputs": [],
   "source": [
    "fin_score=pd.DataFrame(np.zeros([train_data.shape[1],4]))\n",
    "fin_score.columns=['Mean','Median','Max','Min']\n",
    "fin_score.index=train_data.columns\n",
    "fin_score.ix[:,0]=scores.mean()\n",
    "fin_score.ix[:,1]=scores.median()\n",
    "fin_score.ix[:,2]=scores.min()\n",
    "fin_score.ix[:,3]=scores.max()"
   ]
  },
  {
   "cell_type": "code",
   "execution_count": null,
   "metadata": {},
   "outputs": [],
   "source": [
    "#output cleared\n",
    "pd.set_option('display.max_rows', None)\n",
    "fin_score.sort_values('Mean',axis=0, ascending=False)"
   ]
  },
  {
   "cell_type": "markdown",
   "metadata": {},
   "source": [
    "### Run the baseline model"
   ]
  },
  {
   "cell_type": "code",
   "execution_count": 17,
   "metadata": {},
   "outputs": [],
   "source": [
    "cols_to_drop = ['Transaction_Date','Hash_Trans_ID','PRO' ]"
   ]
  },
  {
   "cell_type": "code",
   "execution_count": 18,
   "metadata": {},
   "outputs": [],
   "source": [
    "df_train = df[df['Transaction_Year'] < 2015]\n",
    "train_targets = df_train['PRO'].as_matrix().astype('float32')\n",
    "train_data = df_train.drop(cols_to_drop, axis=1, inplace=False).as_matrix().astype('float32')\n",
    "df_test = df[df['Transaction_Year'] == 2015]\n",
    "test_targets = df_test['PRO'].as_matrix().astype('float32')\n",
    "test_data = df_test.drop(cols_to_drop, axis=1, inplace=False).as_matrix().astype('float32')"
   ]
  },
  {
   "cell_type": "code",
   "execution_count": 19,
   "metadata": {},
   "outputs": [
    {
     "data": {
      "text/plain": [
       "XGBClassifier(base_score=0.5, booster='gbtree', colsample_bylevel=1,\n",
       "              colsample_bytree=0.75, gamma=0, learning_rate=0.2,\n",
       "              max_delta_step=0, max_depth=2, min_child_weight=1, missing=None,\n",
       "              n_estimators=250, n_jobs=-1, nthread=None,\n",
       "              objective='binary:logistic', random_state=0, reg_alpha=1e-05,\n",
       "              reg_lambda=1, scale_pos_weight=1, seed=None, silent=True,\n",
       "              subsample=0.9, verbosity=1)"
      ]
     },
     "execution_count": 19,
     "metadata": {},
     "output_type": "execute_result"
    }
   ],
   "source": [
    "mdl.fit(train_data,train_targets)"
   ]
  },
  {
   "cell_type": "code",
   "execution_count": 20,
   "metadata": {},
   "outputs": [
    {
     "data": {
      "text/plain": [
       "0.7188943450700578"
      ]
     },
     "execution_count": 20,
     "metadata": {},
     "output_type": "execute_result"
    }
   ],
   "source": [
    "test_pred = mdl.predict_proba(test_data)\n",
    "predictions = np.array(test_pred)[:,1]\n",
    "actuals = test_targets.astype('int')\n",
    "fpr, tpr, thresholds = metrics.roc_curve(actuals, predictions, pos_label=1)\n",
    "metrics.auc(fpr, tpr)"
   ]
  },
  {
   "cell_type": "markdown",
   "metadata": {},
   "source": [
    "### Now drop the unwanted columns"
   ]
  },
  {
   "cell_type": "code",
   "execution_count": 21,
   "metadata": {},
   "outputs": [],
   "source": [
    "cols_to_drop = ['Transaction_Date','Hash_Trans_ID','PRO']"
   ]
  },
  {
   "cell_type": "code",
   "execution_count": 22,
   "metadata": {},
   "outputs": [],
   "source": [
    "d = fin_score.reset_index().rename(columns={'index':'col_name'})"
   ]
  },
  {
   "cell_type": "code",
   "execution_count": 23,
   "metadata": {},
   "outputs": [],
   "source": [
    "cols_to_drop = cols_to_drop + d[d['Mean']<0]['col_name'].to_list()"
   ]
  },
  {
   "cell_type": "code",
   "execution_count": 24,
   "metadata": {},
   "outputs": [],
   "source": [
    "df_train = df[df['Transaction_Year'] < 2015]\n",
    "train_targets = df_train['PRO'].as_matrix().astype('float32')\n",
    "train_data = df_train.drop(cols_to_drop, axis=1, inplace=False).as_matrix().astype('float32')\n",
    "df_test = df[df['Transaction_Year'] == 2015]\n",
    "test_targets = df_test['PRO'].as_matrix().astype('float32')\n",
    "test_data = df_test.drop(cols_to_drop, axis=1, inplace=False).as_matrix().astype('float32')"
   ]
  },
  {
   "cell_type": "code",
   "execution_count": 25,
   "metadata": {},
   "outputs": [
    {
     "data": {
      "text/plain": [
       "XGBClassifier(base_score=0.5, booster='gbtree', colsample_bylevel=1,\n",
       "              colsample_bytree=0.75, gamma=0, learning_rate=0.2,\n",
       "              max_delta_step=0, max_depth=2, min_child_weight=1, missing=None,\n",
       "              n_estimators=250, n_jobs=-1, nthread=None,\n",
       "              objective='binary:logistic', random_state=0, reg_alpha=1e-05,\n",
       "              reg_lambda=1, scale_pos_weight=1, seed=None, silent=True,\n",
       "              subsample=0.9, verbosity=1)"
      ]
     },
     "execution_count": 25,
     "metadata": {},
     "output_type": "execute_result"
    }
   ],
   "source": [
    "mdl.fit(train_data,train_targets)"
   ]
  },
  {
   "cell_type": "code",
   "execution_count": 26,
   "metadata": {},
   "outputs": [
    {
     "data": {
      "text/plain": [
       "0.7163284576900226"
      ]
     },
     "execution_count": 26,
     "metadata": {},
     "output_type": "execute_result"
    }
   ],
   "source": [
    "test_pred = mdl.predict_proba(test_data)\n",
    "predictions = np.array(test_pred)[:,1]\n",
    "actuals = test_targets.astype('int')\n",
    "fpr, tpr, thresholds = metrics.roc_curve(actuals, predictions, pos_label=1)\n",
    "metrics.auc(fpr, tpr)"
   ]
  },
  {
   "cell_type": "markdown",
   "metadata": {},
   "source": [
    "## Save the wanted features only"
   ]
  },
  {
   "cell_type": "code",
   "execution_count": 27,
   "metadata": {},
   "outputs": [],
   "source": [
    "cols_to_drop = d[d['Mean']<0]['col_name'].to_list()"
   ]
  },
  {
   "cell_type": "code",
   "execution_count": 28,
   "metadata": {},
   "outputs": [],
   "source": [
    "df.drop(cols_to_drop, axis=1, inplace=True)"
   ]
  },
  {
   "cell_type": "code",
   "execution_count": 29,
   "metadata": {},
   "outputs": [],
   "source": [
    "df.to_csv('ds_challenge_data_impfeat.csv', sep='\\t' ,index=False)"
   ]
  },
  {
   "cell_type": "code",
   "execution_count": null,
   "metadata": {},
   "outputs": [],
   "source": []
  }
 ],
 "metadata": {
  "kernelspec": {
   "display_name": "Python 3",
   "language": "python",
   "name": "python3"
  },
  "language_info": {
   "codemirror_mode": {
    "name": "ipython",
    "version": 3
   },
   "file_extension": ".py",
   "mimetype": "text/x-python",
   "name": "python",
   "nbconvert_exporter": "python",
   "pygments_lexer": "ipython3",
   "version": "3.7.4"
  }
 },
 "nbformat": 4,
 "nbformat_minor": 2
}
