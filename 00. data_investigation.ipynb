{
 "cells": [
  {
   "cell_type": "markdown",
   "metadata": {},
   "source": [
    "### Lets look at the data a bit"
   ]
  },
  {
   "cell_type": "code",
   "execution_count": 1,
   "metadata": {},
   "outputs": [],
   "source": [
    "import pandas as pd\n",
    "import numpy as np"
   ]
  },
  {
   "cell_type": "code",
   "execution_count": 2,
   "metadata": {},
   "outputs": [],
   "source": [
    "df = pd.read_csv('ds_challenge_data.csv')"
   ]
  },
  {
   "cell_type": "markdown",
   "metadata": {},
   "source": [
    "##### Some outputs are cleared for privacy"
   ]
  },
  {
   "cell_type": "code",
   "execution_count": null,
   "metadata": {},
   "outputs": [],
   "source": [
    "df"
   ]
  },
  {
   "cell_type": "code",
   "execution_count": null,
   "metadata": {},
   "outputs": [],
   "source": [
    "df.max()"
   ]
  },
  {
   "cell_type": "code",
   "execution_count": null,
   "metadata": {
    "scrolled": true
   },
   "outputs": [],
   "source": [
    "df.min()"
   ]
  },
  {
   "cell_type": "code",
   "execution_count": null,
   "metadata": {
    "scrolled": true
   },
   "outputs": [],
   "source": [
    "df.count()"
   ]
  },
  {
   "cell_type": "code",
   "execution_count": 7,
   "metadata": {},
   "outputs": [
    {
     "data": {
      "text/plain": [
       "Transaction_ID              0\n",
       "SKU_ID                      0\n",
       "Transaction_Date_ID         0\n",
       "Transaction_Hour_ID         0\n",
       "Online_Order_Type           0\n",
       "Online_Order_Type_Desc      0\n",
       "Transaction_Type            0\n",
       "Transaction_Sales_Type      0\n",
       "POS_Sales                   0\n",
       "POS_UnitsSold               0\n",
       "Department_ID               0\n",
       "Class_ID                    0\n",
       "SubClass_ID                 0\n",
       "SubClass_Desc               0\n",
       "Product_Weight              0\n",
       "Product_Weight_Dimension    0\n",
       "Product_Height              0\n",
       "Product_Length              0\n",
       "Product_Width               0\n",
       "Product_Unit_Dimension      0\n",
       "Product_Volumn              0\n",
       "Product_Volumn_Unit         0\n",
       "PRO                         0\n",
       "dtype: int64"
      ]
     },
     "execution_count": 7,
     "metadata": {},
     "output_type": "execute_result"
    }
   ],
   "source": [
    "df.isna().sum()"
   ]
  },
  {
   "cell_type": "markdown",
   "metadata": {},
   "source": [
    "There are no nulls! maybe 0's mean null, e.g., prods with 0 weight"
   ]
  },
  {
   "cell_type": "code",
   "execution_count": null,
   "metadata": {
    "scrolled": true
   },
   "outputs": [],
   "source": [
    "df[df['Transaction_ID']=='846-008']"
   ]
  },
  {
   "cell_type": "markdown",
   "metadata": {},
   "source": [
    "one txn can have many products in it"
   ]
  },
  {
   "cell_type": "code",
   "execution_count": 9,
   "metadata": {
    "scrolled": false
   },
   "outputs": [
    {
     "data": {
      "text/html": [
       "<div>\n",
       "<style scoped>\n",
       "    .dataframe tbody tr th:only-of-type {\n",
       "        vertical-align: middle;\n",
       "    }\n",
       "\n",
       "    .dataframe tbody tr th {\n",
       "        vertical-align: top;\n",
       "    }\n",
       "\n",
       "    .dataframe thead th {\n",
       "        text-align: right;\n",
       "    }\n",
       "</style>\n",
       "<table border=\"1\" class=\"dataframe\">\n",
       "  <thead>\n",
       "    <tr style=\"text-align: right;\">\n",
       "      <th></th>\n",
       "      <th>SKU_ID</th>\n",
       "      <th>Transaction_Date_ID</th>\n",
       "      <th>Transaction_Hour_ID</th>\n",
       "      <th>POS_Sales</th>\n",
       "      <th>POS_UnitsSold</th>\n",
       "      <th>Department_ID</th>\n",
       "      <th>Class_ID</th>\n",
       "      <th>SubClass_ID</th>\n",
       "      <th>Product_Weight</th>\n",
       "      <th>Product_Height</th>\n",
       "      <th>Product_Length</th>\n",
       "      <th>Product_Width</th>\n",
       "      <th>Product_Volumn</th>\n",
       "      <th>PRO</th>\n",
       "    </tr>\n",
       "  </thead>\n",
       "  <tbody>\n",
       "    <tr>\n",
       "      <th>count</th>\n",
       "      <td>321847.000000</td>\n",
       "      <td>3.218470e+05</td>\n",
       "      <td>321847.000000</td>\n",
       "      <td>321847.000000</td>\n",
       "      <td>321847.000000</td>\n",
       "      <td>321847.000000</td>\n",
       "      <td>321847.000000</td>\n",
       "      <td>321847.000000</td>\n",
       "      <td>321847.000000</td>\n",
       "      <td>321847.000000</td>\n",
       "      <td>321847.000000</td>\n",
       "      <td>321847.000000</td>\n",
       "      <td>321847.000000</td>\n",
       "      <td>321847.000000</td>\n",
       "    </tr>\n",
       "    <tr>\n",
       "      <th>mean</th>\n",
       "      <td>170075.000251</td>\n",
       "      <td>2.014561e+07</td>\n",
       "      <td>133308.478174</td>\n",
       "      <td>286.996263</td>\n",
       "      <td>3.508021</td>\n",
       "      <td>26.010691</td>\n",
       "      <td>2144.219135</td>\n",
       "      <td>11090.473119</td>\n",
       "      <td>7.601935</td>\n",
       "      <td>16.571495</td>\n",
       "      <td>15.007180</td>\n",
       "      <td>27.012102</td>\n",
       "      <td>0.808813</td>\n",
       "      <td>0.521614</td>\n",
       "    </tr>\n",
       "    <tr>\n",
       "      <th>std</th>\n",
       "      <td>46.324207</td>\n",
       "      <td>6.927640e+03</td>\n",
       "      <td>34878.750918</td>\n",
       "      <td>1797.485359</td>\n",
       "      <td>26.829688</td>\n",
       "      <td>7.501665</td>\n",
       "      <td>87.283612</td>\n",
       "      <td>762.115505</td>\n",
       "      <td>23.701032</td>\n",
       "      <td>144.583011</td>\n",
       "      <td>28.249977</td>\n",
       "      <td>702.554578</td>\n",
       "      <td>13.681234</td>\n",
       "      <td>0.499533</td>\n",
       "    </tr>\n",
       "    <tr>\n",
       "      <th>min</th>\n",
       "      <td>170017.016500</td>\n",
       "      <td>2.013051e+07</td>\n",
       "      <td>52032.000000</td>\n",
       "      <td>-84000.000000</td>\n",
       "      <td>-2000.000000</td>\n",
       "      <td>11.000000</td>\n",
       "      <td>2001.000000</td>\n",
       "      <td>10001.000000</td>\n",
       "      <td>0.000000</td>\n",
       "      <td>0.000000</td>\n",
       "      <td>0.000000</td>\n",
       "      <td>0.000000</td>\n",
       "      <td>0.000000</td>\n",
       "      <td>0.000000</td>\n",
       "    </tr>\n",
       "    <tr>\n",
       "      <th>25%</th>\n",
       "      <td>170024.639800</td>\n",
       "      <td>2.014082e+07</td>\n",
       "      <td>104048.000000</td>\n",
       "      <td>31.740000</td>\n",
       "      <td>1.000000</td>\n",
       "      <td>24.000000</td>\n",
       "      <td>2086.000000</td>\n",
       "      <td>10554.000000</td>\n",
       "      <td>0.000000</td>\n",
       "      <td>1.000000</td>\n",
       "      <td>1.000000</td>\n",
       "      <td>2.000000</td>\n",
       "      <td>0.000000</td>\n",
       "      <td>0.000000</td>\n",
       "    </tr>\n",
       "    <tr>\n",
       "      <th>50%</th>\n",
       "      <td>170072.638800</td>\n",
       "      <td>2.015032e+07</td>\n",
       "      <td>131635.000000</td>\n",
       "      <td>81.720000</td>\n",
       "      <td>1.000000</td>\n",
       "      <td>25.000000</td>\n",
       "      <td>2123.000000</td>\n",
       "      <td>10866.000000</td>\n",
       "      <td>1.000000</td>\n",
       "      <td>4.000000</td>\n",
       "      <td>4.000000</td>\n",
       "      <td>4.000000</td>\n",
       "      <td>0.000000</td>\n",
       "      <td>1.000000</td>\n",
       "    </tr>\n",
       "    <tr>\n",
       "      <th>75%</th>\n",
       "      <td>170121.466500</td>\n",
       "      <td>2.015072e+07</td>\n",
       "      <td>160242.500000</td>\n",
       "      <td>215.640000</td>\n",
       "      <td>2.000000</td>\n",
       "      <td>27.000000</td>\n",
       "      <td>2202.000000</td>\n",
       "      <td>11463.000000</td>\n",
       "      <td>4.000000</td>\n",
       "      <td>8.000000</td>\n",
       "      <td>12.000000</td>\n",
       "      <td>8.000000</td>\n",
       "      <td>0.000000</td>\n",
       "      <td>1.000000</td>\n",
       "    </tr>\n",
       "    <tr>\n",
       "      <th>max</th>\n",
       "      <td>170169.996300</td>\n",
       "      <td>2.015123e+07</td>\n",
       "      <td>234944.000000</td>\n",
       "      <td>545225.340000</td>\n",
       "      <td>3456.000000</td>\n",
       "      <td>78.000000</td>\n",
       "      <td>2417.000000</td>\n",
       "      <td>13043.000000</td>\n",
       "      <td>3000.000000</td>\n",
       "      <td>8564.000000</td>\n",
       "      <td>600.000000</td>\n",
       "      <td>79288.000000</td>\n",
       "      <td>3647.000000</td>\n",
       "      <td>1.000000</td>\n",
       "    </tr>\n",
       "  </tbody>\n",
       "</table>\n",
       "</div>"
      ],
      "text/plain": [
       "              SKU_ID  Transaction_Date_ID  Transaction_Hour_ID      POS_Sales  \\\n",
       "count  321847.000000         3.218470e+05        321847.000000  321847.000000   \n",
       "mean   170075.000251         2.014561e+07        133308.478174     286.996263   \n",
       "std        46.324207         6.927640e+03         34878.750918    1797.485359   \n",
       "min    170017.016500         2.013051e+07         52032.000000  -84000.000000   \n",
       "25%    170024.639800         2.014082e+07        104048.000000      31.740000   \n",
       "50%    170072.638800         2.015032e+07        131635.000000      81.720000   \n",
       "75%    170121.466500         2.015072e+07        160242.500000     215.640000   \n",
       "max    170169.996300         2.015123e+07        234944.000000  545225.340000   \n",
       "\n",
       "       POS_UnitsSold  Department_ID       Class_ID    SubClass_ID  \\\n",
       "count  321847.000000  321847.000000  321847.000000  321847.000000   \n",
       "mean        3.508021      26.010691    2144.219135   11090.473119   \n",
       "std        26.829688       7.501665      87.283612     762.115505   \n",
       "min     -2000.000000      11.000000    2001.000000   10001.000000   \n",
       "25%         1.000000      24.000000    2086.000000   10554.000000   \n",
       "50%         1.000000      25.000000    2123.000000   10866.000000   \n",
       "75%         2.000000      27.000000    2202.000000   11463.000000   \n",
       "max      3456.000000      78.000000    2417.000000   13043.000000   \n",
       "\n",
       "       Product_Weight  Product_Height  Product_Length  Product_Width  \\\n",
       "count   321847.000000   321847.000000   321847.000000  321847.000000   \n",
       "mean         7.601935       16.571495       15.007180      27.012102   \n",
       "std         23.701032      144.583011       28.249977     702.554578   \n",
       "min          0.000000        0.000000        0.000000       0.000000   \n",
       "25%          0.000000        1.000000        1.000000       2.000000   \n",
       "50%          1.000000        4.000000        4.000000       4.000000   \n",
       "75%          4.000000        8.000000       12.000000       8.000000   \n",
       "max       3000.000000     8564.000000      600.000000   79288.000000   \n",
       "\n",
       "       Product_Volumn            PRO  \n",
       "count   321847.000000  321847.000000  \n",
       "mean         0.808813       0.521614  \n",
       "std         13.681234       0.499533  \n",
       "min          0.000000       0.000000  \n",
       "25%          0.000000       0.000000  \n",
       "50%          0.000000       1.000000  \n",
       "75%          0.000000       1.000000  \n",
       "max       3647.000000       1.000000  "
      ]
     },
     "execution_count": 9,
     "metadata": {},
     "output_type": "execute_result"
    }
   ],
   "source": [
    "df.describe()"
   ]
  },
  {
   "cell_type": "code",
   "execution_count": 10,
   "metadata": {},
   "outputs": [
    {
     "data": {
      "text/plain": [
       "IN-STORE    321847\n",
       "Name: Online_Order_Type, dtype: int64"
      ]
     },
     "execution_count": 10,
     "metadata": {},
     "output_type": "execute_result"
    }
   ],
   "source": [
    "df['Online_Order_Type'].value_counts()"
   ]
  },
  {
   "cell_type": "code",
   "execution_count": 11,
   "metadata": {
    "scrolled": true
   },
   "outputs": [
    {
     "data": {
      "text/plain": [
       "IN-STORE    321847\n",
       "Name: Online_Order_Type_Desc, dtype: int64"
      ]
     },
     "execution_count": 11,
     "metadata": {},
     "output_type": "execute_result"
    }
   ],
   "source": [
    "df['Online_Order_Type_Desc'].value_counts()"
   ]
  },
  {
   "cell_type": "markdown",
   "metadata": {},
   "source": [
    "these two columns need to be ignored"
   ]
  },
  {
   "cell_type": "code",
   "execution_count": null,
   "metadata": {},
   "outputs": [],
   "source": [
    "df['Transaction_Type'].value_counts()"
   ]
  },
  {
   "cell_type": "code",
   "execution_count": null,
   "metadata": {
    "scrolled": true
   },
   "outputs": [],
   "source": [
    "df['Transaction_Sales_Type'].value_counts()"
   ]
  },
  {
   "cell_type": "markdown",
   "metadata": {},
   "source": [
    "these two are good for doing one-hot encoding"
   ]
  },
  {
   "cell_type": "code",
   "execution_count": null,
   "metadata": {},
   "outputs": [],
   "source": [
    "df['SubClass_Desc'].value_counts()"
   ]
  },
  {
   "cell_type": "markdown",
   "metadata": {},
   "source": [
    "this is a good to do some word-embedding"
   ]
  },
  {
   "cell_type": "code",
   "execution_count": 15,
   "metadata": {
    "scrolled": true
   },
   "outputs": [
    {
     "data": {
      "text/plain": [
       "IN    316841\n",
       "0       5000\n",
       "FT         4\n",
       "CM         2\n",
       "Name: Product_Unit_Dimension, dtype: int64"
      ]
     },
     "execution_count": 15,
     "metadata": {},
     "output_type": "execute_result"
    }
   ],
   "source": [
    "df['Product_Unit_Dimension'].value_counts()"
   ]
  },
  {
   "cell_type": "code",
   "execution_count": 16,
   "metadata": {},
   "outputs": [
    {
     "data": {
      "text/plain": [
       "FT3    307703\n",
       "0       14144\n",
       "Name: Product_Volumn_Unit, dtype: int64"
      ]
     },
     "execution_count": 16,
     "metadata": {},
     "output_type": "execute_result"
    }
   ],
   "source": [
    "df['Product_Volumn_Unit'].value_counts()"
   ]
  },
  {
   "cell_type": "markdown",
   "metadata": {},
   "source": [
    "use these to convert the values into one thing, FT3 is square feet probably"
   ]
  },
  {
   "cell_type": "code",
   "execution_count": null,
   "metadata": {},
   "outputs": [],
   "source": []
  },
  {
   "cell_type": "code",
   "execution_count": null,
   "metadata": {},
   "outputs": [],
   "source": []
  }
 ],
 "metadata": {
  "kernelspec": {
   "display_name": "Python 3",
   "language": "python",
   "name": "python3"
  },
  "language_info": {
   "codemirror_mode": {
    "name": "ipython",
    "version": 3
   },
   "file_extension": ".py",
   "mimetype": "text/x-python",
   "name": "python",
   "nbconvert_exporter": "python",
   "pygments_lexer": "ipython3",
   "version": "3.7.4"
  }
 },
 "nbformat": 4,
 "nbformat_minor": 2
}
