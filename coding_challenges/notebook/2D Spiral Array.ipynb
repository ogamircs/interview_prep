{
 "cells": [
  {
   "cell_type": "markdown",
   "metadata": {},
   "source": [
    "input = 3\n",
    "```\n",
    "123\n",
    "894\n",
    "765\n",
    "```\n",
    "\n",
    "input = 4\n",
    "```\n",
    "01 02 03 04\n",
    "12 13 14 05\n",
    "11 16 15 06\n",
    "10 09 08 07\n",
    "```\n",
    "\n",
    "input = 8\n",
    "```\n",
    "1 2 3 4 5 6 7 8\n",
    "28 29 30 31 32 33 34 9\n",
    "27 48 49 50 51 52 35 10\n",
    "26 47 60 61 62 53 36 11\n",
    "25 46 59 64 63 54 37 12\n",
    "24 45 58 57 56 55 38 13\n",
    "23 44 43 42 41 40 39 14\n",
    "22 21 20 19 18 17 16 15\n",
    "```"
   ]
  },
  {
   "cell_type": "code",
   "execution_count": 19,
   "metadata": {},
   "outputs": [],
   "source": [
    "def spiralArray(n):\n",
    "    def spiral(a):\n",
    "        n = len(a)\n",
    "        r = c = 0\n",
    "        for i in range(n*n):\n",
    "            a[r][c] = i+1\n",
    "\n",
    "            if(i+1<n):\n",
    "                c+=1\n",
    "            elif(i+1<(n*2)-1):\n",
    "                r+=1\n",
    "            elif(i+1<(n*3)-2):\n",
    "                c-=1\n",
    "            elif(i+1<(n*4)-4):\n",
    "                r-=1\n",
    "            elif(i+1<(n*5)-6):\n",
    "                c+=1\n",
    "            else:\n",
    "                break\n",
    "            \n",
    "    arr = []\n",
    "    for i in range(n):\n",
    "        sarr = []\n",
    "        for j in range(n):\n",
    "            sarr.append(0)\n",
    "        arr.append(sarr)\n",
    "    \n",
    "    spiral(arr)\n",
    "\n",
    "    return arr"
   ]
  },
  {
   "cell_type": "code",
   "execution_count": 20,
   "metadata": {},
   "outputs": [
    {
     "data": {
      "text/plain": [
       "[[1, 2, 3], [8, 9, 4], [7, 6, 5]]"
      ]
     },
     "execution_count": 20,
     "metadata": {},
     "output_type": "execute_result"
    }
   ],
   "source": [
    "spiralArray(3)"
   ]
  },
  {
   "cell_type": "code",
   "execution_count": 16,
   "metadata": {},
   "outputs": [
    {
     "data": {
      "text/plain": [
       "3"
      ]
     },
     "execution_count": 16,
     "metadata": {},
     "output_type": "execute_result"
    }
   ],
   "source": [
    "len(spiralArray(3))"
   ]
  },
  {
   "cell_type": "code",
   "execution_count": 21,
   "metadata": {},
   "outputs": [],
   "source": [
    "def spiralArray(n):\n",
    "    def spiral(a):\n",
    "        # Initialize direction vectors: right, down, left, up\n",
    "        directions = [(0, 1), (1, 0), (0, -1), (-1, 0)]\n",
    "        direction_idx = 0  # Start with 'right' direction\n",
    "\n",
    "        r, c = 0, 0  # Start at the top-left corner\n",
    "        value = 1  # Start filling with 1\n",
    "\n",
    "        # Define boundaries for the spiral\n",
    "        top, bottom, left, right = 0, n - 1, 0, n - 1\n",
    "\n",
    "        while value <= n * n:\n",
    "            a[r][c] = value\n",
    "            value += 1\n",
    "\n",
    "            # Calculate the next position\n",
    "            dr, dc = directions[direction_idx]\n",
    "            nr, nc = r + dr, c + dc\n",
    "\n",
    "            # Check if the next position is within bounds and not visited\n",
    "            if top <= nr <= bottom and left <= nc <= right and a[nr][nc] == 0:\n",
    "                r, c = nr, nc\n",
    "            else:\n",
    "                # Change direction clockwise\n",
    "                direction_idx = (direction_idx + 1) % 4\n",
    "                dr, dc = directions[direction_idx]\n",
    "                r, c = r + dr, c + dc\n",
    "\n",
    "                # Update boundaries after completing a loop in a direction\n",
    "                if direction_idx == 1:  # Moving down\n",
    "                    top += 1\n",
    "                elif direction_idx == 2:  # Moving left\n",
    "                    right -= 1\n",
    "                elif direction_idx == 3:  # Moving up\n",
    "                    bottom -= 1\n",
    "                elif direction_idx == 0:  # Moving right\n",
    "                    left += 1\n",
    "\n",
    "    # Create an empty n x n array filled with zeros\n",
    "    arr = [[0 for _ in range(n)] for _ in range(n)]\n",
    "\n",
    "    # Fill the array in a spiral order\n",
    "    spiral(arr)\n",
    "\n",
    "    return arr\n"
   ]
  },
  {
   "cell_type": "code",
   "execution_count": 22,
   "metadata": {},
   "outputs": [
    {
     "name": "stdout",
     "output_type": "stream",
     "text": [
      "[1, 2, 3]\n",
      "[8, 9, 4]\n",
      "[7, 6, 5]\n"
     ]
    }
   ],
   "source": [
    "# Example usage:\n",
    "n = 3\n",
    "result = spiralArray(n)\n",
    "for row in result:\n",
    "    print(row)"
   ]
  },
  {
   "cell_type": "code",
   "execution_count": 23,
   "metadata": {},
   "outputs": [
    {
     "name": "stdout",
     "output_type": "stream",
     "text": [
      "[1, 2, 3, 4, 5, 6, 7, 8]\n",
      "[28, 29, 30, 31, 32, 33, 34, 9]\n",
      "[27, 48, 49, 50, 51, 52, 35, 10]\n",
      "[26, 47, 60, 61, 62, 53, 36, 11]\n",
      "[25, 46, 59, 64, 63, 54, 37, 12]\n",
      "[24, 45, 58, 57, 56, 55, 38, 13]\n",
      "[23, 44, 43, 42, 41, 40, 39, 14]\n",
      "[22, 21, 20, 19, 18, 17, 16, 15]\n"
     ]
    }
   ],
   "source": [
    "# Example usage:\n",
    "n = 8\n",
    "result = spiralArray(n)\n",
    "for row in result:\n",
    "    print(row)"
   ]
  },
  {
   "cell_type": "code",
   "execution_count": null,
   "metadata": {},
   "outputs": [],
   "source": []
  }
 ],
 "metadata": {
  "kernelspec": {
   "display_name": "leetcode",
   "language": "python",
   "name": "python3"
  },
  "language_info": {
   "codemirror_mode": {
    "name": "ipython",
    "version": 3
   },
   "file_extension": ".py",
   "mimetype": "text/x-python",
   "name": "python",
   "nbconvert_exporter": "python",
   "pygments_lexer": "ipython3",
   "version": "3.13.0"
  }
 },
 "nbformat": 4,
 "nbformat_minor": 2
}
