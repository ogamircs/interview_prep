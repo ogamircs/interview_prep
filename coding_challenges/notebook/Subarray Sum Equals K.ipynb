{
 "cells": [
  {
   "cell_type": "markdown",
   "metadata": {},
   "source": [
    "Given an array of integers nums and an integer k, return the total number of subarrays whose sum equals to k.\n",
    "\n",
    "A subarray is a contiguous non-empty sequence of elements within an array.\n",
    "\n",
    "Example 1:\n",
    "\n",
    "- Input: nums = [1,1,1], k = 2\n",
    "- Output: 2\n",
    "\n",
    "Example 2:\n",
    "\n",
    "- Input: nums = [1,2,3], k = 3\n",
    "- Output: 2\n",
    " "
   ]
  },
  {
   "cell_type": "code",
   "execution_count": 34,
   "metadata": {},
   "outputs": [],
   "source": [
    "from itertools import combinations\n",
    "from typing import List\n",
    "\n",
    "class Solution:\n",
    "    def subarraySum(self, nums: List[int], k: int) -> int:\n",
    "        res = 0\n",
    "        L = len(nums)\n",
    "        for i in range(L):\n",
    "            for j in range(i+1):\n",
    "                if(sum(nums[j:(i+1)])==k):\n",
    "                    res += 1\n",
    "        return res\n",
    "\n",
    "s = Solution()"
   ]
  },
  {
   "cell_type": "code",
   "execution_count": 46,
   "metadata": {},
   "outputs": [],
   "source": [
    "class Solution:\n",
    "    def subarraySum(self, nums, k):\n",
    "        count = 0\n",
    "        sum_array = [0] * (len(nums) + 1)\n",
    "        sum_array[0] = 0\n",
    "        \n",
    "        # Create cumulative sum array\n",
    "        for i in range(1, len(nums) + 1):\n",
    "            sum_array[i] = sum_array[i - 1] + nums[i - 1]\n",
    "        \n",
    "        # Iterate through all subarrays and count those that sum to k\n",
    "        for start in range(len(nums)):\n",
    "            for end in range(start + 1, len(nums) + 1):\n",
    "                if sum_array[end] - sum_array[start] == k:\n",
    "                    count += 1\n",
    "        \n",
    "        return count\n",
    "s = Solution()"
   ]
  },
  {
   "cell_type": "code",
   "execution_count": 50,
   "metadata": {},
   "outputs": [],
   "source": [
    "class Solution:\n",
    "    def subarraySum(self, nums, k):\n",
    "        count = 0\n",
    "        total_sum = 0\n",
    "        sum_map = {0: 1}\n",
    "        \n",
    "        for num in nums:\n",
    "            total_sum += num\n",
    "            if total_sum - k in sum_map:\n",
    "                count += sum_map[total_sum - k]\n",
    "            sum_map[total_sum] = sum_map.get(total_sum, 0) + 1\n",
    "        \n",
    "        return count\n",
    "s = Solution()"
   ]
  },
  {
   "cell_type": "code",
   "execution_count": 51,
   "metadata": {},
   "outputs": [
    {
     "name": "stdout",
     "output_type": "stream",
     "text": [
      "2\n"
     ]
    }
   ],
   "source": [
    "nums = [1,2,3]; k = 3\n",
    "print(s.subarraySum(nums,k))"
   ]
  },
  {
   "cell_type": "code",
   "execution_count": 48,
   "metadata": {},
   "outputs": [
    {
     "name": "stdout",
     "output_type": "stream",
     "text": [
      "2\n"
     ]
    }
   ],
   "source": [
    "nums = [1,1,1]; k = 2\n",
    "print(s.subarraySum(nums,k))"
   ]
  },
  {
   "cell_type": "code",
   "execution_count": 49,
   "metadata": {},
   "outputs": [
    {
     "name": "stdout",
     "output_type": "stream",
     "text": [
      "4\n"
     ]
    }
   ],
   "source": [
    "print(s.subarraySum([1,2,1,2,1],3))"
   ]
  }
 ],
 "metadata": {
  "kernelspec": {
   "display_name": "leetcode",
   "language": "python",
   "name": "python3"
  },
  "language_info": {
   "codemirror_mode": {
    "name": "ipython",
    "version": 3
   },
   "file_extension": ".py",
   "mimetype": "text/x-python",
   "name": "python",
   "nbconvert_exporter": "python",
   "pygments_lexer": "ipython3",
   "version": "3.13.0"
  }
 },
 "nbformat": 4,
 "nbformat_minor": 2
}
