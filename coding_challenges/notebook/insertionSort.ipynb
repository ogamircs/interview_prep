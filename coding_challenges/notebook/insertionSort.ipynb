{
 "cells": [
  {
   "cell_type": "code",
   "execution_count": 13,
   "metadata": {},
   "outputs": [],
   "source": [
    "def insertionSort2(n, arr):\n",
    "    for i in range(1,n):\n",
    "        if(arr[i-1]>arr[i]):\n",
    "        #fine the position of arr[i]\n",
    "            for j in range(i):\n",
    "                if(arr[j]>arr[i]):\n",
    "                    arr[j], arr[i] = arr[i], arr[j]\n",
    "        print(\" \".join(str(x) for x in arr))"
   ]
  },
  {
   "cell_type": "code",
   "execution_count": 14,
   "metadata": {},
   "outputs": [
    {
     "name": "stdout",
     "output_type": "stream",
     "text": [
      "3 4 1 2\n",
      "1 3 4 2\n",
      "1 2 3 4\n"
     ]
    }
   ],
   "source": [
    "insertionSort2(4, [3,4,1,2])"
   ]
  },
  {
   "cell_type": "code",
   "execution_count": null,
   "metadata": {},
   "outputs": [],
   "source": []
  }
 ],
 "metadata": {
  "kernelspec": {
   "display_name": "leetcode",
   "language": "python",
   "name": "python3"
  },
  "language_info": {
   "codemirror_mode": {
    "name": "ipython",
    "version": 3
   },
   "file_extension": ".py",
   "mimetype": "text/x-python",
   "name": "python",
   "nbconvert_exporter": "python",
   "pygments_lexer": "ipython3",
   "version": "3.13.0"
  }
 },
 "nbformat": 4,
 "nbformat_minor": 2
}
