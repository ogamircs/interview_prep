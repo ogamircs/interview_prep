{
 "cells": [
  {
   "cell_type": "code",
   "execution_count": 80,
   "metadata": {},
   "outputs": [],
   "source": [
    "from itertools import permutations\n",
    "\n",
    "def nextPermutation(nums):\n",
    "    found = False\n",
    "    nextPerm = sorted(nums)\n",
    "    p = set(permutations(sorted(nums)))\n",
    "    for i,c in enumerate(p):\n",
    "        if(found):\n",
    "            nextPerm = list(c)\n",
    "            break\n",
    "        if(nums==list(c)):\n",
    "            found = True\n",
    "    for i in range(len(nums)):\n",
    "        nums[i] = nextPerm[i]\n",
    "    return None"
   ]
  },
  {
   "cell_type": "code",
   "execution_count": null,
   "metadata": {},
   "outputs": [],
   "source": [
    "from more_itertools import distinct_permutations as idp\n",
    "\n",
    "def nextPermutation(nums):\n",
    "    found = False\n",
    "    nextPerm = sorted(nums)\n",
    "    for i,c in enumerate(idp(sorted(nums), 0)):\n",
    "        if(found):\n",
    "            nextPerm = list(c)\n",
    "            break\n",
    "        if(nums==list(c)):\n",
    "            found = True\n",
    "    for i in range(len(nums)):\n",
    "        nums[i] = nextPerm[i]\n",
    "    return None"
   ]
  },
  {
   "cell_type": "code",
   "execution_count": 81,
   "metadata": {},
   "outputs": [
    {
     "name": "stdout",
     "output_type": "stream",
     "text": [
      "[1, 1, 5]\n"
     ]
    }
   ],
   "source": [
    "#nums = [1,2,3]\n",
    "#nums = [1,1,5]\n",
    "#nums = [3,2,1]\n",
    "#nums = [1,3,2] #-> [2, 1, 3]\n",
    "nums = [1,5,1]\n",
    "nextPermutation(nums)\n",
    "print(nums)"
   ]
  },
  {
   "cell_type": "code",
   "execution_count": 79,
   "metadata": {},
   "outputs": [
    {
     "name": "stdout",
     "output_type": "stream",
     "text": [
      "(1, 1, 5)\n",
      "(1, 5, 1)\n",
      "(5, 1, 1)\n"
     ]
    }
   ],
   "source": [
    "for i,c in enumerate(idp([1,1,5])):\n",
    "    print(c)"
   ]
  },
  {
   "cell_type": "code",
   "execution_count": 140,
   "metadata": {},
   "outputs": [],
   "source": [
    "def nextPermutation(nums):\n",
    "    L = len(nums)\n",
    "    i = L - 2\n",
    "    #first first item out of decreasing order\n",
    "    while((i>=0) & (nums[i+1]<=nums[i])):\n",
    "        i -= 1\n",
    "    #find the first item bigger than that in rest of set\n",
    "    if(i>=0):\n",
    "        j = L - 1\n",
    "        while(nums[j]<=nums[i]):\n",
    "            j -= 1\n",
    "        nums[i], nums[j] = nums[j], nums[i]\n",
    "    #revers the rest of the set\n",
    "    i, j = i+1, L - 1\n",
    "    while i < j:\n",
    "        nums[i], nums[j] = nums[j], nums[i]\n",
    "        i += 1\n",
    "        j -= 1\n",
    "\n",
    "    return None"
   ]
  },
  {
   "cell_type": "code",
   "execution_count": 141,
   "metadata": {},
   "outputs": [
    {
     "name": "stdout",
     "output_type": "stream",
     "text": [
      "[2, 1, 3]\n"
     ]
    }
   ],
   "source": [
    "#nums = [1,2,3]\n",
    "#nums = [1,1,5]\n",
    "#nums = [3,2,1]\n",
    "nums = [1,3,2] #-> [2, 1, 3]\n",
    "nextPermutation(nums)\n",
    "print(nums)"
   ]
  },
  {
   "cell_type": "code",
   "execution_count": 142,
   "metadata": {},
   "outputs": [
    {
     "name": "stdout",
     "output_type": "stream",
     "text": [
      "[1, 2, 3]\n",
      "[1, 3, 2]\n",
      "[2, 1, 3]\n",
      "[2, 3, 1]\n",
      "[3, 1, 2]\n",
      "[3, 2, 1]\n",
      "[1, 2, 3]\n"
     ]
    }
   ],
   "source": [
    "nums = [1,2,3]\n",
    "for i in range(7):\n",
    "    print(nums)\n",
    "    nextPermutation(nums)"
   ]
  },
  {
   "cell_type": "code",
   "execution_count": 143,
   "metadata": {},
   "outputs": [
    {
     "name": "stdout",
     "output_type": "stream",
     "text": [
      "[1, 5, 1]\n",
      "[5, 1, 1]\n",
      "[1, 1, 5]\n",
      "[1, 5, 1]\n",
      "[5, 1, 1]\n",
      "[1, 1, 5]\n",
      "[1, 5, 1]\n"
     ]
    }
   ],
   "source": [
    "nums = [1,5,1]\n",
    "for i in range(7):\n",
    "    print(nums)\n",
    "    nextPermutation(nums)"
   ]
  }
 ],
 "metadata": {
  "kernelspec": {
   "display_name": "base",
   "language": "python",
   "name": "python3"
  },
  "language_info": {
   "codemirror_mode": {
    "name": "ipython",
    "version": 3
   },
   "file_extension": ".py",
   "mimetype": "text/x-python",
   "name": "python",
   "nbconvert_exporter": "python",
   "pygments_lexer": "ipython3",
   "version": "3.11.9"
  }
 },
 "nbformat": 4,
 "nbformat_minor": 2
}
