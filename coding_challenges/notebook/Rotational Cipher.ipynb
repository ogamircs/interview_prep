{
 "cells": [
  {
   "cell_type": "markdown",
   "metadata": {},
   "source": [
    "`Rotational Cipher`\n",
    "\n",
    "One simple way to encrypt a string is to \"rotate\" every alphanumeric character by a certain amount. Rotating a character means replacing it with another character that is a certain number of steps away in normal alphabetic or numerical order.\n",
    "For example, if the string \"Zebra-493?\" is rotated 3 places, the resulting string is \"Cheud-726?\". Every alphabetic character is replaced with the character 3 letters higher (wrapping around from Z to A), and every numeric character replaced with the character 3 digits higher (wrapping around from 9 to 0). Note that the non-alphanumeric characters remain unchanged.\n",
    "Given a string and a rotation factor, return an encrypted string.\n"
   ]
  },
  {
   "cell_type": "markdown",
   "metadata": {},
   "source": [
    "`Example 1`\n",
    "`\n",
    "\n",
    "input = Zebra-493? rotationFactor = 3 output = Cheud-726?\n",
    "\n",
    "`Example 2`\n",
    "\n",
    "\n",
    "input = abcdefghijklmNOPQRSTUVWXYZ0123456789 rotationFactor = 39 output = nopqrstuvwxyzABCDEFGHIJKLM9012345678\n"
   ]
  },
  {
   "cell_type": "code",
   "execution_count": 13,
   "metadata": {},
   "outputs": [],
   "source": [
    "def rotationalCipher(s, rotationFactor):\n",
    "    newS = \"\"\n",
    "    small_chars = \"abcdefghijklmnopqrstuvwxyz\"\n",
    "    big_chars = small_chars.upper()\n",
    "    n = len(small_chars)\n",
    "    for c in s:\n",
    "        if(c in small_chars):\n",
    "            newIndex = small_chars.index(c)+rotationFactor\n",
    "            while(newIndex>(n-1)):\n",
    "                newIndex = newIndex-n\n",
    "            newS += small_chars[newIndex]\n",
    "        elif(c in big_chars):\n",
    "            newIndex = big_chars.index(c)+rotationFactor\n",
    "            while(newIndex>(n-1)):\n",
    "                newIndex = newIndex-n\n",
    "            newS+= big_chars[newIndex]\n",
    "        else:\n",
    "            newS += c\n",
    "    return newS"
   ]
  },
  {
   "cell_type": "code",
   "execution_count": 14,
   "metadata": {},
   "outputs": [
    {
     "data": {
      "text/plain": [
       "'Cheud-493?'"
      ]
     },
     "execution_count": 14,
     "metadata": {},
     "output_type": "execute_result"
    }
   ],
   "source": [
    "input = \"Zebra-493?\"\n",
    "rotationFactor = 3\n",
    "rotationalCipher(input, rotationFactor)"
   ]
  },
  {
   "cell_type": "code",
   "execution_count": 15,
   "metadata": {},
   "outputs": [
    {
     "data": {
      "text/plain": [
       "'nopqrstuvwxyzABCDEFGHIJKLM0123456789'"
      ]
     },
     "execution_count": 15,
     "metadata": {},
     "output_type": "execute_result"
    }
   ],
   "source": [
    "input = \"abcdefghijklmNOPQRSTUVWXYZ0123456789\" \n",
    "rotationFactor = 39\n",
    "rotationalCipher(input, rotationFactor)"
   ]
  }
 ],
 "metadata": {
  "kernelspec": {
   "display_name": "leetcode",
   "language": "python",
   "name": "python3"
  },
  "language_info": {
   "codemirror_mode": {
    "name": "ipython",
    "version": 3
   },
   "file_extension": ".py",
   "mimetype": "text/x-python",
   "name": "python",
   "nbconvert_exporter": "python",
   "pygments_lexer": "ipython3",
   "version": "3.13.0"
  }
 },
 "nbformat": 4,
 "nbformat_minor": 2
}
