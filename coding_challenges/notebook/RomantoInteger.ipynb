{
 "cells": [
  {
   "cell_type": "code",
   "execution_count": 55,
   "metadata": {},
   "outputs": [],
   "source": [
    "def romanToInt(s):\n",
    "    roman_nums = dict()\n",
    "    roman_nums['I'] = 1\n",
    "    roman_nums['V'] = 5\n",
    "    roman_nums['X'] = 10\n",
    "    roman_nums['L'] = 50\n",
    "    roman_nums['C'] = 100\n",
    "    roman_nums['D'] = 500\n",
    "    roman_nums['M'] = 1000\n",
    "    \n",
    "    res = 0\n",
    "    i = len(s)-1\n",
    "    while(i>=0):\n",
    "        cur_c = s[i]\n",
    "        prv_c = ''\n",
    "        if((i-1)>=0):\n",
    "            prv_c = s[i-1]\n",
    "        \n",
    "        res = roman_nums[cur_c] + res\n",
    "        i -= 1\n",
    "\n",
    "        if(prv_c != ''):\n",
    "            if(roman_nums[prv_c] < roman_nums[cur_c]):\n",
    "                res = res - roman_nums[prv_c]\n",
    "                i -= 1\n",
    "    \n",
    "    return res"
   ]
  },
  {
   "cell_type": "code",
   "execution_count": 58,
   "metadata": {},
   "outputs": [
    {
     "name": "stdout",
     "output_type": "stream",
     "text": [
      "3\n"
     ]
    }
   ],
   "source": [
    "s = \"XIV\"\n",
    "s = \"III\"\n",
    "#s = \"MCMXCIV\"\n",
    "#s = \"IV\"\n",
    "print(romanToInt(s))"
   ]
  },
  {
   "cell_type": "code",
   "execution_count": null,
   "metadata": {},
   "outputs": [],
   "source": []
  }
 ],
 "metadata": {
  "kernelspec": {
   "display_name": "base",
   "language": "python",
   "name": "python3"
  },
  "language_info": {
   "codemirror_mode": {
    "name": "ipython",
    "version": 3
   },
   "file_extension": ".py",
   "mimetype": "text/x-python",
   "name": "python",
   "nbconvert_exporter": "python",
   "pygments_lexer": "ipython3",
   "version": "3.11.9"
  }
 },
 "nbformat": 4,
 "nbformat_minor": 2
}
