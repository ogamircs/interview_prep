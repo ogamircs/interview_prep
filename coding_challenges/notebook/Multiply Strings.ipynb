{
 "cells": [
  {
   "cell_type": "code",
   "execution_count": null,
   "metadata": {},
   "outputs": [],
   "source": [
    "class Solution:\n",
    "    def multiply(self, num1: str, num2: str) -> str:\n",
    "        return str(int(num1)*int(num2))"
   ]
  },
  {
   "cell_type": "code",
   "execution_count": 8,
   "metadata": {},
   "outputs": [],
   "source": [
    "s = Solution()"
   ]
  },
  {
   "cell_type": "code",
   "execution_count": 9,
   "metadata": {},
   "outputs": [
    {
     "data": {
      "text/plain": [
       "'6'"
      ]
     },
     "execution_count": 9,
     "metadata": {},
     "output_type": "execute_result"
    }
   ],
   "source": [
    "num1 = \"2\"\n",
    "num2 = \"3\"\n",
    "s.multiply(num1,num2)"
   ]
  },
  {
   "cell_type": "code",
   "execution_count": 12,
   "metadata": {},
   "outputs": [],
   "source": [
    "\n",
    "from itertools import zip_longest\n",
    "\n",
    "\n",
    "class Solution:\n",
    "    def multiply(self, num1: str, num2: str) -> str:\n",
    "        if num1 == \"0\" or num2 == \"0\":\n",
    "            return \"0\"\n",
    "\n",
    "        # Reverse both numbers.\n",
    "        first_number = num1[::-1]\n",
    "        second_number = num2[::-1]\n",
    "\n",
    "        # For each digit in second_number, multipy the digit by first_number and then\n",
    "        # store the multiplication result (reversed) in the results array.\n",
    "        results = []\n",
    "        for index, digit in enumerate(second_number):\n",
    "            results.append(self.multiply_one_digit(digit, index, first_number))\n",
    "\n",
    "        # Add all of the results together to get our final answer (in reverse order)\n",
    "        answer = self.sum_results(results)\n",
    "\n",
    "        # Reverse answer and join the digits to get the final answer.\n",
    "        return \"\".join(str(digit) for digit in reversed(answer))\n",
    "\n",
    "    def multiply_one_digit(\n",
    "        self, digit2, num_zeros, first_number):\n",
    "        \"\"\"Multiplies first_number by a digit from second_number (digit2).\"\"\"\n",
    "        # Insert zeros at the beginning of the current result based on the current digit's place.\n",
    "        current_result = [0] * num_zeros\n",
    "        carry = 0\n",
    "\n",
    "        # Multiply each digit in first_number with the current digit of the second_number.\n",
    "        for digit1 in first_number:\n",
    "            multiplication = int(digit1) * int(digit2) + carry\n",
    "            # Set carry equal to the tens place digit of multiplication.\n",
    "            carry = multiplication // 10\n",
    "            # Append last digit to the current result.\n",
    "            current_result.append(multiplication % 10)\n",
    "\n",
    "        if carry != 0:\n",
    "            current_result.append(carry)\n",
    "        return current_result\n",
    "\n",
    "    def sum_results(self, results):\n",
    "        # Initialize answer as a number from results.\n",
    "        answer = results.pop()\n",
    "\n",
    "        # Add each result to answer one at a time.\n",
    "        for result in results:\n",
    "            new_answer = []\n",
    "            carry = 0\n",
    "\n",
    "            # Sum each digit from answer and result. Note: zip_longest is the\n",
    "            # same as zip, except that it pads the shorter list with fillvalue.\n",
    "            for digit1, digit2 in zip_longest(result, answer, fillvalue=0):\n",
    "                # Add current digit from both numbers.\n",
    "                curr_sum = digit1 + digit2 + carry\n",
    "                # Set carry equal to the tens place digit of curr_sum.\n",
    "                carry = curr_sum // 10\n",
    "                # Append the ones place digit of curr_sum to the new answer.\n",
    "                new_answer.append(curr_sum % 10)\n",
    "\n",
    "            if carry != 0:\n",
    "                new_answer.append(carry)\n",
    "\n",
    "            # Update answer to new_answer which equals answer + result\n",
    "            answer = new_answer\n",
    "\n",
    "        return answer"
   ]
  },
  {
   "cell_type": "code",
   "execution_count": 13,
   "metadata": {},
   "outputs": [],
   "source": [
    "s = Solution()"
   ]
  },
  {
   "cell_type": "code",
   "execution_count": 15,
   "metadata": {},
   "outputs": [
    {
     "data": {
      "text/plain": [
       "'56088'"
      ]
     },
     "execution_count": 15,
     "metadata": {},
     "output_type": "execute_result"
    }
   ],
   "source": [
    "num1 = \"123\"\n",
    "num2 = \"456\"\n",
    "s.multiply(num1,num2)"
   ]
  },
  {
   "cell_type": "code",
   "execution_count": null,
   "metadata": {},
   "outputs": [],
   "source": []
  }
 ],
 "metadata": {
  "kernelspec": {
   "display_name": "base",
   "language": "python",
   "name": "python3"
  },
  "language_info": {
   "codemirror_mode": {
    "name": "ipython",
    "version": 3
   },
   "file_extension": ".py",
   "mimetype": "text/x-python",
   "name": "python",
   "nbconvert_exporter": "python",
   "pygments_lexer": "ipython3",
   "version": "3.11.9"
  }
 },
 "nbformat": 4,
 "nbformat_minor": 2
}
