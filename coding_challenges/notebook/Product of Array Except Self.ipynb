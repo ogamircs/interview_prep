{
 "cells": [
  {
   "cell_type": "code",
   "execution_count": 35,
   "metadata": {},
   "outputs": [],
   "source": [
    "def productExceptSelf(nums):\n",
    "    answer = []\n",
    "    for i in range(len(nums)):\n",
    "        prod = 1\n",
    "        for j in range(len(nums)):\n",
    "            if(i!=j):\n",
    "                prod *= nums[j]\n",
    "        answer.append(prod)\n",
    "    return answer"
   ]
  },
  {
   "cell_type": "code",
   "execution_count": 36,
   "metadata": {},
   "outputs": [
    {
     "name": "stdout",
     "output_type": "stream",
     "text": [
      "[24, 12, 8, 6]\n"
     ]
    }
   ],
   "source": [
    "nums = [1,2,3,4]\n",
    "print(productExceptSelf(nums))"
   ]
  },
  {
   "cell_type": "code",
   "execution_count": 14,
   "metadata": {},
   "outputs": [
    {
     "name": "stdout",
     "output_type": "stream",
     "text": [
      "[0, 0, 9, 0, 0]\n"
     ]
    }
   ],
   "source": [
    "nums = [-1,1,0,-3,3]\n",
    "print(productExceptSelf(nums))"
   ]
  },
  {
   "cell_type": "code",
   "execution_count": 17,
   "metadata": {},
   "outputs": [],
   "source": [
    "import numpy as np"
   ]
  },
  {
   "cell_type": "code",
   "execution_count": 20,
   "metadata": {},
   "outputs": [
    {
     "data": {
      "text/plain": [
       "np.int64(24)"
      ]
     },
     "execution_count": 20,
     "metadata": {},
     "output_type": "execute_result"
    }
   ],
   "source": [
    "np.prod(nums)"
   ]
  },
  {
   "cell_type": "code",
   "execution_count": 23,
   "metadata": {},
   "outputs": [],
   "source": [
    "import numpy as np\n",
    "\n",
    "def productExceptSelf(nums):\n",
    "    answer = []\n",
    "    for i in range(len(nums)):\n",
    "        new_n = nums.copy()\n",
    "        new_n[i] = 1\n",
    "        prod = int(np.prod(new_n))\n",
    "        answer.append(prod)\n",
    "    return answer"
   ]
  },
  {
   "cell_type": "code",
   "execution_count": 32,
   "metadata": {},
   "outputs": [
    {
     "name": "stdout",
     "output_type": "stream",
     "text": [
      "[24, 12, 8, 6]\n"
     ]
    }
   ],
   "source": [
    "nums = [1,2,3,4]\n",
    "print(productExceptSelf(nums))"
   ]
  },
  {
   "cell_type": "code",
   "execution_count": 25,
   "metadata": {},
   "outputs": [],
   "source": [
    "import numpy as np\n",
    "\n",
    "def productExceptSelf(nums):\n",
    "    L = len(nums)\n",
    "    answer = []\n",
    "    nums.append(1)\n",
    "    for i in range(L):\n",
    "        nums[i], nums[L] = nums[L], nums[i]\n",
    "        prod = int(np.prod(nums[0:L]))\n",
    "        answer.append(prod)\n",
    "    return answer"
   ]
  },
  {
   "cell_type": "code",
   "execution_count": 26,
   "metadata": {},
   "outputs": [
    {
     "name": "stdout",
     "output_type": "stream",
     "text": [
      "[24, 12, 8, 6]\n"
     ]
    }
   ],
   "source": [
    "nums = [1,2,3,4]\n",
    "print(productExceptSelf(nums))"
   ]
  },
  {
   "cell_type": "code",
   "execution_count": 1,
   "metadata": {},
   "outputs": [],
   "source": [
    "def productExceptSelf(nums):\n",
    "\n",
    "    # The length of the input array\n",
    "    length = len(nums)\n",
    "\n",
    "    # The left and right arrays as described in the algorithm\n",
    "    L, R, answer = [0] * length, [0] * length, [0] * length\n",
    "\n",
    "    # L[i] contains the product of all the elements to the left\n",
    "    # Note: for the element at index '0', there are no elements to the left,\n",
    "    # so the L[0] would be 1\n",
    "    L[0] = 1\n",
    "    for i in range(1, length):\n",
    "\n",
    "        # L[i - 1] already contains the product of elements to the left of 'i - 1'\n",
    "        # Simply multiplying it with nums[i - 1] would give the product of all\n",
    "        # elements to the left of index 'i'\n",
    "        L[i] = nums[i - 1] * L[i - 1]\n",
    "\n",
    "    # R[i] contains the product of all the elements to the right\n",
    "    # Note: for the element at index 'length - 1', there are no elements to the right,\n",
    "    # so the R[length - 1] would be 1\n",
    "    R[length - 1] = 1\n",
    "    for i in reversed(range(length - 1)):\n",
    "\n",
    "        # R[i + 1] already contains the product of elements to the right of 'i + 1'\n",
    "        # Simply multiplying it with nums[i + 1] would give the product of all\n",
    "        # elements to the right of index 'i'\n",
    "        R[i] = nums[i + 1] * R[i + 1]\n",
    "\n",
    "    # Constructing the answer array\n",
    "    for i in range(length):\n",
    "        # For the first element, R[i] would be product except self\n",
    "        # For the last element of the array, product except self would be L[i]\n",
    "        # Else, multiple product of all elements to the left and to the right\n",
    "        answer[i] = L[i] * R[i]\n",
    "\n",
    "    return answer"
   ]
  }
 ],
 "metadata": {
  "kernelspec": {
   "display_name": "leetcode",
   "language": "python",
   "name": "python3"
  },
  "language_info": {
   "codemirror_mode": {
    "name": "ipython",
    "version": 3
   },
   "file_extension": ".py",
   "mimetype": "text/x-python",
   "name": "python",
   "nbconvert_exporter": "python",
   "pygments_lexer": "ipython3",
   "version": "3.13.0"
  }
 },
 "nbformat": 4,
 "nbformat_minor": 2
}
