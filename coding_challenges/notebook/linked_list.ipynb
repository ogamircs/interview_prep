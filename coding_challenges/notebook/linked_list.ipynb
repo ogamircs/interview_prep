{
 "cells": [
  {
   "cell_type": "code",
   "execution_count": 3,
   "metadata": {},
   "outputs": [],
   "source": [
    "class Node:\n",
    "    def __init__(self, x):\n",
    "        self.data = x\n",
    "        self.next = None\n",
    "\n",
    "def insertNodeAtPosition(llist, data, position):\n",
    "    n = llist\n",
    "    p = None\n",
    "    # find the new position\n",
    "    for i in range(position):\n",
    "        p = n\n",
    "        n = n.next\n",
    "    #insert the node here\n",
    "    newNode = Node(data)\n",
    "    p.next = newNode\n",
    "    newNode.next = n\n",
    "    \n",
    "    return llist"
   ]
  },
  {
   "cell_type": "code",
   "execution_count": 5,
   "metadata": {},
   "outputs": [
    {
     "name": "stdout",
     "output_type": "stream",
     "text": [
      "3 5 12 8 10 \n"
     ]
    }
   ],
   "source": [
    "# Python program for insertion in a single linked\n",
    "# list at a specified position\n",
    "\n",
    "class Node:\n",
    "    def __init__(self, x):\n",
    "        self.data = x\n",
    "        self.next = None\n",
    "\n",
    "# function to insert a Node at required position\n",
    "def insert_pos(head, pos, data):\n",
    "    \n",
    "    # This condition to check whether the\n",
    "    # position given is valid or not.\n",
    "    if pos < 1:\n",
    "        return head\n",
    "    \n",
    "    # head will change if pos=1\n",
    "    if pos == 1:\n",
    "        new_node = Node(data)\n",
    "        new_node.next = head\n",
    "        size += 1\n",
    "        return new_node\n",
    "    \n",
    "    curr = head\n",
    "    \n",
    "    # Traverse to the node that will be \n",
    "    # present just before the new node\n",
    "    for _ in range(1, pos - 1):\n",
    "        if curr == None:\n",
    "            break\n",
    "        curr = curr.next\n",
    "        \n",
    "    # if position is greater\n",
    "    # number of nodes\n",
    "    if curr is None:\n",
    "        return head\n",
    "    \n",
    "    new_node = Node(data)\n",
    "    \n",
    "    # update the next pointers\n",
    "    new_node.next = curr.next\n",
    "    curr.next = new_node\n",
    "    \n",
    "    return head\n",
    "    \n",
    "def print_list(head):\n",
    "    curr = head\n",
    "    while curr is not None:\n",
    "        print(curr.data, end=\" \")\n",
    "        curr = curr.next\n",
    "    print()\n",
    "\n",
    "if __name__ == \"__main__\":\n",
    "    \n",
    "    # Creating the list 3->5->8->10\n",
    "    head = Node(3)\n",
    "    head.next = Node(5)\n",
    "    head.next.next = Node(8)\n",
    "    head.next.next.next = Node(10)\n",
    "\n",
    "    data = 12\n",
    "    pos = 3\n",
    "    head = insert_pos(head, pos, data)\n",
    "    print_list(head)"
   ]
  },
  {
   "cell_type": "code",
   "execution_count": null,
   "metadata": {},
   "outputs": [],
   "source": []
  }
 ],
 "metadata": {
  "kernelspec": {
   "display_name": "leetcode",
   "language": "python",
   "name": "python3"
  },
  "language_info": {
   "codemirror_mode": {
    "name": "ipython",
    "version": 3
   },
   "file_extension": ".py",
   "mimetype": "text/x-python",
   "name": "python",
   "nbconvert_exporter": "python",
   "pygments_lexer": "ipython3",
   "version": "3.13.0"
  }
 },
 "nbformat": 4,
 "nbformat_minor": 2
}
