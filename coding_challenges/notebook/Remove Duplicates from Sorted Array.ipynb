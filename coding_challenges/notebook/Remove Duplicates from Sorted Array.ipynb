{
 "cells": [
  {
   "cell_type": "code",
   "execution_count": 24,
   "metadata": {},
   "outputs": [],
   "source": [
    "def removeDuplicates(nums):\n",
    "    L = len(nums)\n",
    "    res = []\n",
    "    i = 0\n",
    "    while(i<L):\n",
    "        if(not (nums[i] in res)): res.append(nums[i])\n",
    "        i += 1\n",
    "    \n",
    "    for i,c in enumerate(res):\n",
    "        nums[i] = c\n",
    "    \n",
    "    new_L = len(res)\n",
    "    i = new_L \n",
    "    while(i<L):\n",
    "        nums[i] = '_'\n",
    "        i += 1\n",
    "\n",
    "    return new_L"
   ]
  },
  {
   "cell_type": "code",
   "execution_count": null,
   "metadata": {},
   "outputs": [],
   "source": [
    "def removeDuplicates(nums):        \n",
    "    size = len(nums)\n",
    "    insertIndex = 1\n",
    "    for i in range(1, size):\n",
    "        # Found unique element\n",
    "        if nums[i - 1] != nums[i]:\n",
    "            # Updating insertIndex in our main array\n",
    "            nums[insertIndex] = nums[i]\n",
    "            # Incrementing insertIndex count by 1\n",
    "            insertIndex = insertIndex + 1\n",
    "    return insertIndex"
   ]
  },
  {
   "cell_type": "code",
   "execution_count": 27,
   "metadata": {},
   "outputs": [
    {
     "data": {
      "text/plain": [
       "5"
      ]
     },
     "execution_count": 27,
     "metadata": {},
     "output_type": "execute_result"
    }
   ],
   "source": [
    "#nums = [1,1,2]\n",
    "nums = [0,0,1,1,1,2,2,3,3,4]\n",
    "removeDuplicates(nums)"
   ]
  },
  {
   "cell_type": "code",
   "execution_count": 28,
   "metadata": {},
   "outputs": [
    {
     "data": {
      "text/plain": [
       "[0, 1, 2, 3, 4, '_', '_', '_', '_', '_']"
      ]
     },
     "execution_count": 28,
     "metadata": {},
     "output_type": "execute_result"
    }
   ],
   "source": [
    "nums"
   ]
  },
  {
   "cell_type": "code",
   "execution_count": null,
   "metadata": {},
   "outputs": [],
   "source": []
  }
 ],
 "metadata": {
  "kernelspec": {
   "display_name": "base",
   "language": "python",
   "name": "python3"
  },
  "language_info": {
   "codemirror_mode": {
    "name": "ipython",
    "version": 3
   },
   "file_extension": ".py",
   "mimetype": "text/x-python",
   "name": "python",
   "nbconvert_exporter": "python",
   "pygments_lexer": "ipython3",
   "version": "3.11.9"
  }
 },
 "nbformat": 4,
 "nbformat_minor": 2
}
