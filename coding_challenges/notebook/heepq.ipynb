{
 "cells": [
  {
   "cell_type": "code",
   "execution_count": 2,
   "metadata": {},
   "outputs": [
    {
     "data": {
      "text/plain": [
       "(1, 'write spec')"
      ]
     },
     "execution_count": 2,
     "metadata": {},
     "output_type": "execute_result"
    }
   ],
   "source": [
    "from heapq import heappush, heappop\n",
    "\n",
    "\n",
    "h = []\n",
    "heappush(h, (5, 'write code'))\n",
    "heappush(h, (7, 'release product'))\n",
    "heappush(h, (1, 'write spec'))\n",
    "heappush(h, (3, 'create tests'))\n",
    "heappop(h)"
   ]
  },
  {
   "cell_type": "code",
   "execution_count": null,
   "metadata": {},
   "outputs": [],
   "source": [
    "# Enter your code here. Read input from STDIN. Print output to STDOUT\n",
    "from heapq import heappush, heappop\n",
    "import sys\n",
    "\n",
    "Q = 0\n",
    "command = 0\n",
    "number = 0\n",
    "h = []\n",
    "deleted = []\n",
    "for c,line in enumerate(sys.stdin):\n",
    "    if(c==0):\n",
    "        Q = int(line)\n",
    "        continue\n",
    "    if(' ' in line):\n",
    "        command = int(line.strip().split()[0])\n",
    "        number = int(line.strip().split()[1])\n",
    "    elif((line!='') and (line!='\\n')):\n",
    "        command = int(line)\n",
    "    if(command==1):\n",
    "        heappush(h, number)\n",
    "    elif(command==2):\n",
    "        deleted.append(number)\n",
    "    elif(command==3):\n",
    "        element = heappop(h)\n",
    "        while(element in deleted):\n",
    "            element = heappop(h)\n",
    "        print(element)\n",
    "        heappush(h, element)"
   ]
  },
  {
   "cell_type": "code",
   "execution_count": 1,
   "metadata": {},
   "outputs": [
    {
     "data": {
      "text/plain": [
       "[-1, -1, 6, 5]"
      ]
     },
     "execution_count": 1,
     "metadata": {},
     "output_type": "execute_result"
    }
   ],
   "source": [
    "s1 = [-1,-1,6]\n",
    "s2 = [5]\n",
    "s1+s2"
   ]
  },
  {
   "cell_type": "code",
   "execution_count": null,
   "metadata": {},
   "outputs": [],
   "source": []
  }
 ],
 "metadata": {
  "kernelspec": {
   "display_name": "leetcode",
   "language": "python",
   "name": "python3"
  },
  "language_info": {
   "codemirror_mode": {
    "name": "ipython",
    "version": 3
   },
   "file_extension": ".py",
   "mimetype": "text/x-python",
   "name": "python",
   "nbconvert_exporter": "python",
   "pygments_lexer": "ipython3",
   "version": "3.13.0"
  }
 },
 "nbformat": 4,
 "nbformat_minor": 2
}
