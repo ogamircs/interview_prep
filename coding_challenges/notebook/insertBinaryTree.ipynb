{
 "cells": [
  {
   "cell_type": "code",
   "execution_count": 17,
   "metadata": {},
   "outputs": [],
   "source": [
    "class Node:\n",
    "    def __init__(self, info):\n",
    "        self.info = info  \n",
    "        self.left = None  \n",
    "        self.right = None \n",
    "        self.level = None \n",
    "\n",
    "    def __str__(self):\n",
    "        return str(self.info) \n",
    "\n",
    "def preOrder(root):\n",
    "    if root == None:\n",
    "        return\n",
    "    print (root.info, end=\" \")\n",
    "    preOrder(root.left)\n",
    "    preOrder(root.right)\n",
    "    \n",
    "class BinarySearchTree:\n",
    "    def __init__(self): \n",
    "        self.root = None\n",
    "\n",
    "#Node is defined as\n",
    "#self.left (the left child of the node)\n",
    "#self.right (the right child of the node)\n",
    "#self.info (the value of the node)\n",
    "\n",
    "    def insert(self, val):\n",
    "        #Enter you code here.\n",
    "        newNode = Node(val)\n",
    "        if(self.root == None):\n",
    "            self.root = newNode\n",
    "            return self.root\n",
    "        \n",
    "        p = self.root\n",
    "        while(True):\n",
    "            if(p.info>val):\n",
    "                if(p.left==None):\n",
    "                    p.left = newNode\n",
    "                    return self.root\n",
    "                else:\n",
    "                    p = p.left\n",
    "            else:\n",
    "                if(p.right==None):\n",
    "                    p.right = newNode\n",
    "                    return self.root\n",
    "                else:\n",
    "                    p = p.right\n",
    "        return self.root\n",
    "    \n",
    "    def height(self, root):\n",
    "        h = -1\n",
    "        pointer = root\n",
    "        if(pointer!=None):\n",
    "            hl = self.height(pointer.left)+1\n",
    "            hr = self.height(pointer.right)+1\n",
    "            h = max([hl, hr])\n",
    "        return h"
   ]
  },
  {
   "cell_type": "code",
   "execution_count": 18,
   "metadata": {},
   "outputs": [
    {
     "name": "stdout",
     "output_type": "stream",
     "text": [
      "4 2 1 3 7 6 "
     ]
    }
   ],
   "source": [
    "tree = BinarySearchTree()\n",
    "t = int(6)\n",
    "\n",
    "arr = list(map(int, (\"4 2 3 1 7 6\").split()))\n",
    "\n",
    "for i in range(t):\n",
    "    tree.insert(arr[i])\n",
    "\n",
    "preOrder(tree.root)"
   ]
  },
  {
   "cell_type": "code",
   "execution_count": 19,
   "metadata": {},
   "outputs": [
    {
     "name": "stdout",
     "output_type": "stream",
     "text": [
      "9 3 1 2 5 4 8 6 12 11 16 "
     ]
    }
   ],
   "source": [
    "tree = BinarySearchTree()\n",
    "t = int(11)\n",
    "\n",
    "arr = list(map(int, (\"9 3 5 1 8 12 16 11 2 4 6\").split()))\n",
    "\n",
    "for i in range(t):\n",
    "    tree.insert(arr[i])\n",
    "\n",
    "preOrder(tree.root)\n",
    "#9 3 1 2 5 4 8 6 12 11 16 "
   ]
  },
  {
   "cell_type": "code",
   "execution_count": 20,
   "metadata": {},
   "outputs": [],
   "source": [
    "h = tree.height(tree.root)"
   ]
  },
  {
   "cell_type": "code",
   "execution_count": 21,
   "metadata": {},
   "outputs": [
    {
     "data": {
      "text/plain": [
       "4"
      ]
     },
     "execution_count": 21,
     "metadata": {},
     "output_type": "execute_result"
    }
   ],
   "source": [
    "h"
   ]
  },
  {
   "cell_type": "code",
   "execution_count": null,
   "metadata": {},
   "outputs": [],
   "source": []
  }
 ],
 "metadata": {
  "kernelspec": {
   "display_name": "leetcode",
   "language": "python",
   "name": "python3"
  },
  "language_info": {
   "codemirror_mode": {
    "name": "ipython",
    "version": 3
   },
   "file_extension": ".py",
   "mimetype": "text/x-python",
   "name": "python",
   "nbconvert_exporter": "python",
   "pygments_lexer": "ipython3",
   "version": "3.13.0"
  }
 },
 "nbformat": 4,
 "nbformat_minor": 2
}
