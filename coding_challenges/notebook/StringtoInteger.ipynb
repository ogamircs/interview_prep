{
 "cells": [
  {
   "cell_type": "code",
   "execution_count": null,
   "metadata": {},
   "outputs": [],
   "source": [
    "import numpy as np\n",
    "import pandas as pd"
   ]
  },
  {
   "cell_type": "code",
   "execution_count": 91,
   "metadata": {},
   "outputs": [],
   "source": [
    "import math\n",
    "def myAtoi(s: str) -> int:\n",
    "    if(s==\"\"): return 0\n",
    "    if(str.isalpha(s[0])): return 0\n",
    "\n",
    "    res = 0\n",
    "    pos = 0\n",
    "    sign = 1\n",
    "\n",
    "    for i,c in enumerate(s):\n",
    "        if(((c==' ') | (c=='\\t') | (c=='\\n'))): \n",
    "            if(res==0): continue\n",
    "            else: \n",
    "                break\n",
    "\n",
    "        try:\n",
    "            if(((c=='-') | (c=='+')) & (i<len(s)) & ((s[i+1]=='-') | (s[i+1]=='+') | (s[i+1]==' '))):\n",
    "                break\n",
    "        except:\n",
    "            res = res\n",
    "        if((c=='-') & (sign==1) & (res==0)):\n",
    "            sign=-1\n",
    "            continue\n",
    "        elif((c=='-') & (sign==-1)): break\n",
    "        elif((c=='-') & (res!=0)): break\n",
    "\n",
    "        if((c=='+') & (sign==1) & (res==0)):\n",
    "            sign = 1\n",
    "            continue\n",
    "        elif((c=='+') & (sign==1)): break\n",
    "        elif((c=='+') & (res!=0)): break\n",
    "\n",
    "        if((c.isalpha()) | (c=='.')): \n",
    "            break\n",
    "        num = int(c)\n",
    "        try:\n",
    "            if((res==0) & (num==0) & (i<len(s)) & ((s[i+1]=='-') | (s[i+1]=='+') | (s[i+1]==' '))): \n",
    "                return 0\n",
    "        except:\n",
    "            # do nothing!\n",
    "            res = res\n",
    "        res = int(res*10) + num\n",
    "        pos += 1\n",
    "    res = res*sign\n",
    "    if (res<-2147483648): return -2147483648\n",
    "    elif res>(math.pow(2,31)-1): res = int(math.pow(2,31)-1)\n",
    "    return res"
   ]
  },
  {
   "cell_type": "code",
   "execution_count": 92,
   "metadata": {},
   "outputs": [
    {
     "name": "stdout",
     "output_type": "stream",
     "text": [
      "-2147483648\n"
     ]
    }
   ],
   "source": [
    "s = \"-42\"\n",
    "s = \"   -042\"\n",
    "s = \"1337c0d3\"\n",
    "\n",
    "s = \"42\"\n",
    "#s = \"-91283472332\"\n",
    "#s = \"3.14159\"\n",
    "#s = \"+-12\"\n",
    "#s = \"0-1\"\n",
    "s = \"  -0012a42\"\n",
    "s = \"   +0 123\"\n",
    "s = \"    -88827   5655  U\"\n",
    "s = \"      -11919730356x\"\n",
    "print(myAtoi(s)+0)"
   ]
  },
  {
   "cell_type": "code",
   "execution_count": 83,
   "metadata": {},
   "outputs": [
    {
     "data": {
      "text/plain": [
       "True"
      ]
     },
     "execution_count": 83,
     "metadata": {},
     "output_type": "execute_result"
    }
   ],
   "source": [
    "-10<-5"
   ]
  },
  {
   "cell_type": "code",
   "execution_count": 84,
   "metadata": {},
   "outputs": [
    {
     "data": {
      "text/plain": [
       "True"
      ]
     },
     "execution_count": 84,
     "metadata": {},
     "output_type": "execute_result"
    }
   ],
   "source": [
    "-11919730356<-2147483648"
   ]
  },
  {
   "cell_type": "code",
   "execution_count": null,
   "metadata": {},
   "outputs": [],
   "source": []
  }
 ],
 "metadata": {
  "kernelspec": {
   "display_name": "base",
   "language": "python",
   "name": "python3"
  },
  "language_info": {
   "codemirror_mode": {
    "name": "ipython",
    "version": 3
   },
   "file_extension": ".py",
   "mimetype": "text/x-python",
   "name": "python",
   "nbconvert_exporter": "python",
   "pygments_lexer": "ipython3",
   "version": "3.11.9"
  }
 },
 "nbformat": 4,
 "nbformat_minor": 2
}
