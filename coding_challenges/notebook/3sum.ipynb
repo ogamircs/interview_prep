{
 "cells": [
  {
   "cell_type": "code",
   "execution_count": 29,
   "metadata": {},
   "outputs": [],
   "source": [
    "def threeSum(nums):\n",
    "    L = len(nums)\n",
    "    res = []\n",
    "    nums.sort()\n",
    "    for i in range(L):\n",
    "        for j in range(i):\n",
    "            for k in range(j):\n",
    "                sum = (nums[i]+nums[j]+nums[k])\n",
    "                if( sum==0 ):\n",
    "                    output = [nums[i],nums[j],nums[k]]\n",
    "                    if (not (output in res)): res.append(output)\n",
    "                elif( sum>0 ): break\n",
    "    return res"
   ]
  },
  {
   "cell_type": "code",
   "execution_count": 30,
   "metadata": {},
   "outputs": [
    {
     "name": "stdout",
     "output_type": "stream",
     "text": [
      "[[1, 0, -1], [2, -1, -1]]\n"
     ]
    }
   ],
   "source": [
    "nums = [-1,0,1,2,-1,-4]\n",
    "#nums = [3,0,-2,-1,1,2]\n",
    "print(threeSum(nums))"
   ]
  },
  {
   "cell_type": "code",
   "execution_count": 34,
   "metadata": {},
   "outputs": [],
   "source": [
    "def threeSum(nums):\n",
    "    L = len(nums)\n",
    "    res = []\n",
    "    nums.sort()\n",
    "    for i in range(L):\n",
    "        l = 0\n",
    "        r = L-1\n",
    "        while((l<r) & (l<L) & (r>=0)): \n",
    "            sum = nums[i] + nums[l] + nums[r]\n",
    "            if(sum<0):\n",
    "                l += 1\n",
    "            if(sum>0):\n",
    "                r -= 1\n",
    "            if(sum==0):\n",
    "                output = [nums[i],nums[l],nums[r]]\n",
    "                output.sort()\n",
    "                if (not (output in res)): res.append(output)\n",
    "                l += 1\n",
    "                r -= 1\n",
    "    return res"
   ]
  },
  {
   "cell_type": "code",
   "execution_count": 35,
   "metadata": {},
   "outputs": [
    {
     "name": "stdout",
     "output_type": "stream",
     "text": [
      "[[-1, -1, 2], [-1, 0, 1], [-4, 2, 2]]\n"
     ]
    }
   ],
   "source": [
    "nums = [-1,0,1,2,-1,-4]\n",
    "#nums = [0,1,1]\n",
    "#nums = [3,0,-2,-1,1,2]\n",
    "print(threeSum(nums))"
   ]
  },
  {
   "cell_type": "code",
   "execution_count": null,
   "metadata": {},
   "outputs": [],
   "source": []
  }
 ],
 "metadata": {
  "kernelspec": {
   "display_name": "base",
   "language": "python",
   "name": "python3"
  },
  "language_info": {
   "codemirror_mode": {
    "name": "ipython",
    "version": 3
   },
   "file_extension": ".py",
   "mimetype": "text/x-python",
   "name": "python",
   "nbconvert_exporter": "python",
   "pygments_lexer": "ipython3",
   "version": "3.11.9"
  }
 },
 "nbformat": 4,
 "nbformat_minor": 2
}
