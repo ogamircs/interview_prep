{
 "cells": [
  {
   "cell_type": "code",
   "execution_count": 72,
   "metadata": {},
   "outputs": [],
   "source": [
    "def merge(nums1, m, nums2, n):\n",
    "    i = 0\n",
    "    j = 0\n",
    "    num_zeroes = n\n",
    "\n",
    "    if(n==0): \n",
    "        return None\n",
    "    if(m==0): \n",
    "        for i in range(n):\n",
    "            nums1[i] = nums2[i]\n",
    "        return None\n",
    "\n",
    "    while((num_zeroes>0) and (i<(m+n))):\n",
    "        if((i==0) and (nums1[i]>nums2[j])):\n",
    "            shiftForward(nums1, 1)\n",
    "            nums1[i] = nums2[j]\n",
    "            num_zeroes -= 1\n",
    "            j += 1\n",
    "\n",
    "        if((i>0) and (nums1[i]>nums2[j])):\n",
    "            shiftForward(nums1, i+1)\n",
    "            nums1[i] = nums2[j]\n",
    "            num_zeroes -= 1\n",
    "            j += 1\n",
    "        i += 1\n",
    "    i = m+n-num_zeroes\n",
    "    while(num_zeroes>0):\n",
    "        nums1[i] = nums2[j]\n",
    "        j += 1\n",
    "        i += 1\n",
    "        num_zeroes -= 1\n",
    "    return None\n",
    "\n",
    "\n",
    "def shiftForward(nums, k):\n",
    "    i = len(nums)-1\n",
    "    while(i>=k):\n",
    "        nums[i], nums[i-1] = nums[i-1], nums[i]\n",
    "        i -= 1"
   ]
  },
  {
   "cell_type": "code",
   "execution_count": 73,
   "metadata": {},
   "outputs": [
    {
     "name": "stdout",
     "output_type": "stream",
     "text": [
      "[1, 2, 2, 3, 5, 6]\n"
     ]
    }
   ],
   "source": [
    "nums1 = [1,2,3,0,0,0]\n",
    "m = 3\n",
    "nums2 = [2,5,6]\n",
    "n = 3\n",
    "merge(nums1, m, nums2, n)\n",
    "print(nums1)"
   ]
  },
  {
   "cell_type": "code",
   "execution_count": 74,
   "metadata": {},
   "outputs": [
    {
     "name": "stdout",
     "output_type": "stream",
     "text": [
      "[1, 2]\n"
     ]
    }
   ],
   "source": [
    "nums1 = [2,0]\n",
    "m = 1\n",
    "nums2 = [1]\n",
    "n = 1\n",
    "merge(nums1, m, nums2, n)\n",
    "print(nums1)"
   ]
  },
  {
   "cell_type": "code",
   "execution_count": 75,
   "metadata": {},
   "outputs": [
    {
     "name": "stdout",
     "output_type": "stream",
     "text": [
      "[1, 2, 3, 4, 5, 6]\n"
     ]
    }
   ],
   "source": [
    "nums1 = [4,5,6,0,0,0]\n",
    "m = 3\n",
    "nums2 = [1,2,3]\n",
    "n = 3\n",
    "merge(nums1, m, nums2, n)\n",
    "print(nums1)"
   ]
  },
  {
   "cell_type": "code",
   "execution_count": 76,
   "metadata": {},
   "outputs": [
    {
     "name": "stdout",
     "output_type": "stream",
     "text": [
      "[-1, 0, 0, 1, 2, 3, 3]\n"
     ]
    }
   ],
   "source": [
    "nums1 = [-1,3,0,0,0,0,0]\n",
    "m = 2\n",
    "nums2 = [0,0,1,2,3]\n",
    "n = 5\n",
    "merge(nums1, m, nums2, n)\n",
    "print(nums1)"
   ]
  },
  {
   "cell_type": "code",
   "execution_count": null,
   "metadata": {},
   "outputs": [],
   "source": [
    "class Solution:\n",
    "    def merge(self, nums1: List[int], m: int, nums2: List[int], n: int) -> None:\n",
    "        \"\"\"\n",
    "        Do not return anything, modify nums1 in-place instead.\n",
    "        \"\"\"\n",
    "\n",
    "        # Set p1 and p2 to point to the end of their respective arrays.\n",
    "        p1 = m - 1\n",
    "        p2 = n - 1\n",
    "\n",
    "        # And move p backward through the array, each time writing\n",
    "        # the smallest value pointed at by p1 or p2.\n",
    "        for p in range(n + m - 1, -1, -1):\n",
    "            if p2 < 0:\n",
    "                break\n",
    "            if p1 >= 0 and nums1[p1] > nums2[p2]:\n",
    "                nums1[p] = nums1[p1]\n",
    "                p1 -= 1\n",
    "            else:\n",
    "                nums1[p] = nums2[p2]\n",
    "                p2 -= 1"
   ]
  }
 ],
 "metadata": {
  "kernelspec": {
   "display_name": "econml",
   "language": "python",
   "name": "python3"
  },
  "language_info": {
   "codemirror_mode": {
    "name": "ipython",
    "version": 3
   },
   "file_extension": ".py",
   "mimetype": "text/x-python",
   "name": "python",
   "nbconvert_exporter": "python",
   "pygments_lexer": "ipython3",
   "version": "3.12.4"
  }
 },
 "nbformat": 4,
 "nbformat_minor": 2
}
