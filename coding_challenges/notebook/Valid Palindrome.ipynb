{
 "cells": [
  {
   "cell_type": "code",
   "execution_count": 2,
   "metadata": {},
   "outputs": [],
   "source": [
    "def isPalindrome(s):\n",
    "    cleanStr = ''\n",
    "    for i,c in enumerate(s):\n",
    "        if((c.isalnum()) and (c!=' ')):\n",
    "            cleanStr += c.lower()\n",
    "    for i in range(len(cleanStr)):\n",
    "        if(cleanStr[i]!=cleanStr[-i-1]):\n",
    "            return False\n",
    "    return True"
   ]
  },
  {
   "cell_type": "code",
   "execution_count": 39,
   "metadata": {},
   "outputs": [],
   "source": [
    "def isPalindrome(s):\n",
    "    new_s = [c for c in s.lower() if c.isalnum()]\n",
    "    return new_s == new_s[::-1]"
   ]
  },
  {
   "cell_type": "code",
   "execution_count": 3,
   "metadata": {},
   "outputs": [
    {
     "data": {
      "text/plain": [
       "True"
      ]
     },
     "execution_count": 3,
     "metadata": {},
     "output_type": "execute_result"
    }
   ],
   "source": [
    "#isPalindrome(\"aba\")\n",
    "isPalindrome(\" \")"
   ]
  },
  {
   "cell_type": "code",
   "execution_count": 4,
   "metadata": {},
   "outputs": [
    {
     "data": {
      "text/plain": [
       "True"
      ]
     },
     "execution_count": 4,
     "metadata": {},
     "output_type": "execute_result"
    }
   ],
   "source": [
    "s = \"A man, a plan, a canal: Panama\"\n",
    "#s = \"race a car\"\n",
    "isPalindrome(s)"
   ]
  },
  {
   "cell_type": "markdown",
   "metadata": {},
   "source": [
    "Given a string s, return true if the s can be palindrome after deleting at most one character from it.\n"
   ]
  },
  {
   "cell_type": "code",
   "execution_count": 5,
   "metadata": {},
   "outputs": [],
   "source": [
    "def validPalindrome(s):\n",
    "    def isPalindrome(s):\n",
    "        for i in range(len(s)):\n",
    "            if(s[i]!=s[-i-1]):\n",
    "                return False\n",
    "        return True\n",
    "    if(isPalindrome(s)): return True\n",
    "    L = len(s)\n",
    "    for i in range(L):\n",
    "        if(isPalindrome(s[0:i]+s[i+1:L])): return True\n",
    "    return False"
   ]
  },
  {
   "cell_type": "code",
   "execution_count": 6,
   "metadata": {},
   "outputs": [
    {
     "data": {
      "text/plain": [
       "True"
      ]
     },
     "execution_count": 6,
     "metadata": {},
     "output_type": "execute_result"
    }
   ],
   "source": [
    "#s = \"aba\"\n",
    "s = \"abca\"\n",
    "#s = \"abc\"\n",
    "validPalindrome(s)"
   ]
  },
  {
   "cell_type": "code",
   "execution_count": 11,
   "metadata": {},
   "outputs": [],
   "source": [
    "def validPalindrome(s):\n",
    "    L = len(s)\n",
    "    l = 0\n",
    "    r = L-1\n",
    "    skipped = False\n",
    "    while(l<r):\n",
    "        k = s[l]\n",
    "        kk = s[r]\n",
    "        if((not skipped) and (s[l]!=s[r])):\n",
    "            skipped = True\n",
    "            if(s[l+1]==s[r]):\n",
    "                r += 1\n",
    "            else:\n",
    "                l -= 1\n",
    "        elif(skipped and (s[l]!=s[r])):\n",
    "            return False\n",
    "        l += 1\n",
    "        r -= 1\n",
    "    return True"
   ]
  },
  {
   "cell_type": "code",
   "execution_count": 13,
   "metadata": {},
   "outputs": [
    {
     "name": "stdout",
     "output_type": "stream",
     "text": [
      "True\n"
     ]
    }
   ],
   "source": [
    "#s = \"aba\"\n",
    "#s = \"abbca\"\n",
    "s = \"abca\"\n",
    "#s = \"abcfdefefe\"\n",
    "#s = \"abcf\"\n",
    "print(validPalindrome(s))"
   ]
  },
  {
   "cell_type": "code",
   "execution_count": null,
   "metadata": {},
   "outputs": [],
   "source": []
  }
 ],
 "metadata": {
  "kernelspec": {
   "display_name": "leetcode",
   "language": "python",
   "name": "python3"
  },
  "language_info": {
   "codemirror_mode": {
    "name": "ipython",
    "version": 3
   },
   "file_extension": ".py",
   "mimetype": "text/x-python",
   "name": "python",
   "nbconvert_exporter": "python",
   "pygments_lexer": "ipython3",
   "version": "3.13.0"
  }
 },
 "nbformat": 4,
 "nbformat_minor": 2
}
