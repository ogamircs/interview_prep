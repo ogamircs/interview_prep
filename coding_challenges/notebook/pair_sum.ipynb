{
 "cells": [
  {
   "cell_type": "markdown",
   "metadata": {},
   "source": [
    "`Pair Sums`\n",
    "\n",
    "Given a list of n integers arr[0..(n-1)], determine the number of different pairs of elements within it which sum to k.\n",
    "If an integer appears in the list multiple times, each copy is considered to be different; that is, two pairs are considered different if one pair includes at least one array index which the other doesn't, even if they include the same values.\n"
   ]
  },
  {
   "cell_type": "code",
   "execution_count": 3,
   "metadata": {},
   "outputs": [],
   "source": [
    "#brute force\n",
    "def numberOfWays(arr,k):\n",
    "    n = len(arr)\n",
    "    res = 0\n",
    "    for i in range(n):\n",
    "        for j in range(i):\n",
    "            if((arr[i]+arr[j])==k):\n",
    "                res += 1\n",
    "    return res"
   ]
  },
  {
   "cell_type": "code",
   "execution_count": 12,
   "metadata": {},
   "outputs": [],
   "source": [
    "#sliding window solution\n",
    "#O(nlogn)\n",
    "def numberOfWays(arr,k):\n",
    "    n = len(arr)\n",
    "    res = 0\n",
    "    i = 0\n",
    "    j = n-1\n",
    "    a = sorted(arr)\n",
    "    while(i<j):\n",
    "        if((a[i]+a[j])==k):\n",
    "            if(a[i]==a[j]):\n",
    "                count = j - i + 1\n",
    "                res += (count * (count - 1)) // 2\n",
    "                break\n",
    "            else:\n",
    "                # Count duplicates for a[i] and a[j]\n",
    "                left_count = 1\n",
    "                right_count = 1\n",
    "                while i + 1 < j and a[i] == a[i + 1]:\n",
    "                    left_count += 1\n",
    "                    i += 1\n",
    "                while j - 1 > i and a[j] == a[j - 1]:\n",
    "                    right_count += 1\n",
    "                    j -= 1\n",
    "            res += left_count * right_count  # Total pairs for current i and j\n",
    "            i += 1\n",
    "            j -= 1\n",
    "        elif((a[i]+a[j])>k):\n",
    "            j -= 1\n",
    "        else:\n",
    "            i += 1\n",
    "        \n",
    "    return res"
   ]
  },
  {
   "cell_type": "code",
   "execution_count": 15,
   "metadata": {},
   "outputs": [],
   "source": [
    "#O(n)\n",
    "def numberOfWays(arr,k):\n",
    "    freq_map = {}\n",
    "    n = len(arr)\n",
    "    res = 0\n",
    "    for i in range(n):\n",
    "        compliment = k - arr[i]\n",
    "\n",
    "        if(compliment in freq_map):\n",
    "            res += freq_map[compliment]\n",
    "\n",
    "        if(arr[i] in freq_map):\n",
    "            freq_map[arr[i]] += 1\n",
    "        else:\n",
    "            freq_map[arr[i]] = 1\n",
    "    return res"
   ]
  },
  {
   "cell_type": "code",
   "execution_count": 16,
   "metadata": {},
   "outputs": [
    {
     "data": {
      "text/plain": [
       "2"
      ]
     },
     "execution_count": 16,
     "metadata": {},
     "output_type": "execute_result"
    }
   ],
   "source": [
    "arr = [1, 2, 3, 4, 3] \n",
    "k = 6\n",
    "#2 should be the output\n",
    "numberOfWays(arr,k)"
   ]
  },
  {
   "cell_type": "code",
   "execution_count": 17,
   "metadata": {},
   "outputs": [
    {
     "data": {
      "text/plain": [
       "4"
      ]
     },
     "execution_count": 17,
     "metadata": {},
     "output_type": "execute_result"
    }
   ],
   "source": [
    "arr = [1, 5, 3, 3, 3]\n",
    "k = 6\n",
    "#4 should be the output\n",
    "numberOfWays(arr,k)"
   ]
  },
  {
   "cell_type": "code",
   "execution_count": null,
   "metadata": {},
   "outputs": [],
   "source": []
  }
 ],
 "metadata": {
  "kernelspec": {
   "display_name": "leetcode",
   "language": "python",
   "name": "python3"
  },
  "language_info": {
   "codemirror_mode": {
    "name": "ipython",
    "version": 3
   },
   "file_extension": ".py",
   "mimetype": "text/x-python",
   "name": "python",
   "nbconvert_exporter": "python",
   "pygments_lexer": "ipython3",
   "version": "3.13.0"
  }
 },
 "nbformat": 4,
 "nbformat_minor": 2
}
