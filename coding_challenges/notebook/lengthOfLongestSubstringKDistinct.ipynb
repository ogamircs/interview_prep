{
 "cells": [
  {
   "cell_type": "markdown",
   "metadata": {},
   "source": [
    "Given a string s and an integer k, return the length of the longest substring of s that contains at most k distinct characters.\n",
    "\n",
    "Example 1:\n",
    "\n",
    "- Input: s = \"eceba\", k = 2\n",
    "- Output: 3\n",
    "- Explanation: The substring is \"ece\" with length 3.\n",
    "\n",
    "Example 2:\n",
    "\n",
    "- Input: s = \"aa\", k = 1\n",
    "- Output: 2\n",
    "- Explanation: The substring is \"aa\" with length 2.\n",
    " \n",
    "\n",
    "Constraints:\n",
    "\n",
    "`1 <= s.length <= 5 * 104`\n",
    "`0 <= k <= 50`"
   ]
  },
  {
   "cell_type": "code",
   "execution_count": 60,
   "metadata": {},
   "outputs": [],
   "source": [
    "class Solution:\n",
    "    def lengthOfLongestSubstringKDistinct(self, s: str, k: int) -> int:\n",
    "        i = 0\n",
    "        j = len(s)-1\n",
    "        max = 0\n",
    "        while(i<=j):\n",
    "            dist_chars = len(set(s[i:(j+1)]))\n",
    "            if(dist_chars>k):\n",
    "                p = j\n",
    "                while(j>i):\n",
    "                    j -= 1\n",
    "                    res1 = self.lengthOfLongestSubstringKDistinct(s[i:j+1], k)\n",
    "                    if(res1>max):\n",
    "                        max = res1\n",
    "                j = p\n",
    "                i = i+1\n",
    "                res2 = self.lengthOfLongestSubstringKDistinct(s[i:j+1], k)\n",
    "                if(res2>max):\n",
    "                    max = res2\n",
    "                #findSubStr(s, i, j-1, k)\n",
    "            elif(dist_chars<=k):\n",
    "                res3 = (j-i)+1\n",
    "                if(res3>max):\n",
    "                    max = res3\n",
    "                return max\n",
    "        return max\n",
    "t = Solution()"
   ]
  },
  {
   "cell_type": "code",
   "execution_count": 84,
   "metadata": {},
   "outputs": [],
   "source": [
    "class Solution:\n",
    "    def lengthOfLongestSubstringKDistinct(self, s: str, k: int) -> int:\n",
    "        L = len(s)\n",
    "        if(k==0): return 0\n",
    "        res = 1\n",
    "        for i in range(L):\n",
    "            for j in range(i):\n",
    "                print(s[j:(i+1)])\n",
    "                if(len(set(s[j:(i+1)]))<=k):\n",
    "                    m = (i-j)+1\n",
    "                    if(m>res):\n",
    "                        res = m\n",
    "        return res\n",
    "t = Solution()"
   ]
  },
  {
   "cell_type": "code",
   "execution_count": 88,
   "metadata": {},
   "outputs": [],
   "source": [
    "from collections import Counter\n",
    "class Solution:\n",
    "    def lengthOfLongestSubstringKDistinct(self, s: str, k: int) -> int:\n",
    "        n = len(s)\n",
    "        if k >= n:\n",
    "            return n\n",
    "        left, right = k, n\n",
    "        \n",
    "        def isValid(size):\n",
    "            counter = Counter(s[:size])\n",
    "            if len(counter) <= k:\n",
    "                return True\n",
    "            for i in range(size, n):\n",
    "                counter[s[i]] += 1\n",
    "                counter[s[i - size]] -= 1\n",
    "                if counter[s[i - size]] == 0:\n",
    "                    del counter[s[i - size]]\n",
    "                if len(counter) <= k:\n",
    "                    return True\n",
    "            return False\n",
    "        \n",
    "        while left < right:\n",
    "            mid = (left + right + 1) // 2\n",
    "            \n",
    "            if isValid(mid):\n",
    "                left = mid\n",
    "            else:\n",
    "                right = mid - 1\n",
    "        \n",
    "        return left\n",
    "t = Solution()"
   ]
  },
  {
   "cell_type": "code",
   "execution_count": 89,
   "metadata": {},
   "outputs": [
    {
     "name": "stdout",
     "output_type": "stream",
     "text": [
      "Answer is: 3\n"
     ]
    }
   ],
   "source": [
    "s = \"eceba\"\n",
    "k = 2\n",
    "print(f\"Answer is: {t.lengthOfLongestSubstringKDistinct(s,k)}\")\n",
    "#Explanation: The substring is \"ece\" with length 3."
   ]
  },
  {
   "cell_type": "code",
   "execution_count": 90,
   "metadata": {},
   "outputs": [
    {
     "name": "stdout",
     "output_type": "stream",
     "text": [
      "Answer is: 2\n"
     ]
    }
   ],
   "source": [
    "s = \"aa\"\n",
    "k = 1\n",
    "print(f\"Answer is: {t.lengthOfLongestSubstringKDistinct(s,k)}\")\n",
    "#Explanation: The substring is \"ece\" with length 3."
   ]
  }
 ],
 "metadata": {
  "kernelspec": {
   "display_name": "leetcode",
   "language": "python",
   "name": "python3"
  },
  "language_info": {
   "codemirror_mode": {
    "name": "ipython",
    "version": 3
   },
   "file_extension": ".py",
   "mimetype": "text/x-python",
   "name": "python",
   "nbconvert_exporter": "python",
   "pygments_lexer": "ipython3",
   "version": "3.13.0"
  }
 },
 "nbformat": 4,
 "nbformat_minor": 2
}
