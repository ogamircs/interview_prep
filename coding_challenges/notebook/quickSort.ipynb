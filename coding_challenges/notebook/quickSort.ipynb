{
 "cells": [
  {
   "cell_type": "code",
   "execution_count": 5,
   "metadata": {},
   "outputs": [],
   "source": [
    "def quickSort(arr):\n",
    "    L = len(arr)\n",
    "    if(L<=1):\n",
    "        return arr\n",
    "    pivot = arr[0]   \n",
    "    right = []\n",
    "    left = []\n",
    "    for i in range(1, L):\n",
    "        if(arr[i]<=pivot):\n",
    "            left.append(arr[i])\n",
    "        else:\n",
    "            right.append(arr[i])\n",
    "    return quickSort(left) + [pivot] + quickSort(right)"
   ]
  },
  {
   "cell_type": "code",
   "execution_count": 6,
   "metadata": {},
   "outputs": [
    {
     "data": {
      "text/plain": [
       "[1, 2, 3, 4]"
      ]
     },
     "execution_count": 6,
     "metadata": {},
     "output_type": "execute_result"
    }
   ],
   "source": [
    "quickSort([1,3,2,4])"
   ]
  },
  {
   "cell_type": "code",
   "execution_count": 11,
   "metadata": {},
   "outputs": [
    {
     "name": "stdout",
     "output_type": "stream",
     "text": [
      "[10, 12, 17, 20, 22, 30, 31, 35, 39, 46, 48, 52, 54, 61, 64, 65, 68, 69, 74, 79, 86, 88, 90, 95, 97, 99, 103, 108, 117, 120, 121, 128, 136, 139, 141, 142, 143, 149, 150, 157, 160, 162, 171, 172, 177, 183, 184, 187, 196, 200, 204, 209, 220, 222, 226, 233, 234, 238, 239, 252, 263, 266, 270, 273, 275, 288, 293, 312, 316, 317, 318, 321, 323, 331, 356, 359, 364, 390, 392, 398, 406, 415, 418, 421, 422, 440, 441, 443, 444, 448, 450, 452, 467, 472, 481, 483, 488, 493, 496, 497]\n"
     ]
    }
   ],
   "source": [
    "s =\"406 157 415 318 472 46 252 187 364 481 450 90 390 35 452 74 196 312 142 160 143 220 483 392 443 488 79 234 68 150 356 496 69 88 177 12 288 120 222 270 441 422 103 321 65 316 448 331 117 183 184 128 323 141 467 31 172 48 95 359 239 209 398 99 440 171 86 233 293 162 121 61 317 52 54 273 30 226 421 64 204 444 418 275 263 108 10 149 497 20 97 136 139 200 266 238 493 22 17 39\"\n",
    "arr = s.split()\n",
    "L = len(arr)\n",
    "for i in range(L):\n",
    "    arr[i] = int(arr[i])\n",
    "print(quickSort(arr))"
   ]
  },
  {
   "cell_type": "code",
   "execution_count": null,
   "metadata": {},
   "outputs": [],
   "source": []
  }
 ],
 "metadata": {
  "kernelspec": {
   "display_name": "leetcode",
   "language": "python",
   "name": "python3"
  },
  "language_info": {
   "codemirror_mode": {
    "name": "ipython",
    "version": 3
   },
   "file_extension": ".py",
   "mimetype": "text/x-python",
   "name": "python",
   "nbconvert_exporter": "python",
   "pygments_lexer": "ipython3",
   "version": "3.13.0"
  }
 },
 "nbformat": 4,
 "nbformat_minor": 2
}
