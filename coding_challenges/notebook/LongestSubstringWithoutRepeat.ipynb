{
 "cells": [
  {
   "cell_type": "code",
   "execution_count": 6,
   "metadata": {},
   "outputs": [],
   "source": [
    "import numpy as np\n",
    "import pandas as pd"
   ]
  },
  {
   "cell_type": "code",
   "execution_count": 26,
   "metadata": {},
   "outputs": [
    {
     "data": {
      "text/plain": [
       "3"
      ]
     },
     "execution_count": 26,
     "metadata": {},
     "output_type": "execute_result"
    }
   ],
   "source": [
    "s = \"pwwkew\"\n",
    "\n",
    "def lengthOfLongestSubstring(s):\n",
    "    def check_substr(sub):\n",
    "        L = len(sub)\n",
    "        valid = True\n",
    "        for i  in range(L):\n",
    "            if (i<L) & (sub[i] in sub[i+1:L]):\n",
    "                valid = False\n",
    "        return valid\n",
    "    l = 1 \n",
    "    if(len(s)==0):\n",
    "        return 0\n",
    "    for i in range(len(s)):\n",
    "        for j in range(i):\n",
    "            sub = s[j:(i+1)]\n",
    "            if(check_substr(sub)):\n",
    "                if l<len(sub):\n",
    "                    l = len(sub)\n",
    "    return l\n",
    "\n",
    "lengthOfLongestSubstring(s)"
   ]
  },
  {
   "cell_type": "code",
   "execution_count": 1,
   "metadata": {},
   "outputs": [
    {
     "name": "stdout",
     "output_type": "stream",
     "text": [
      "3\n"
     ]
    }
   ],
   "source": [
    "from collections import Counter\n",
    "\n",
    "def lengthOfLongestSubstring(s):\n",
    "    chars = Counter()\n",
    "    left = right = 0\n",
    "    res = 0\n",
    "    while(right < len(s)):\n",
    "        right_char = s[right]\n",
    "        chars[right_char] += 1\n",
    "\n",
    "        while(chars[right_char]>1):\n",
    "            left_char = s[left]\n",
    "            chars[left_char] -= 1\n",
    "            left += 1\n",
    "\n",
    "        res = max(res, right - left + 1)\n",
    "        right += 1\n",
    "\n",
    "    return res\n",
    "\n",
    "s = \"pwwkew\"\n",
    "#s = \"abcabcbb\"\n",
    "#s = \"aabcab\"\n",
    "#s = \"aaaaa\"\n",
    "#s = \"\"\n",
    "#s = \"abcd\"\n",
    "print(lengthOfLongestSubstring(s))"
   ]
  },
  {
   "cell_type": "code",
   "execution_count": null,
   "metadata": {},
   "outputs": [],
   "source": []
  }
 ],
 "metadata": {
  "kernelspec": {
   "display_name": "base",
   "language": "python",
   "name": "python3"
  },
  "language_info": {
   "codemirror_mode": {
    "name": "ipython",
    "version": 3
   },
   "file_extension": ".py",
   "mimetype": "text/x-python",
   "name": "python",
   "nbconvert_exporter": "python",
   "pygments_lexer": "ipython3",
   "version": "3.11.9"
  }
 },
 "nbformat": 4,
 "nbformat_minor": 2
}
