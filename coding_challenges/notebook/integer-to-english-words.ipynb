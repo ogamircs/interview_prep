{
 "cells": [
  {
   "cell_type": "code",
   "execution_count": 65,
   "metadata": {},
   "outputs": [],
   "source": [
    "def numberToWords(num):\n",
    "    def numberToWords1K(num):\n",
    "        word = dict()\n",
    "        word[1] = \"One\"\n",
    "        word[2] = \"Two\"\n",
    "        word[3] = \"Three\"\n",
    "        word[4] = \"Four\"\n",
    "        word[5] = \"Five\"\n",
    "        word[6] = \"Six\"\n",
    "        word[7] = \"Seven\"\n",
    "        word[8] = \"Eight\"\n",
    "        word[9] = \"Nine\"\n",
    "        word[10] = \"Ten\"\n",
    "        word[11] = \"Eleven\"\n",
    "        word[12] = \"Twelve\"\n",
    "        word[13] = \"Thirteen\"\n",
    "        word[14] = \"Fourteen\"\n",
    "        word[15] = \"Fifteen\"\n",
    "        word[16] = \"Sixteen\"\n",
    "        word[17] = \"Seventeen\"\n",
    "        word[18] = \"Eighteen\"\n",
    "        word[19] = \"Nineteen\"\n",
    "        word[20] = \"Twenty\"\n",
    "        word[30] = \"Thirty\"\n",
    "        word[40] = \"Forty\"\n",
    "        word[50] = \"Fifty\"\n",
    "        word[60] = \"Sixty\"\n",
    "        word[70] = \"Seventy\"\n",
    "        word[80] = \"Eighty\"\n",
    "        word[90] = \"Ninety\"\n",
    "\n",
    "        s_num = str(num)\n",
    "        length = len(s_num)\n",
    "\n",
    "        if((num>0) and (num<=20)):\n",
    "            return word[num]\n",
    "        \n",
    "        out = []\n",
    "        for i in range(length):\n",
    "            n = (int(s_num[i])*(pow(10,length-i-1)))\n",
    "            if((n>0) and (n<100)):\n",
    "                if((i==(length-2)) and (s_num[i+1]!='0') and (s_num[i]=='1')):\n",
    "                    n += (int(s_num[i+1])*(pow(10,length-i-2)))\n",
    "                    out.append(word[n])\n",
    "                    break\n",
    "                out.append(word[n])\n",
    "            elif((n>=100) and (n<1000)):\n",
    "                out.append(word[n/100])\n",
    "                out.append(\"Hundred\")\n",
    "        return \" \".join(out).strip()\n",
    "\n",
    "    if(num==0):\n",
    "        return \"Zero\"\n",
    "\n",
    "    res = []\n",
    "    if((num//1000)==0):\n",
    "        res.append(numberToWords1K(num))\n",
    "    elif((num//1000000)==0):\n",
    "        res.append(numberToWords1K(num//1000))\n",
    "        res.append(\"Thousand\")\n",
    "        res.append(numberToWords1K(int((num/1000-(num//1000))*1000)))\n",
    "    elif((num//1000000000)==0):\n",
    "        res.append(numberToWords1K(num//1000000))\n",
    "        res.append(\"Million\")\n",
    "        res.append(numberToWords1K(num//1000))\n",
    "        res.append(\"Thousand\")\n",
    "        res.append(numberToWords1K(int((num/1000-(num//1000))*1000)))\n",
    "    elif((num//1000000000000)==0):\n",
    "        res.append(numberToWords1K(num//1000000000))\n",
    "        res.append(\"Billion\")\n",
    "        res.append(numberToWords1K(num//1000000))\n",
    "        res.append(\"Million\")\n",
    "        res.append(numberToWords1K(num//1000))\n",
    "        res.append(\"Thousand\")\n",
    "        res.append(numberToWords1K(int((num/1000-(num//1000))*1000)))\n",
    "    \n",
    "    return \" \".join(res).strip()"
   ]
  },
  {
   "cell_type": "code",
   "execution_count": 66,
   "metadata": {},
   "outputs": [
    {
     "name": "stdout",
     "output_type": "stream",
     "text": [
      "Thirty\n"
     ]
    }
   ],
   "source": [
    "num = 30\n",
    "print(numberToWords(num))"
   ]
  },
  {
   "cell_type": "code",
   "execution_count": 68,
   "metadata": {},
   "outputs": [
    {
     "name": "stdout",
     "output_type": "stream",
     "text": [
      "One Thousand\n"
     ]
    }
   ],
   "source": [
    "num = 1001\n",
    "print(numberToWords(num))"
   ]
  },
  {
   "cell_type": "code",
   "execution_count": 67,
   "metadata": {},
   "outputs": [
    {
     "name": "stdout",
     "output_type": "stream",
     "text": [
      "Two Hundred Twenty Three\n"
     ]
    }
   ],
   "source": [
    "num = 223\n",
    "print(numberToWords(num))"
   ]
  },
  {
   "cell_type": "code",
   "execution_count": 57,
   "metadata": {},
   "outputs": [
    {
     "name": "stdout",
     "output_type": "stream",
     "text": [
      "One Thousand Two Hundred Twenty Three\n"
     ]
    }
   ],
   "source": [
    "num = 1223\n",
    "print(numberToWords(num))"
   ]
  },
  {
   "cell_type": "code",
   "execution_count": 58,
   "metadata": {},
   "outputs": [
    {
     "name": "stdout",
     "output_type": "stream",
     "text": [
      "Twelve Thousand Three Hundred Forty Five\n"
     ]
    }
   ],
   "source": [
    "num = 12345\n",
    "print(numberToWords(num))"
   ]
  },
  {
   "cell_type": "code",
   "execution_count": 59,
   "metadata": {},
   "outputs": [
    {
     "name": "stdout",
     "output_type": "stream",
     "text": [
      "One Million Two Hundred Thirty Four Thousand Five Hundred Sixty Seven\n"
     ]
    }
   ],
   "source": [
    "num = 1234567\n",
    "print(numberToWords(num))"
   ]
  },
  {
   "cell_type": "code",
   "execution_count": 60,
   "metadata": {},
   "outputs": [
    {
     "name": "stdout",
     "output_type": "stream",
     "text": [
      "One Hundred Thirty Four Thousand Two Hundred Twenty Three\n"
     ]
    }
   ],
   "source": [
    "num = 134223\n",
    "print(numberToWords(num))"
   ]
  },
  {
   "cell_type": "code",
   "execution_count": 61,
   "metadata": {},
   "outputs": [
    {
     "name": "stdout",
     "output_type": "stream",
     "text": [
      "Nine Hundred Ninety Nine Thousand Two Hundred Twenty Two\n"
     ]
    }
   ],
   "source": [
    "num = 999223\n",
    "print(numberToWords(num))"
   ]
  },
  {
   "cell_type": "code",
   "execution_count": 26,
   "metadata": {},
   "outputs": [
    {
     "name": "stdout",
     "output_type": "stream",
     "text": [
      "One Million Nine Hundred Ninty Nine Thousand Two Hundred Twenty Two \n"
     ]
    }
   ],
   "source": [
    "num = 1999223\n",
    "print(numberToWords(num))"
   ]
  },
  {
   "cell_type": "code",
   "execution_count": null,
   "metadata": {},
   "outputs": [],
   "source": []
  }
 ],
 "metadata": {
  "kernelspec": {
   "display_name": "leetcode",
   "language": "python",
   "name": "python3"
  },
  "language_info": {
   "codemirror_mode": {
    "name": "ipython",
    "version": 3
   },
   "file_extension": ".py",
   "mimetype": "text/x-python",
   "name": "python",
   "nbconvert_exporter": "python",
   "pygments_lexer": "ipython3",
   "version": "3.13.0"
  }
 },
 "nbformat": 4,
 "nbformat_minor": 2
}
