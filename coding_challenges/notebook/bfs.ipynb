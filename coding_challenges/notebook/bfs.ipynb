{
 "cells": [
  {
   "cell_type": "code",
   "execution_count": 14,
   "metadata": {},
   "outputs": [],
   "source": [
    "from heapq import heappush, heappop\n",
    "from collections import deque"
   ]
  },
  {
   "cell_type": "code",
   "execution_count": 1,
   "metadata": {},
   "outputs": [],
   "source": [
    "def bfs(n, m, edges, s):\n",
    "    #build adjacency matrix\n",
    "    adj_matrix = {i: [] for i in range(1,n+1)}\n",
    "    for e in edges:\n",
    "        adj_matrix[e[0]].append(e[1])\n",
    "        adj_matrix[e[1]].append(e[0])\n",
    "    print(adj_matrix)\n",
    "    #now bfs through adj matrix\n",
    "    out = [-1] * n  # Distances array, -1 for unreachable nodes\n",
    "    visited = set()\n",
    "    queue = deque([s]) \n",
    "    out[s - 1] = 0\n",
    "    # Step 3: Perform BFS\n",
    "    while queue:\n",
    "        current = queue.popleft()\n",
    "        visited.add(current)\n",
    "\n",
    "        # Traverse neighbors using a for loop\n",
    "        for neighbor in adj_matrix[current]:\n",
    "            if neighbor not in visited:  # Only visit unvisited nodes\n",
    "                visited.add(neighbor)\n",
    "                queue.append(neighbor)\n",
    "                out[neighbor - 1] = out[current - 1] + 6  # Increment distance by weight (6)\n",
    "    zero_ind = out.index(0)\n",
    "    return out[0:zero_ind]+out[zero_ind+1:n]"
   ]
  },
  {
   "cell_type": "code",
   "execution_count": 3,
   "metadata": {},
   "outputs": [
    {
     "name": "stdout",
     "output_type": "stream",
     "text": [
      "{1: [2, 3], 2: [1], 3: [1, 4], 4: [3], 5: []}\n"
     ]
    },
    {
     "data": {
      "text/plain": [
       "[6, 6, 12, -1]"
      ]
     },
     "execution_count": 3,
     "metadata": {},
     "output_type": "execute_result"
    }
   ],
   "source": [
    "bfs(5,2,[[1,2],[1,3],[3,4]],1)"
   ]
  },
  {
   "cell_type": "code",
   "execution_count": 4,
   "metadata": {},
   "outputs": [
    {
     "name": "stdout",
     "output_type": "stream",
     "text": [
      "{1: [2, 3], 2: [1], 3: [1], 4: [], 5: []}\n"
     ]
    },
    {
     "data": {
      "text/plain": [
       "[6, 6, -1, -1]"
      ]
     },
     "execution_count": 4,
     "metadata": {},
     "output_type": "execute_result"
    }
   ],
   "source": [
    "bfs(5,2,[[1,2],[1,3]],1)"
   ]
  },
  {
   "cell_type": "code",
   "execution_count": 5,
   "metadata": {},
   "outputs": [],
   "source": [
    "queue = deque([0])"
   ]
  },
  {
   "cell_type": "code",
   "execution_count": 6,
   "metadata": {},
   "outputs": [
    {
     "data": {
      "text/plain": [
       "deque([0])"
      ]
     },
     "execution_count": 6,
     "metadata": {},
     "output_type": "execute_result"
    }
   ],
   "source": [
    "queue"
   ]
  },
  {
   "cell_type": "code",
   "execution_count": 11,
   "metadata": {},
   "outputs": [],
   "source": [
    "def quickestWayUp(ladders, snakes):\n",
    "    BOARD_SIZE = 100\n",
    "    DICE_ROLL = [1, 2, 3, 4, 5, 6]\n",
    "\n",
    "    # Step 1: Build the adjacency matrix\n",
    "    adj_matrix = {i: [] for i in range(BOARD_SIZE)}\n",
    "\n",
    "    # Step 2: Precompute ladder and snake mappings for efficient lookup\n",
    "    special_squares = {start - 1: end - 1 for start, end in ladders + snakes}\n",
    "\n",
    "    # Step 3: Fill adjacency matrix considering ladders and snakes\n",
    "    for i in range(BOARD_SIZE):\n",
    "        if i in special_squares:\n",
    "            # If a ladder or snake exists, override moves to its destination\n",
    "            adj_matrix[i] = [special_squares[i]]\n",
    "        else:\n",
    "            # Otherwise, add all possible dice moves\n",
    "            for roll in DICE_ROLL:\n",
    "                next_square = i + roll\n",
    "                if next_square < BOARD_SIZE:\n",
    "                    # Check if the next square is a ladder or snake\n",
    "                    if next_square in special_squares:\n",
    "                        adj_matrix[i].append(special_squares[next_square])\n",
    "                    else:\n",
    "                        adj_matrix[i].append(next_square)\n",
    "\n",
    "    # Step 4: Perform BFS to find the shortest path\n",
    "    distances = [-1] * BOARD_SIZE  # Initialize distances to -1\n",
    "    distances[0] = 0  # Starting square has distance 0\n",
    "    queue = deque([0])  # Start BFS from square 0\n",
    "\n",
    "    while queue:\n",
    "        current = queue.popleft()\n",
    "\n",
    "        for neighbor in adj_matrix[current]:\n",
    "            if distances[neighbor] == -1:  # Not visited\n",
    "                distances[neighbor] = distances[current] + 1\n",
    "                queue.append(neighbor)\n",
    "\n",
    "    # Return the shortest path to the last square\n",
    "    return distances[BOARD_SIZE - 1]"
   ]
  },
  {
   "cell_type": "code",
   "execution_count": 13,
   "metadata": {},
   "outputs": [
    {
     "data": {
      "text/plain": [
       "[0, 1, 2, 3, 4, 5, 6, 7, 8, 2]"
      ]
     },
     "execution_count": 13,
     "metadata": {},
     "output_type": "execute_result"
    }
   ],
   "source": [
    "quickestWayUp([[2,10]],[[8,2]])"
   ]
  },
  {
   "cell_type": "code",
   "execution_count": null,
   "metadata": {},
   "outputs": [],
   "source": []
  }
 ],
 "metadata": {
  "kernelspec": {
   "display_name": "leetcode",
   "language": "python",
   "name": "python3"
  },
  "language_info": {
   "codemirror_mode": {
    "name": "ipython",
    "version": 3
   },
   "file_extension": ".py",
   "mimetype": "text/x-python",
   "name": "python",
   "nbconvert_exporter": "python",
   "pygments_lexer": "ipython3",
   "version": "3.13.0"
  }
 },
 "nbformat": 4,
 "nbformat_minor": 2
}
