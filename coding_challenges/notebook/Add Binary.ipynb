{
 "cells": [
  {
   "cell_type": "code",
   "execution_count": 44,
   "metadata": {},
   "outputs": [],
   "source": [
    "def addBinary(a: str, b: str) -> str:\n",
    "    La = len(a)\n",
    "    Lb = len(b)\n",
    "    if(La>Lb):\n",
    "        b = b.zfill((La-Lb)+Lb)\n",
    "    elif(Lb>La):\n",
    "        a = a.zfill((Lb-La)+La)\n",
    "    co = '0'\n",
    "    res = dict()\n",
    "    for i in reversed(range(len(a))):\n",
    "        num_ons = 0\n",
    "        if((a[i]=='1')): num_ons += 1\n",
    "        if((b[i]=='1')): num_ons += 1\n",
    "        if((co=='1')): num_ons += 1\n",
    "\n",
    "        if(num_ons==0):\n",
    "            res[i+1] = '0'\n",
    "            co = '0'\n",
    "        elif(num_ons==1):\n",
    "            res[i+1] = '1'\n",
    "            co = '0'\n",
    "        elif(num_ons==2):\n",
    "            res[i+1] = '0'\n",
    "            co = '1'\n",
    "        elif(num_ons==3):\n",
    "            res[i+1] = '1'\n",
    "            co = '1'\n",
    "        if(i==0):\n",
    "            if(co=='1'):\n",
    "                res[i]='1'\n",
    "    \n",
    "    output = \"\"\n",
    "    for c in reversed(list(res.values())):\n",
    "        output += c\n",
    "    return output"
   ]
  },
  {
   "cell_type": "code",
   "execution_count": 45,
   "metadata": {},
   "outputs": [
    {
     "data": {
      "text/plain": [
       "'100'"
      ]
     },
     "execution_count": 45,
     "metadata": {},
     "output_type": "execute_result"
    }
   ],
   "source": [
    "a = \"11\" \n",
    "b = \"1\"\n",
    "addBinary(a,b)"
   ]
  },
  {
   "cell_type": "code",
   "execution_count": 46,
   "metadata": {},
   "outputs": [
    {
     "data": {
      "text/plain": [
       "'110110'"
      ]
     },
     "execution_count": 46,
     "metadata": {},
     "output_type": "execute_result"
    }
   ],
   "source": [
    "a = \"100\"\n",
    "b = \"110010\"\n",
    "addBinary(a,b)"
   ]
  },
  {
   "cell_type": "code",
   "execution_count": null,
   "metadata": {},
   "outputs": [],
   "source": []
  }
 ],
 "metadata": {
  "kernelspec": {
   "display_name": "econml",
   "language": "python",
   "name": "python3"
  },
  "language_info": {
   "codemirror_mode": {
    "name": "ipython",
    "version": 3
   },
   "file_extension": ".py",
   "mimetype": "text/x-python",
   "name": "python",
   "nbconvert_exporter": "python",
   "pygments_lexer": "ipython3",
   "version": "3.12.4"
  }
 },
 "nbformat": 4,
 "nbformat_minor": 2
}
